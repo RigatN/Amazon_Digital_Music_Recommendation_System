{
 "cells": [
  {
   "cell_type": "markdown",
   "metadata": {},
   "source": [
    "# Amazon Music Recommender"
   ]
  },
  {
   "cell_type": "markdown",
   "metadata": {},
   "source": [
    "## Overview"
   ]
  },
  {
   "cell_type": "markdown",
   "metadata": {},
   "source": [
    "> In this project, I aim to develop a collaborative filtering recommendation system tailored for Amazon digital music. By leveraging user interactions with music items, such as ratings or purchase histories, the system will analyze patterns and similarities among users and items to generate personalized music recommendations. The project will involve preprocessing the Amazon digital music dataset, training various collaborative filtering models, and evaluating their performance using metrics such as accuracy and coverage. Ultimately, the goal is to deploy a robust recommendation system that enhances the user experience by providing relevant and personalized music suggestions based on their preferences and behaviors.\n"
   ]
  },
  {
   "cell_type": "markdown",
   "metadata": {},
   "source": [
    "## Business Understanding"
   ]
  },
  {
   "cell_type": "markdown",
   "metadata": {},
   "source": [
    "> In the dynamic landscape of digital music, platforms like Amazon face the perpetual challenge of enhancing user engagement and satisfaction. With an abundance of music choices available, users often struggle to discover content that resonates with their preferences. To address this, Amazon is implementing a collaborative and content based filtering recommendation system aimed at providing personalized music suggestions. This initiative serves the needs of both users, who seek streamlined music discovery experiences, and Amazon, which aims to boost user retention, loyalty, and ultimately, revenue. By leveraging user data to tailor recommendations, Amazon not only fosters a more enjoyable user experience but also potentially increases sales through enhanced engagement with relevant music content."
   ]
  },
  {
   "cell_type": "markdown",
   "metadata": {},
   "source": [
    "# Data Understanding"
   ]
  },
  {
   "cell_type": "markdown",
   "metadata": {},
   "source": [
    "> The dataset, was pulled from a compiled dataset of Amazon.The data set can be found in [here](https://nijianmo.github.io/amazon/index.html).The data contains two zipped JSON files: the review and metadata. Due to the large size of the data, GitHub couldn't allow me to upload it here, but it can be found on the link I provided above.\n",
    "\n",
    "> Given that the rating distribution is not normal, it could influence our recommendation system model. Hence, we'll generate a new normalized rating column by subtracting the average rating of each reviewID from the original rating."
   ]
  },
  {
   "cell_type": "code",
   "execution_count": 1,
   "metadata": {},
   "outputs": [],
   "source": [
    "#imports\n",
    "import pandas as pd\n",
    "import pickle\n",
    "import matplotlib.pyplot as plt\n",
    "import seaborn as sns\n",
    "import numpy as np\n",
    "\n",
    "from surprise import Dataset, Reader, accuracy , KNNWithMeans\n",
    "from surprise.model_selection import cross_validate, train_test_split, GridSearchCV\n",
    "from surprise.prediction_algorithms import SVD, SVDpp, NormalPredictor , BaselineOnly\n",
    "\n",
    "plt.style.use('fast')\n",
    "%matplotlib inline"
   ]
  },
  {
   "cell_type": "code",
   "execution_count": 2,
   "metadata": {},
   "outputs": [],
   "source": [
    "# Read the CSV file 'music_review.csv' from the './Data/' directory into a DataFrame named 'music_review2'\n",
    "music_review2 = pd.read_csv('./Data/music_review.csv')"
   ]
  },
  {
   "cell_type": "code",
   "execution_count": 3,
   "metadata": {},
   "outputs": [
    {
     "data": {
      "text/plain": [
       "456811"
      ]
     },
     "execution_count": 3,
     "metadata": {},
     "output_type": "execute_result"
    }
   ],
   "source": [
    "music_review2.asin.nunique()"
   ]
  },
  {
   "cell_type": "code",
   "execution_count": 4,
   "metadata": {},
   "outputs": [
    {
     "data": {
      "text/plain": [
       "839565"
      ]
     },
     "execution_count": 4,
     "metadata": {},
     "output_type": "execute_result"
    }
   ],
   "source": [
    "music_review2.reviewerID.nunique()"
   ]
  },
  {
   "cell_type": "code",
   "execution_count": 5,
   "metadata": {
    "scrolled": true
   },
   "outputs": [
    {
     "data": {
      "text/plain": [
       "Unnamed: 0     0\n",
       "overall        0\n",
       "reviewerID     0\n",
       "asin           0\n",
       "reviewText    77\n",
       "dtype: int64"
      ]
     },
     "execution_count": 5,
     "metadata": {},
     "output_type": "execute_result"
    }
   ],
   "source": [
    "music_review2.isna().sum()"
   ]
  },
  {
   "cell_type": "code",
   "execution_count": 6,
   "metadata": {},
   "outputs": [],
   "source": [
    "# Drop the 'Unnamed: 0' column from the DataFrame 'music_review2'\n",
    "music_review2 = music_review2.drop('Unnamed: 0', axis=1)"
   ]
  },
  {
   "cell_type": "code",
   "execution_count": 7,
   "metadata": {},
   "outputs": [],
   "source": [
    "music_review2.dropna(inplace=True)"
   ]
  },
  {
   "cell_type": "markdown",
   "metadata": {},
   "source": [
    "grouby by asin and join review text "
   ]
  },
  {
   "cell_type": "code",
   "execution_count": 8,
   "metadata": {
    "scrolled": true
   },
   "outputs": [
    {
     "data": {
      "text/plain": [
       "reviewerID\n",
       "A3W4D8XOGLWUN5    1255\n",
       "AQ4B80F0JSBNI      660\n",
       "A1Q0BU32CVOLRA     638\n",
       "A2WQY1B8ZS7QRZ     534\n",
       "A2H3JURQZOHVMB     484\n",
       "                  ... \n",
       "A2LZCQX4PYF0F2       1\n",
       "A783IMVI42EOH        1\n",
       "AR7NVP4CS7XRE        1\n",
       "ABN887FO84AES        1\n",
       "AMWSDABZWFRAT        1\n",
       "Name: count, Length: 839525, dtype: int64"
      ]
     },
     "execution_count": 8,
     "metadata": {},
     "output_type": "execute_result"
    }
   ],
   "source": [
    "music_review2.reviewerID.value_counts()"
   ]
  },
  {
   "cell_type": "markdown",
   "metadata": {},
   "source": [
    "> Let's eliminate rows with a total review and asin(song) count of one, as they are unlikely to significantly impact our model."
   ]
  },
  {
   "cell_type": "code",
   "execution_count": 9,
   "metadata": {},
   "outputs": [],
   "source": [
    "# Count the occurrences of each reviewer ID\n",
    "reviewer_counts = music_review2['reviewerID'].value_counts()\n",
    "\n",
    "# Find reviewer IDs with count equals to 1\n",
    "reviewer_ids_to_drop = reviewer_counts[reviewer_counts == 1].index\n",
    "\n",
    "# Drop rows where reviewer ID is in the list of IDs to drop\n",
    "music_review2 = music_review2[~music_review2['reviewerID'].isin(reviewer_ids_to_drop)]\n"
   ]
  },
  {
   "cell_type": "code",
   "execution_count": 10,
   "metadata": {
    "scrolled": true
   },
   "outputs": [
    {
     "data": {
      "text/plain": [
       "asin\n",
       "B00CZF8B68    1661\n",
       "B00M8JCW3E     865\n",
       "B00NPZI1ZS     767\n",
       "B00BWGHIHY     762\n",
       "B0092MKTL2     746\n",
       "              ... \n",
       "B004JE0C0G       1\n",
       "B004JE25TM       1\n",
       "B004JEPQ52       1\n",
       "B004JESO3I       1\n",
       "B01HJ91IVY       1\n",
       "Name: count, Length: 333623, dtype: int64"
      ]
     },
     "execution_count": 10,
     "metadata": {},
     "output_type": "execute_result"
    }
   ],
   "source": [
    "music_review2.asin.value_counts()"
   ]
  },
  {
   "cell_type": "code",
   "execution_count": 11,
   "metadata": {},
   "outputs": [],
   "source": [
    "# Count the occurrences of each reviewer ID\n",
    "asin_counts = music_review2['asin'].value_counts()\n",
    "\n",
    "# Find reviewer IDs with count equals to 1\n",
    "asin_to_drop = asin_counts[asin_counts == 1].index\n",
    "\n",
    "# Drop rows where reviewer ID is in the list of IDs to drop\n",
    "music_review2 = music_review2[~music_review2['reviewerID'].isin(reviewer_ids_to_drop)]"
   ]
  },
  {
   "cell_type": "markdown",
   "metadata": {},
   "source": [
    "> Given that the rating distribution is not normal, it could influence our recommendation system model. Addressing the collaborative filtering aspect, the ratings exhibited a non-normal distribution. To mitigate bias, I subtracted the average rating given by each user to all items from each item rated by that user."
   ]
  },
  {
   "cell_type": "code",
   "execution_count": 12,
   "metadata": {
    "scrolled": false
   },
   "outputs": [
    {
     "name": "stderr",
     "output_type": "stream",
     "text": [
      "C:\\Users\\Windows-10\\anaconda3\\envs\\learn-env\\lib\\site-packages\\seaborn\\_decorators.py:36: FutureWarning: Pass the following variable as a keyword arg: x. From version 0.12, the only valid positional argument will be `data`, and passing other arguments without an explicit keyword will result in an error or misinterpretation.\n",
      "  warnings.warn(\n"
     ]
    },
    {
     "data": {
      "image/png": "[encoded data removed]",
      "text/plain": [
       "<Figure size 432x288 with 1 Axes>"
      ]
     },
     "metadata": {
      "needs_background": "light"
     },
     "output_type": "display_data"
    }
   ],
   "source": [
    "sns.boxenplot(music_review2.overall)\n",
    "plt.xlabel('Rating')\n",
    "plt.savefig('./Images/distribution_of_rating.png')\n",
    "\n",
    "# Show the plot\n",
    "plt.show()"
   ]
  },
  {
   "cell_type": "markdown",
   "metadata": {},
   "source": [
    ">This code snippet performs data preprocessing steps to standardize the ratings in the 'overall' column of the 'music_review2' DataFrame. Firstly, the ratings are converted to integers to ensure consistency and facilitate further calculations. Next, the average rating for each reviewer is computed, providing a baseline for individual rating tendencies. By merging these average ratings back into the original DataFrame, reviewers' deviation from their typical rating behavior can be assessed. This deviation, represented by the 'normalized_rating' column, is calculated by subtracting each reviewer's average rating from their actual rating. The resulting 'normalized_rating' values range from approximately -3.97 to 3.89, indicating the extent of deviation from a reviewer's typical rating behavior. This preprocessing step helps mitigate biases arising from individual rating tendencies, ensuring a more equitable assessment of item ratings in subsequent analyses or recommendation systems."
   ]
  },
  {
   "cell_type": "code",
   "execution_count": 13,
   "metadata": {
    "scrolled": false
   },
   "outputs": [],
   "source": [
    "# Convert 'overall' column to integers\n",
    "music_review2['overall'] = music_review2['overall'].astype(int)\n",
    "\n",
    "# Calculate average rating for each reviewer\n",
    "reviewer_avg_ratings = music_review2.groupby('reviewerID')['overall'].mean().reset_index()\n",
    "\n",
    "# Merge the average ratings back into the DataFrame\n",
    "music_review2 = music_review2.merge(reviewer_avg_ratings, on='reviewerID', suffixes=('', '_avg'))\n",
    "\n",
    "# Subtract average rating from each rating\n",
    "music_review2['normalized_rating'] = music_review2['overall'] - music_review2['overall_avg']"
   ]
  },
  {
   "cell_type": "code",
   "execution_count": 14,
   "metadata": {
    "scrolled": true
   },
   "outputs": [
    {
     "data": {
      "text/plain": [
       "(-3.973140495867769, 3.891891891891892)"
      ]
     },
     "execution_count": 14,
     "metadata": {},
     "output_type": "execute_result"
    }
   ],
   "source": [
    "# Display the minimum and maximum values of the 'normalized_rating' column in the DataFrame 'music_review2'\n",
    "music_review2.normalized_rating.min(), music_review2.normalized_rating.max()"
   ]
  },
  {
   "cell_type": "code",
   "execution_count": 15,
   "metadata": {
    "scrolled": true
   },
   "outputs": [
    {
     "name": "stderr",
     "output_type": "stream",
     "text": [
      "C:\\Users\\Windows-10\\anaconda3\\envs\\learn-env\\lib\\site-packages\\seaborn\\_decorators.py:36: FutureWarning: Pass the following variable as a keyword arg: x. From version 0.12, the only valid positional argument will be `data`, and passing other arguments without an explicit keyword will result in an error or misinterpretation.\n",
      "  warnings.warn(\n"
     ]
    },
    {
     "data": {
      "image/png": "[encoded data removed]",
      "text/plain": [
       "<Figure size 432x288 with 1 Axes>"
      ]
     },
     "metadata": {
      "needs_background": "light"
     },
     "output_type": "display_data"
    }
   ],
   "source": [
    "sns.boxenplot(music_review2.normalized_rating)\n",
    "plt.savefig('./Images/distribution_of_normal_rating.png')\n",
    "plt.show()"
   ]
  },
  {
   "cell_type": "code",
   "execution_count": 16,
   "metadata": {},
   "outputs": [
    {
     "data": {
      "text/plain": [
       "(894019, 6)"
      ]
     },
     "execution_count": 16,
     "metadata": {},
     "output_type": "execute_result"
    }
   ],
   "source": [
    "music_review2.shape"
   ]
  },
  {
   "cell_type": "markdown",
   "metadata": {},
   "source": [
    "### Function for cross-validation"
   ]
  },
  {
   "cell_type": "markdown",
   "metadata": {},
   "source": [
    ">The function calculate_average_rmse serves to assess the performance of a recommendation system model by computing the average Root Mean Squared Error (RMSE) through cross-validation. It takes two main inputs: the model itself and the dataset containing music review data. Utilizing the provided model and dataset, the function conducts cross-validation, which involves splitting the data into multiple subsets, training the model on some of these subsets, and evaluating its performance on the remaining ones. "
   ]
  },
  {
   "cell_type": "code",
   "execution_count": 17,
   "metadata": {},
   "outputs": [],
   "source": [
    "def calculate_average_rmse(model, music_review):\n",
    "    # Perform cross-validation\n",
    "    results = cross_validate(model, music_review, measures=['RMSE'], cv=3, n_jobs=-1, verbose=True)\n",
    "    \n",
    "    # Average RMSE\n",
    "    average_rmse = round(sum(results[\"test_rmse\"]) / len(results[\"test_rmse\"]), 3)\n",
    "    return average_rmse"
   ]
  },
  {
   "cell_type": "markdown",
   "metadata": {},
   "source": [
    "### train test split using Surprise\n",
    "> As the ratings have been normalized, the rating scale is now defined as (-3.973140495867769, 3.891891891891892).Load the music review dataset into the Surprise Dataset object, selecting columns 'reviewerID', 'asin', 'normalized_rating'. "
   ]
  },
  {
   "cell_type": "code",
   "execution_count": 18,
   "metadata": {},
   "outputs": [],
   "source": [
    "# Define the rating scale for the Reader object, specifying the minimum and maximum values\n",
    "reader = Reader(rating_scale=(-3.973140495867769, 3.891891891891892))\n",
    "\n",
    "# Load the music review dataset into the Surprise Dataset object, selecting specific columns\n",
    "music_review = Dataset.load_from_df(music_review2[['reviewerID', 'asin', 'normalized_rating']], reader)\n",
    "\n",
    "# Split the dataset into training and testing sets, with a test size of 20% and a fixed random state for reproducibility\n",
    "trainset, testset = train_test_split(music_review, test_size=0.2, random_state=42)\n"
   ]
  },
  {
   "cell_type": "markdown",
   "metadata": {},
   "source": [
    "### Simple Model"
   ]
  },
  {
   "cell_type": "markdown",
   "metadata": {},
   "source": [
    "#### NormalPredictor"
   ]
  },
  {
   "cell_type": "code",
   "execution_count": 19,
   "metadata": {},
   "outputs": [
    {
     "name": "stdout",
     "output_type": "stream",
     "text": [
      "Evaluating RMSE of algorithm NormalPredictor on 3 split(s).\n",
      "\n",
      "                  Fold 1  Fold 2  Fold 3  Mean    Std     \n",
      "RMSE (testset)    0.7878  0.7857  0.7876  0.7870  0.0010  \n",
      "Fit time          0.85    0.78    0.66    0.76    0.08    \n",
      "Test time         2.18    1.90    1.67    1.91    0.21    \n",
      "Average RMSE from cross-validation is : 0.787\n"
     ]
    }
   ],
   "source": [
    "# Instantiate a NormalPredictor model\n",
    "NP = NormalPredictor()\n",
    "\n",
    "# Fit the NormalPredictor model on the training set\n",
    "NP.fit(trainset)\n",
    "\n",
    "# Generate predictions for the test set based on the model fit on the training set\n",
    "predictions = NP.test(testset)\n",
    "\n",
    "# Calculate the average RMSE using cross-validation for the NormalPredictor model\n",
    "average_rmse_NP = calculate_average_rmse(NP, music_review)\n",
    "\n",
    "# Print the average RMSE obtained from cross-validation\n",
    "print(f'Average RMSE from cross-validation is : {average_rmse_NP}')"
   ]
  },
  {
   "cell_type": "markdown",
   "metadata": {},
   "source": [
    "### SVD"
   ]
  },
  {
   "cell_type": "code",
   "execution_count": 20,
   "metadata": {},
   "outputs": [
    {
     "name": "stdout",
     "output_type": "stream",
     "text": [
      "RMSE: 0.5890\n",
      "Evaluating RMSE of algorithm SVD on 3 split(s).\n",
      "\n",
      "                  Fold 1  Fold 2  Fold 3  Mean    Std     \n",
      "RMSE (testset)    0.5851  0.5841  0.5837  0.5843  0.0006  \n",
      "Fit time          55.55   55.58   55.68   55.60   0.06    \n",
      "Test time         3.58    3.19    2.80    3.19    0.32    \n",
      "Average RMSE from cross-validation is : 0.584\n"
     ]
    }
   ],
   "source": [
    "# Create a basic SVD model with a specified random state\n",
    "svd_basic = SVD(random_state=42)\n",
    "\n",
    "# Fit the basic SVD model to the training set\n",
    "svd_basic.fit(trainset)\n",
    "predictions = svd_basic.test(testset)\n",
    "\n",
    "# Calculate the RMSE for the predictions and store it in svd_simple\n",
    "svd_simple = accuracy.rmse(predictions)\n",
    "\n",
    "# Calculate the average RMSE across all folds using the calculate_average_rmse function\n",
    "average_rmse_SVD1 = calculate_average_rmse(svd_basic, music_review)\n",
    "print(f'Average RMSE from cross-validation is : {average_rmse_SVD1}')"
   ]
  },
  {
   "cell_type": "markdown",
   "metadata": {},
   "source": [
    "##### svd_basic grid search"
   ]
  },
  {
   "cell_type": "code",
   "execution_count": 21,
   "metadata": {},
   "outputs": [],
   "source": [
    "# Define a range of hyperparameters for GridSearchCV with SVD++\n",
    "param_grid = {\n",
    "    'n_factors': [50, 100, 150],  # Number of factors\n",
    "    'n_epochs': [20, 30],  # Number of epochs\n",
    "    'lr_all': [0.005, 0.01],  # Learning rate\n",
    "    'reg_all': [0.02, 0.1]  # Regularization term\n",
    "}\n",
    "\n",
    "# Setup GridSearchCV with SVD++\n",
    "gs_svd = GridSearchCV(SVD, param_grid, measures=['rmse', 'mae'], cv=3, n_jobs=-1)\n",
    "\n",
    "# Fit the model\n",
    "gs_svd.fit(music_review)\n",
    "\n",
    "# Best score and parameters\n",
    "best_rmse = gs_svd.best_score['rmse']\n",
    "best_params = gs_svd.best_params['rmse']\n",
    "\n",
    "print(f\"Best RMSE: {best_rmse}\")\n",
    "print(f\"Best parameters: {best_params}\")\n"
   ]
  },
  {
   "cell_type": "markdown",
   "metadata": {},
   "source": [
    "Best RMSE: 1.0993641323939394\n",
    "\n",
    "Best parameters: {'n_factors': 50, 'n_epochs': 30, 'lr_all': 0.01, 'reg_all': 0.1}"
   ]
  },
  {
   "cell_type": "code",
   "execution_count": 22,
   "metadata": {},
   "outputs": [
    {
     "name": "stdout",
     "output_type": "stream",
     "text": [
      "RMSE: 0.6188\n",
      "Evaluating RMSE of algorithm SVD on 3 split(s).\n",
      "\n",
      "                  Fold 1  Fold 2  Fold 3  Mean    Std     \n",
      "RMSE (testset)    0.6130  0.6131  0.6110  0.6124  0.0010  \n",
      "Fit time          52.20   52.75   53.05   52.67   0.35    \n",
      "Test time         3.52    3.26    2.78    3.18    0.31    \n",
      "Average RMSE from cross-validation is : 0.612\n"
     ]
    }
   ],
   "source": [
    "# Define a more complex SVD model with specified parameters\n",
    "SVD_2 = SVD(n_factors=50, n_epochs=30, lr_all=0.01, reg_all=0.1, random_state=42)\n",
    "\n",
    "# Fit the more complex SVD model to the training set\n",
    "SVD_2.fit(trainset)\n",
    "predictions = SVD_2.test(testset)\n",
    "\n",
    "# Calculate the RMSE for the predictions and store it in svd_simple\n",
    "svd_simple = accuracy.rmse(predictions)\n",
    "\n",
    "# Calculate the average RMSE across all folds using the calculate_average_rmse function\n",
    "average_rmse_SVD2 = calculate_average_rmse(SVD_2, music_review)\n",
    "print(f'Average RMSE from cross-validation is : {average_rmse_SVD2}')"
   ]
  },
  {
   "cell_type": "markdown",
   "metadata": {},
   "source": [
    "##### second SVD_3 gride search"
   ]
  },
  {
   "cell_type": "code",
   "execution_count": 23,
   "metadata": {
    "scrolled": true
   },
   "outputs": [],
   "source": [
    "# Setup new hyperparameter dictionary\n",
    "svd_param_grid2 = {'n_factors':[5, 20],\n",
    "                  'n_epochs': [20, 40], \n",
    "                  'lr_all': [0.05, .005],\n",
    "                  'reg_all': [0.01, 0.02]}\n",
    "svd_gr_3 = GridSearchCV(SVD,param_grid=svd_param_grid2,joblib_verbose=10, n_jobs=-1, cv=3)\n",
    "\n",
    "# Return best_params based on RMSE\n",
    "svd_gr_3 .fit(music_review)\n",
    "svd_gr_3 .best_params['rmse']"
   ]
  },
  {
   "cell_type": "markdown",
   "metadata": {},
   "source": [
    "{'n_factors': 5, 'n_epochs': 20, 'lr_all': 0.005, 'reg_all': 0.02}"
   ]
  },
  {
   "cell_type": "code",
   "execution_count": 24,
   "metadata": {},
   "outputs": [
    {
     "name": "stdout",
     "output_type": "stream",
     "text": [
      "RMSE: 0.5862\n",
      "Evaluating RMSE of algorithm SVD on 3 split(s).\n",
      "\n",
      "                  Fold 1  Fold 2  Fold 3  Mean    Std     \n",
      "RMSE (testset)    0.5792  0.5831  0.5840  0.5821  0.0021  \n",
      "Fit time          16.49   16.79   16.50   16.59   0.14    \n",
      "Test time         3.38    3.08    2.69    3.05    0.29    \n",
      "Average RMSE from cross-validation is : 0.582\n"
     ]
    }
   ],
   "source": [
    "# Define SVD model with specified parameters\n",
    "SVD_3 = SVD(n_factors=5, n_epochs=20, lr_all=0.005, reg_all=0.02, random_state=42)\n",
    "\n",
    "# Fit the SVD model to the training set\n",
    "SVD_3.fit(trainset)\n",
    "predictions = SVD_3.test(testset)\n",
    "\n",
    "# Calculate the RMSE for the predictions and store it in svd_simple_3\n",
    "svd_simple_3 = accuracy.rmse(predictions)\n",
    "\n",
    "# Calculate the average RMSE across all folds using the calculate_average_rmse function\n",
    "average_rmse_SVD3 = calculate_average_rmse(SVD_3, music_review)\n",
    "print(f'Average RMSE from cross-validation is : {average_rmse_SVD3}')\n"
   ]
  },
  {
   "cell_type": "markdown",
   "metadata": {},
   "source": [
    "## SVD++"
   ]
  },
  {
   "cell_type": "code",
   "execution_count": 25,
   "metadata": {},
   "outputs": [
    {
     "name": "stdout",
     "output_type": "stream",
     "text": [
      "RMSE: 0.6033\n"
     ]
    }
   ],
   "source": [
    "# Instantiate - fit on trainset - score the model on testset\n",
    "SVDpp_basic= SVDpp(n_factors=1, n_epochs=25, random_state=42, reg_all=0.05)\n",
    "SVDpp_basic.fit(trainset)\n",
    "predictions = SVDpp_basic.test(testset)\n",
    "SVDpp_gs = accuracy.rmse(predictions)"
   ]
  },
  {
   "cell_type": "markdown",
   "metadata": {},
   "source": [
    "#### SVDpp ++ gride search"
   ]
  },
  {
   "cell_type": "code",
   "execution_count": 26,
   "metadata": {
    "scrolled": true
   },
   "outputs": [],
   "source": [
    "param_grid = {'n_factors':[1, 5],\n",
    "                    'n_epochs':[25, 50],\n",
    "                    'reg_all':[0.02, 0.05]}\n",
    "\n",
    "# Setup GridSearchCV with SVD++\n",
    "gs_svdpp = GridSearchCV(SVDpp, param_grid, cv=3, joblib_verbose=10, n_jobs=-1, return_train_measures=True)\n",
    "\n",
    "\n",
    "# Return best_params based on RMSE\n",
    "gs_svdpp .fit(music_review)\n",
    "gs_svdpp .best_params['rmse']"
   ]
  },
  {
   "cell_type": "code",
   "execution_count": 27,
   "metadata": {},
   "outputs": [
    {
     "name": "stdout",
     "output_type": "stream",
     "text": [
      "RMSE: 0.6031\n"
     ]
    }
   ],
   "source": [
    "SVDpp_2= SVDpp(n_factors=5, n_epochs=25, random_state=42, reg_all=0.05)\n",
    "SVDpp_2.fit(trainset)\n",
    "predictions = SVDpp_2.test(testset)\n",
    "SVDpp_2_gs = accuracy.rmse(predictions)"
   ]
  },
  {
   "cell_type": "markdown",
   "metadata": {},
   "source": [
    "## Model Evaluation"
   ]
  },
  {
   "cell_type": "code",
   "execution_count": 29,
   "metadata": {},
   "outputs": [],
   "source": [
    "results = {\n",
    "    'NormalPredictor': average_rmse_NP,\n",
    "    'svd_basic': average_rmse_SVD1,\n",
    "    'SVD_2 ': average_rmse_SVD2,\n",
    "    'SVD_3':average_rmse_SVD3,\n",
    "    'SVDpp_basic':SVDpp_gs,\n",
    "    'SVDpp_2':SVDpp_2_gs, \n",
    "#     'co_clustering' : average_rmse_co_clustering,\n",
    "}"
   ]
  },
  {
   "cell_type": "code",
   "execution_count": 63,
   "metadata": {},
   "outputs": [
    {
     "data": {
      "image/png": "[encoded data removed]",
      "text/plain": [
       "<Figure size 720x432 with 1 Axes>"
      ]
     },
     "metadata": {
      "needs_background": "light"
     },
     "output_type": "display_data"
    }
   ],
   "source": [
    "import matplotlib.pyplot as plt\n",
    "\n",
    "# Sort results based on values\n",
    "sorted_results = dict(sorted(results.items(), key=lambda item: item[1],reverse=True))\n",
    "\n",
    "# Create a bar plot\n",
    "fig, ax = plt.subplots(figsize=(10, 6))\n",
    "\n",
    "colors = ['#c7dfeb', '#c7dfeb', '#c7dfeb', '#c7dfeb', '#c7dfeb', '#33a02c']\n",
    "\n",
    "plt.bar(sorted_results.keys(), sorted_results.values(), color=colors)\n",
    "\n",
    "plt.xlabel('Models', fontsize=14 , fontweight='bold')\n",
    "plt.ylabel('Cross-validation Score', fontsize=14 , fontweight='bold')\n",
    "plt.title('Cross-validation Score Comparison for Different Models', fontsize=16)\n",
    "plt.xticks(rotation=45, ha=\"right\", fontsize=16)\n",
    "\n",
    "plt.savefig('./Images/Model_evaluation.png')\n",
    "\n",
    "# Show the plot\n",
    "plt.show()"
   ]
  },
  {
   "cell_type": "markdown",
   "metadata": {},
   "source": [
    "## Recommendation function "
   ]
  },
  {
   "cell_type": "markdown",
   "metadata": {},
   "source": [
    "#### pickle\n",
    "> The SVD_3 model(The best model with RMSE of 0.58) is serialized and saved to a file named 'SVD.sav', allowing it to be loaded and reused later without needing to retrain the model. This is particularly useful for storing trained machine learning models for deployment or further analysis."
   ]
  },
  {
   "cell_type": "code",
   "execution_count": 64,
   "metadata": {},
   "outputs": [],
   "source": [
    "# Serialize and save the trained SVD_3 model to a file named 'SVD.sav'\n",
    "pickle.dump(SVD_3, open('SVD.sav', 'wb'))"
   ]
  },
  {
   "cell_type": "code",
   "execution_count": 33,
   "metadata": {},
   "outputs": [],
   "source": [
    "with open('SVD3.pkl', 'rb') as f:\n",
    "    model = pickle.load(f)"
   ]
  },
  {
   "cell_type": "markdown",
   "metadata": {},
   "source": [
    "The SVD_3 model is trained on the entire dataset, enabling it to learn from all available user-item interactions and generate predictions accordingly. Training on full train set is crucial for maximizing the model's performance by leveraging as much data as possible during the training process.\n"
   ]
  },
  {
   "cell_type": "code",
   "execution_count": 31,
   "metadata": {},
   "outputs": [
    {
     "data": {
      "text/plain": [
       "<surprise.prediction_algorithms.matrix_factorization.SVD at 0x258f3650a30>"
      ]
     },
     "execution_count": 31,
     "metadata": {},
     "output_type": "execute_result"
    }
   ],
   "source": [
    "# Using Surprise, a full trainset incorporating all data can be built\n",
    "trainset_full = music_review.build_full_trainset()\n",
    "\n",
    "# Fit the SVD3 model to the full trainset to make full predictions\n",
    "SVD_3.fit(trainset_full)\n"
   ]
  },
  {
   "cell_type": "code",
   "execution_count": 34,
   "metadata": {},
   "outputs": [],
   "source": [
    "music_meta = pd.read_csv('./Data/music_meta.csv')\n",
    "music_meta.drop(columns =['Unnamed: 0'], inplace=True)"
   ]
  },
  {
   "cell_type": "code",
   "execution_count": 35,
   "metadata": {},
   "outputs": [
    {
     "data": {
      "text/html": [
       "<div>\n",
       "<style scoped>\n",
       "    .dataframe tbody tr th:only-of-type {\n",
       "        vertical-align: middle;\n",
       "    }\n",
       "\n",
       "    .dataframe tbody tr th {\n",
       "        vertical-align: top;\n",
       "    }\n",
       "\n",
       "    .dataframe thead th {\n",
       "        text-align: right;\n",
       "    }\n",
       "</style>\n",
       "<table border=\"1\" class=\"dataframe\">\n",
       "  <thead>\n",
       "    <tr style=\"text-align: right;\">\n",
       "      <th></th>\n",
       "      <th>description</th>\n",
       "      <th>title</th>\n",
       "      <th>brand</th>\n",
       "      <th>asin</th>\n",
       "      <th>style</th>\n",
       "    </tr>\n",
       "  </thead>\n",
       "  <tbody>\n",
       "    <tr>\n",
       "      <th>0</th>\n",
       "      <td>Unknown</td>\n",
       "      <td>Master Collection Volume One</td>\n",
       "      <td>John Michael Talbot</td>\n",
       "      <td>0001377647</td>\n",
       "      <td>Audio CD</td>\n",
       "    </tr>\n",
       "    <tr>\n",
       "      <th>1</th>\n",
       "      <td>Unknown</td>\n",
       "      <td>Hymns Collection: Hymns 1 &amp;amp; 2</td>\n",
       "      <td>Second Chapter of Acts</td>\n",
       "      <td>0001529145</td>\n",
       "      <td>Audio CD</td>\n",
       "    </tr>\n",
       "    <tr>\n",
       "      <th>2</th>\n",
       "      <td>Unknown</td>\n",
       "      <td>Early Works - Don Francisco</td>\n",
       "      <td>Don Francisco</td>\n",
       "      <td>0001527134</td>\n",
       "      <td>Audio CD</td>\n",
       "    </tr>\n",
       "    <tr>\n",
       "      <th>3</th>\n",
       "      <td>Unknown</td>\n",
       "      <td>So You Wanna Go Back to Egypt</td>\n",
       "      <td>Keith Green</td>\n",
       "      <td>0001388703</td>\n",
       "      <td>Audio CD</td>\n",
       "    </tr>\n",
       "    <tr>\n",
       "      <th>4</th>\n",
       "      <td>[\"1. Losing Game 2. I Can't Wait 3. Didn't He ...</td>\n",
       "      <td>Early Works - Dallas Holm</td>\n",
       "      <td>Dallas Holm</td>\n",
       "      <td>0001526146</td>\n",
       "      <td>Audio CD</td>\n",
       "    </tr>\n",
       "  </tbody>\n",
       "</table>\n",
       "</div>"
      ],
      "text/plain": [
       "                                         description  \\\n",
       "0                                            Unknown   \n",
       "1                                            Unknown   \n",
       "2                                            Unknown   \n",
       "3                                            Unknown   \n",
       "4  [\"1. Losing Game 2. I Can't Wait 3. Didn't He ...   \n",
       "\n",
       "                               title                   brand        asin  \\\n",
       "0       Master Collection Volume One     John Michael Talbot  0001377647   \n",
       "1  Hymns Collection: Hymns 1 &amp; 2  Second Chapter of Acts  0001529145   \n",
       "2        Early Works - Don Francisco           Don Francisco  0001527134   \n",
       "3      So You Wanna Go Back to Egypt             Keith Green  0001388703   \n",
       "4          Early Works - Dallas Holm             Dallas Holm  0001526146   \n",
       "\n",
       "       style  \n",
       "0   Audio CD  \n",
       "1   Audio CD  \n",
       "2   Audio CD  \n",
       "3   Audio CD  \n",
       "4   Audio CD  "
      ]
     },
     "execution_count": 35,
     "metadata": {},
     "output_type": "execute_result"
    }
   ],
   "source": [
    "music_meta.head()"
   ]
  },
  {
   "cell_type": "code",
   "execution_count": 36,
   "metadata": {
    "scrolled": false
   },
   "outputs": [
    {
     "data": {
      "text/html": [
       "<div>\n",
       "<style scoped>\n",
       "    .dataframe tbody tr th:only-of-type {\n",
       "        vertical-align: middle;\n",
       "    }\n",
       "\n",
       "    .dataframe tbody tr th {\n",
       "        vertical-align: top;\n",
       "    }\n",
       "\n",
       "    .dataframe thead th {\n",
       "        text-align: right;\n",
       "    }\n",
       "</style>\n",
       "<table border=\"1\" class=\"dataframe\">\n",
       "  <thead>\n",
       "    <tr style=\"text-align: right;\">\n",
       "      <th></th>\n",
       "      <th>asin</th>\n",
       "    </tr>\n",
       "    <tr>\n",
       "      <th>reviewerID</th>\n",
       "      <th></th>\n",
       "    </tr>\n",
       "  </thead>\n",
       "  <tbody>\n",
       "    <tr>\n",
       "      <th>A12R54MKO17TW0</th>\n",
       "      <td>0001388703</td>\n",
       "    </tr>\n",
       "    <tr>\n",
       "      <th>A12R54MKO17TW0</th>\n",
       "      <td>B000VZJS84</td>\n",
       "    </tr>\n",
       "    <tr>\n",
       "      <th>A12R54MKO17TW0</th>\n",
       "      <td>B000WLNUN6</td>\n",
       "    </tr>\n",
       "    <tr>\n",
       "      <th>A12R54MKO17TW0</th>\n",
       "      <td>B001232RGE</td>\n",
       "    </tr>\n",
       "    <tr>\n",
       "      <th>A12R54MKO17TW0</th>\n",
       "      <td>B00123KDR4</td>\n",
       "    </tr>\n",
       "  </tbody>\n",
       "</table>\n",
       "</div>"
      ],
      "text/plain": [
       "                      asin\n",
       "reviewerID                \n",
       "A12R54MKO17TW0  0001388703\n",
       "A12R54MKO17TW0  B000VZJS84\n",
       "A12R54MKO17TW0  B000WLNUN6\n",
       "A12R54MKO17TW0  B001232RGE\n",
       "A12R54MKO17TW0  B00123KDR4"
      ]
     },
     "execution_count": 36,
     "metadata": {},
     "output_type": "execute_result"
    }
   ],
   "source": [
    "# Set the index of the DataFrame to 'reviewerID'\n",
    "music_review_fun = music_review2.set_index('reviewerID')\n",
    "\n",
    "# Drop columns that are not useful for modeling\n",
    "music_review_fun.drop(columns=['overall', 'reviewText', 'overall_avg', 'normalized_rating'], inplace=True)\n",
    "\n",
    "# Display the first few rows of the DataFrame\n",
    "music_review_fun.head()\n"
   ]
  },
  {
   "cell_type": "code",
   "execution_count": 67,
   "metadata": {},
   "outputs": [
    {
     "data": {
      "text/html": [
       "<div>\n",
       "<style scoped>\n",
       "    .dataframe tbody tr th:only-of-type {\n",
       "        vertical-align: middle;\n",
       "    }\n",
       "\n",
       "    .dataframe tbody tr th {\n",
       "        vertical-align: top;\n",
       "    }\n",
       "\n",
       "    .dataframe thead th {\n",
       "        text-align: right;\n",
       "    }\n",
       "</style>\n",
       "<table border=\"1\" class=\"dataframe\">\n",
       "  <thead>\n",
       "    <tr style=\"text-align: right;\">\n",
       "      <th></th>\n",
       "      <th>asin</th>\n",
       "    </tr>\n",
       "    <tr>\n",
       "      <th>reviewerID</th>\n",
       "      <th></th>\n",
       "    </tr>\n",
       "  </thead>\n",
       "  <tbody>\n",
       "    <tr>\n",
       "      <th>A12R54MKO17TW0</th>\n",
       "      <td>0001388703</td>\n",
       "    </tr>\n",
       "    <tr>\n",
       "      <th>A12R54MKO17TW0</th>\n",
       "      <td>B000VZJS84</td>\n",
       "    </tr>\n",
       "    <tr>\n",
       "      <th>A12R54MKO17TW0</th>\n",
       "      <td>B000WLNUN6</td>\n",
       "    </tr>\n",
       "    <tr>\n",
       "      <th>A12R54MKO17TW0</th>\n",
       "      <td>B001232RGE</td>\n",
       "    </tr>\n",
       "    <tr>\n",
       "      <th>A12R54MKO17TW0</th>\n",
       "      <td>B00123KDR4</td>\n",
       "    </tr>\n",
       "    <tr>\n",
       "      <th>...</th>\n",
       "      <td>...</td>\n",
       "    </tr>\n",
       "    <tr>\n",
       "      <th>A1J4OJHPYFOBBW</th>\n",
       "      <td>B01HIQQOGM</td>\n",
       "    </tr>\n",
       "    <tr>\n",
       "      <th>A2LKTPYFKMANMO</th>\n",
       "      <td>B01HIY9B00</td>\n",
       "    </tr>\n",
       "    <tr>\n",
       "      <th>A2LKTPYFKMANMO</th>\n",
       "      <td>B01HIY9DJ4</td>\n",
       "    </tr>\n",
       "    <tr>\n",
       "      <th>A3BUVCR5NMTFPB</th>\n",
       "      <td>B01HJ433KI</td>\n",
       "    </tr>\n",
       "    <tr>\n",
       "      <th>A3BUVCR5NMTFPB</th>\n",
       "      <td>B01HJ434DO</td>\n",
       "    </tr>\n",
       "  </tbody>\n",
       "</table>\n",
       "<p>894019 rows × 1 columns</p>\n",
       "</div>"
      ],
      "text/plain": [
       "                      asin\n",
       "reviewerID                \n",
       "A12R54MKO17TW0  0001388703\n",
       "A12R54MKO17TW0  B000VZJS84\n",
       "A12R54MKO17TW0  B000WLNUN6\n",
       "A12R54MKO17TW0  B001232RGE\n",
       "A12R54MKO17TW0  B00123KDR4\n",
       "...                    ...\n",
       "A1J4OJHPYFOBBW  B01HIQQOGM\n",
       "A2LKTPYFKMANMO  B01HIY9B00\n",
       "A2LKTPYFKMANMO  B01HIY9DJ4\n",
       "A3BUVCR5NMTFPB  B01HJ433KI\n",
       "A3BUVCR5NMTFPB  B01HJ434DO\n",
       "\n",
       "[894019 rows x 1 columns]"
      ]
     },
     "execution_count": 67,
     "metadata": {},
     "output_type": "execute_result"
    }
   ],
   "source": [
    "music_review_fun"
   ]
  },
  {
   "cell_type": "markdown",
   "metadata": {},
   "source": [
    "> The data frames music_review_fun and music_meta are exported to be utilized in the development of future applications."
   ]
  },
  {
   "cell_type": "code",
   "execution_count": 55,
   "metadata": {},
   "outputs": [],
   "source": [
    "# Assuming music_review_fun is your DataFrame\n",
    "music_review_fun.to_csv(\"./Data/music_review_fun.csv\" , index='reviewerID')"
   ]
  },
  {
   "cell_type": "code",
   "execution_count": 41,
   "metadata": {},
   "outputs": [],
   "source": [
    "# Assuming music_review_fun is your DataFrame\n",
    "music_meta.to_csv(\"./Data/music_meta.csv\", index=False)"
   ]
  },
  {
   "cell_type": "markdown",
   "metadata": {},
   "source": [
    ">The get_recommendations2 function aims to provide personalized recommendations for a given user based on their past reviews and predicted ratings. which  allows users to receive tailored recommendations based on their historical reviews and predicted preferences, thereby enhancing their overall experience with the music recommendation system."
   ]
  },
  {
   "cell_type": "code",
   "execution_count": 39,
   "metadata": {},
   "outputs": [
    {
     "name": "stdout",
     "output_type": "stream",
     "text": [
      "UserId: A12R54MKO17TW0\n",
      "How many recommendations? 5\n"
     ]
    },
    {
     "data": {
      "text/html": [
       "<div>\n",
       "<style scoped>\n",
       "    .dataframe tbody tr th:only-of-type {\n",
       "        vertical-align: middle;\n",
       "    }\n",
       "\n",
       "    .dataframe tbody tr th {\n",
       "        vertical-align: top;\n",
       "    }\n",
       "\n",
       "    .dataframe thead th {\n",
       "        text-align: right;\n",
       "    }\n",
       "</style>\n",
       "<table border=\"1\" class=\"dataframe\">\n",
       "  <thead>\n",
       "    <tr style=\"text-align: right;\">\n",
       "      <th></th>\n",
       "      <th>index</th>\n",
       "      <th>description</th>\n",
       "      <th>title</th>\n",
       "      <th>brand</th>\n",
       "      <th>asin</th>\n",
       "      <th>style</th>\n",
       "      <th>est_rating</th>\n",
       "    </tr>\n",
       "  </thead>\n",
       "  <tbody>\n",
       "    <tr>\n",
       "      <th>73134</th>\n",
       "      <td>73168</td>\n",
       "      <td>[\"This is a bundling of two remastered albums ...</td>\n",
       "      <td>Nirvana Nevermind and in Utero</td>\n",
       "      <td>Nirvana</td>\n",
       "      <td>B01BWT8CCU</td>\n",
       "      <td>MP3 Music</td>\n",
       "      <td>0.496395</td>\n",
       "    </tr>\n",
       "    <tr>\n",
       "      <th>64375</th>\n",
       "      <td>64409</td>\n",
       "      <td>[\"Who's Afraid of Virginia Woolf? (Original Br...</td>\n",
       "      <td>Who's Afraid of Virginia Woolf? Original Broad...</td>\n",
       "      <td>Original Broadway Cast of Who's Afraid of Virg...</td>\n",
       "      <td>B00J3CTVXI</td>\n",
       "      <td>MP3 Music</td>\n",
       "      <td>0.492120</td>\n",
       "    </tr>\n",
       "    <tr>\n",
       "      <th>60132</th>\n",
       "      <td>60166</td>\n",
       "      <td>['RECOPILACION DE SUS GRANDES EXITOS']</td>\n",
       "      <td>ANTOLOGIA MUSICAL (3 CD'S + DVD)</td>\n",
       "      <td>Los Bukis</td>\n",
       "      <td>B00CFXXTK8</td>\n",
       "      <td>MP3 Music</td>\n",
       "      <td>0.464101</td>\n",
       "    </tr>\n",
       "    <tr>\n",
       "      <th>17774</th>\n",
       "      <td>17779</td>\n",
       "      <td>Unknown</td>\n",
       "      <td>Unsophisticated Time</td>\n",
       "      <td>Marti Jones</td>\n",
       "      <td>B0002BGOAM</td>\n",
       "      <td>MP3 Music</td>\n",
       "      <td>0.432342</td>\n",
       "    </tr>\n",
       "    <tr>\n",
       "      <th>9442</th>\n",
       "      <td>9445</td>\n",
       "      <td>Unknown</td>\n",
       "      <td>Unsophisticated Time</td>\n",
       "      <td>Marti Jones</td>\n",
       "      <td>B0002BGOAM</td>\n",
       "      <td>MP3 Music</td>\n",
       "      <td>0.432342</td>\n",
       "    </tr>\n",
       "  </tbody>\n",
       "</table>\n",
       "</div>"
      ],
      "text/plain": [
       "       index                                        description  \\\n",
       "73134  73168  [\"This is a bundling of two remastered albums ...   \n",
       "64375  64409  [\"Who's Afraid of Virginia Woolf? (Original Br...   \n",
       "60132  60166             ['RECOPILACION DE SUS GRANDES EXITOS']   \n",
       "17774  17779                                            Unknown   \n",
       "9442    9445                                            Unknown   \n",
       "\n",
       "                                                   title  \\\n",
       "73134                     Nirvana Nevermind and in Utero   \n",
       "64375  Who's Afraid of Virginia Woolf? Original Broad...   \n",
       "60132                   ANTOLOGIA MUSICAL (3 CD'S + DVD)   \n",
       "17774                               Unsophisticated Time   \n",
       "9442                                Unsophisticated Time   \n",
       "\n",
       "                                                   brand        asin  \\\n",
       "73134                                            Nirvana  B01BWT8CCU   \n",
       "64375  Original Broadway Cast of Who's Afraid of Virg...  B00J3CTVXI   \n",
       "60132                                          Los Bukis  B00CFXXTK8   \n",
       "17774                                        Marti Jones  B0002BGOAM   \n",
       "9442                                         Marti Jones  B0002BGOAM   \n",
       "\n",
       "            style  est_rating  \n",
       "73134   MP3 Music    0.496395  \n",
       "64375   MP3 Music    0.492120  \n",
       "60132   MP3 Music    0.464101  \n",
       "17774   MP3 Music    0.432342  \n",
       "9442    MP3 Music    0.432342  "
      ]
     },
     "execution_count": 39,
     "metadata": {},
     "output_type": "execute_result"
    }
   ],
   "source": [
    "def get_recommendations(user_id, num_recommendations):\n",
    "    try:\n",
    "        have_reviewed = list(music_review_fun.loc[user_id, 'asin'])\n",
    "    except KeyError:\n",
    "        return \"User ID not found or user hasn't reviewed any items.\"\n",
    "\n",
    "    not_reviewed = music_meta[~music_meta['asin'].isin(have_reviewed)].copy()\n",
    "    not_reviewed.reset_index(inplace=True)\n",
    "\n",
    "    if not_reviewed.empty:\n",
    "        return \"All items have been reviewed by the user.\"\n",
    "\n",
    "    # Use loc to avoid SettingWithCopyWarning\n",
    "    not_reviewed.loc[:, 'est_rating'] = not_reviewed['asin'].apply(lambda x: SVD_3.predict(user_id, x).est)\n",
    "    not_reviewed.sort_values(by='est_rating', ascending=False, inplace=True)\n",
    "\n",
    "    # Get top n recommendations\n",
    "    recommendations = not_reviewed.head(num_recommendations)\n",
    "\n",
    "    return recommendations\n",
    "\n",
    "# Example usage:\n",
    "user = input('UserId: ')\n",
    "n_recs = int(input('How many recommendations? '))\n",
    "recommendations = get_recommendations(user, n_recs)\n",
    "recommendations"
   ]
  },
  {
   "cell_type": "markdown",
   "metadata": {},
   "source": [
    "## Conclusion"
   ]
  },
  {
   "cell_type": "markdown",
   "metadata": {},
   "source": [
    "> Throughout the development of the collaborative and content-based recommendation systems in this project, a multifaceted approach to data preprocessing was employed. Initially, in the collaborative filtering aspect, meticulous attention was devoted to understanding user behavior through thorough analysis of rating patterns. Leveraging collaborative filtering algorithms, such as Singular Value Decomposition (SVD), the system adeptly identified latent relationships among users and items, enabling the generation of personalized recommendations. \n",
    "\n",
    "> In conclusion, the collaborative filtering approach, as exemplified by the get_recommendations function, stands as a cornerstone of our music platform's recommendation system. By analyzing user interactions and preferences, collaborative filtering harnesses the collective wisdom of the user community to generate personalized music recommendations. This method excels in providing users with serendipitous discoveries and introducing them to new content based on the behaviors and preferences of like-minded users. Through collaborative filtering, our platform fosters a sense of community and discovery, enhancing user engagement and satisfaction while facilitating seamless music discovery experiences."
   ]
  },
  {
   "cell_type": "code",
   "execution_count": null,
   "metadata": {},
   "outputs": [],
   "source": []
  }
 ],
 "metadata": {
  "kernelspec": {
   "display_name": "Python 3",
   "language": "python",
   "name": "python3"
  },
  "language_info": {
   "codemirror_mode": {
    "name": "ipython",
    "version": 3
   },
   "file_extension": ".py",
   "mimetype": "text/x-python",
   "name": "python",
   "nbconvert_exporter": "python",
   "pygments_lexer": "ipython3",
   "version": "3.8.5"
  }
 },
 "nbformat": 4,
 "nbformat_minor": 4
}
