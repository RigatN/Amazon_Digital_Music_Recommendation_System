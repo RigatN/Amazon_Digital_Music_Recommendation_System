{
 "cells": [
  {
   "cell_type": "code",
   "execution_count": 1,
   "metadata": {},
   "outputs": [],
   "source": [
    "import pandas as pd\n",
    "import pickle\n",
    "import matplotlib.pyplot as plt\n",
    "import seaborn as sns\n",
    "\n",
    "from surprise import Dataset, Reader, accuracy , KNNWithMeans\n",
    "from surprise.model_selection import cross_validate, train_test_split, GridSearchCV\n",
    "from surprise.prediction_algorithms import SVD, SVDpp, NormalPredictor , BaselineOnly\n",
    "\n",
    "plt.style.use('fast')\n",
    "%matplotlib inline"
   ]
  },
  {
   "cell_type": "code",
   "execution_count": 2,
   "metadata": {},
   "outputs": [],
   "source": [
    "music_review2=pd.read_csv('./Data/music_review.csv')"
   ]
  },
  {
   "cell_type": "code",
   "execution_count": 3,
   "metadata": {},
   "outputs": [
    {
     "data": {
      "text/plain": [
       "456811"
      ]
     },
     "execution_count": 3,
     "metadata": {},
     "output_type": "execute_result"
    }
   ],
   "source": [
    "music_review2.asin.nunique()"
   ]
  },
  {
   "cell_type": "code",
   "execution_count": 4,
   "metadata": {},
   "outputs": [
    {
     "data": {
      "text/plain": [
       "839565"
      ]
     },
     "execution_count": 4,
     "metadata": {},
     "output_type": "execute_result"
    }
   ],
   "source": [
    "music_review2.reviewerID.nunique()"
   ]
  },
  {
   "cell_type": "code",
   "execution_count": 5,
   "metadata": {
    "scrolled": true
   },
   "outputs": [
    {
     "data": {
      "text/plain": [
       "Unnamed: 0    0\n",
       "overall       0\n",
       "reviewerID    0\n",
       "asin          0\n",
       "reviewText    5\n",
       "dtype: int64"
      ]
     },
     "execution_count": 5,
     "metadata": {},
     "output_type": "execute_result"
    }
   ],
   "source": [
    "music_review2.isna().sum()"
   ]
  },
  {
   "cell_type": "code",
   "execution_count": 6,
   "metadata": {},
   "outputs": [],
   "source": [
    "music_review2=music_review2.drop('Unnamed: 0' , axis=1 )"
   ]
  },
  {
   "cell_type": "code",
   "execution_count": 7,
   "metadata": {},
   "outputs": [],
   "source": [
    "music_review2.dropna(inplace=True)"
   ]
  },
  {
   "cell_type": "markdown",
   "metadata": {},
   "source": [
    "grouby by asin and join review text "
   ]
  },
  {
   "cell_type": "code",
   "execution_count": 8,
   "metadata": {
    "scrolled": true
   },
   "outputs": [
    {
     "data": {
      "text/html": [
       "<div>\n",
       "<style scoped>\n",
       "    .dataframe tbody tr th:only-of-type {\n",
       "        vertical-align: middle;\n",
       "    }\n",
       "\n",
       "    .dataframe tbody tr th {\n",
       "        vertical-align: top;\n",
       "    }\n",
       "\n",
       "    .dataframe thead th {\n",
       "        text-align: right;\n",
       "    }\n",
       "</style>\n",
       "<table border=\"1\" class=\"dataframe\">\n",
       "  <thead>\n",
       "    <tr style=\"text-align: right;\">\n",
       "      <th></th>\n",
       "      <th>overall</th>\n",
       "      <th>reviewerID</th>\n",
       "      <th>asin</th>\n",
       "      <th>reviewText</th>\n",
       "    </tr>\n",
       "  </thead>\n",
       "  <tbody>\n",
       "    <tr>\n",
       "      <th>0</th>\n",
       "      <td>5</td>\n",
       "      <td>A1ZCPG3D3HGRSS</td>\n",
       "      <td>0001388703</td>\n",
       "      <td>This is a great cd full of worship favorites!!...</td>\n",
       "    </tr>\n",
       "    <tr>\n",
       "      <th>1</th>\n",
       "      <td>5</td>\n",
       "      <td>AC2PL52NKPL29</td>\n",
       "      <td>0001388703</td>\n",
       "      <td>So creative!  Love his music - the words, the ...</td>\n",
       "    </tr>\n",
       "    <tr>\n",
       "      <th>2</th>\n",
       "      <td>5</td>\n",
       "      <td>A1SUZXBDZSDQ3A</td>\n",
       "      <td>0001388703</td>\n",
       "      <td>Keith Green, gone far to early in his carreer,...</td>\n",
       "    </tr>\n",
       "    <tr>\n",
       "      <th>3</th>\n",
       "      <td>5</td>\n",
       "      <td>A3A0W7FZXM0IZW</td>\n",
       "      <td>0001388703</td>\n",
       "      <td>Keith Green had his special comedy style of Ch...</td>\n",
       "    </tr>\n",
       "    <tr>\n",
       "      <th>4</th>\n",
       "      <td>5</td>\n",
       "      <td>A12R54MKO17TW0</td>\n",
       "      <td>0001388703</td>\n",
       "      <td>Keith Green / So you wanna go back to Egypt......</td>\n",
       "    </tr>\n",
       "  </tbody>\n",
       "</table>\n",
       "</div>"
      ],
      "text/plain": [
       "   overall      reviewerID        asin  \\\n",
       "0        5  A1ZCPG3D3HGRSS  0001388703   \n",
       "1        5   AC2PL52NKPL29  0001388703   \n",
       "2        5  A1SUZXBDZSDQ3A  0001388703   \n",
       "3        5  A3A0W7FZXM0IZW  0001388703   \n",
       "4        5  A12R54MKO17TW0  0001388703   \n",
       "\n",
       "                                          reviewText  \n",
       "0  This is a great cd full of worship favorites!!...  \n",
       "1  So creative!  Love his music - the words, the ...  \n",
       "2  Keith Green, gone far to early in his carreer,...  \n",
       "3  Keith Green had his special comedy style of Ch...  \n",
       "4  Keith Green / So you wanna go back to Egypt......  "
      ]
     },
     "execution_count": 8,
     "metadata": {},
     "output_type": "execute_result"
    }
   ],
   "source": [
    "music_review2.head()"
   ]
  },
  {
   "cell_type": "code",
   "execution_count": 9,
   "metadata": {
    "scrolled": true
   },
   "outputs": [
    {
     "data": {
      "text/plain": [
       "A3W4D8XOGLWUN5    1255\n",
       "AQ4B80F0JSBNI      660\n",
       "A1Q0BU32CVOLRA     638\n",
       "A2WQY1B8ZS7QRZ     534\n",
       "A2H3JURQZOHVMB     484\n",
       "                  ... \n",
       "A11EXV6QKT9MYQ       1\n",
       "A1E43Z3QQ79OKY       1\n",
       "A38J3EZKMXZ9YZ       1\n",
       "A2G4LKK57XMBL3       1\n",
       "A1EKQAPCF8HOLL       1\n",
       "Name: reviewerID, Length: 839565, dtype: int64"
      ]
     },
     "execution_count": 9,
     "metadata": {},
     "output_type": "execute_result"
    }
   ],
   "source": [
    "music_review2.reviewerID.value_counts()"
   ]
  },
  {
   "cell_type": "code",
   "execution_count": 10,
   "metadata": {},
   "outputs": [],
   "source": [
    "# Count the occurrences of each reviewer ID\n",
    "reviewer_counts = music_review2['reviewerID'].value_counts()\n",
    "\n",
    "# Find reviewer IDs with count equals to 1\n",
    "reviewer_ids_to_drop = reviewer_counts[reviewer_counts == 1].index\n",
    "\n",
    "# Drop rows where reviewer ID is in the list of IDs to drop\n",
    "music_review2 = music_review2[~music_review2['reviewerID'].isin(reviewer_ids_to_drop)]\n"
   ]
  },
  {
   "cell_type": "code",
   "execution_count": 11,
   "metadata": {
    "scrolled": true
   },
   "outputs": [
    {
     "data": {
      "text/plain": [
       "B00CZF8B68    1661\n",
       "B00M8JCW3E     865\n",
       "B00NPZI1ZS     767\n",
       "B00BWGHIHY     762\n",
       "B0092MKTL2     746\n",
       "              ... \n",
       "B00123JIJS       1\n",
       "B019D5XRWA       1\n",
       "B00B6CE2L4       1\n",
       "B00OV439F4       1\n",
       "B00Q3800JY       1\n",
       "Name: asin, Length: 333636, dtype: int64"
      ]
     },
     "execution_count": 11,
     "metadata": {},
     "output_type": "execute_result"
    }
   ],
   "source": [
    "music_review2.asin.value_counts()"
   ]
  },
  {
   "cell_type": "code",
   "execution_count": 12,
   "metadata": {},
   "outputs": [],
   "source": [
    "# Count the occurrences of each reviewer ID\n",
    "asin_counts = music_review2['asin'].value_counts()\n",
    "\n",
    "# Find reviewer IDs with count equals to 1\n",
    "asin_to_drop = asin_counts[asin_counts == 1].index\n",
    "\n",
    "# Drop rows where reviewer ID is in the list of IDs to drop\n",
    "music_review2 = music_review2[~music_review2['reviewerID'].isin(reviewer_ids_to_drop)]"
   ]
  },
  {
   "cell_type": "markdown",
   "metadata": {},
   "source": [
    "normalize the rating ,cause i have 5 only "
   ]
  },
  {
   "cell_type": "code",
   "execution_count": 13,
   "metadata": {
    "scrolled": true
   },
   "outputs": [
    {
     "data": {
      "text/plain": [
       "<AxesSubplot:xlabel='overall', ylabel='Count'>"
      ]
     },
     "execution_count": 13,
     "metadata": {},
     "output_type": "execute_result"
    },
    {
     "data": {
      "image/png": "[encoded data removed]",
      "text/plain": [
       "<Figure size 432x288 with 1 Axes>"
      ]
     },
     "metadata": {
      "needs_background": "light"
     },
     "output_type": "display_data"
    }
   ],
   "source": [
    "sns.histplot(music_review2.overall)"
   ]
  },
  {
   "cell_type": "markdown",
   "metadata": {},
   "source": [
    "normalize review"
   ]
  },
  {
   "cell_type": "code",
   "execution_count": 14,
   "metadata": {
    "scrolled": false
   },
   "outputs": [
    {
     "data": {
      "text/plain": [
       "Index(['overall', 'reviewerID', 'asin', 'reviewText'], dtype='object')"
      ]
     },
     "execution_count": 14,
     "metadata": {},
     "output_type": "execute_result"
    }
   ],
   "source": [
    "music_review2.columns"
   ]
  },
  {
   "cell_type": "code",
   "execution_count": 15,
   "metadata": {},
   "outputs": [
    {
     "data": {
      "text/plain": [
       "overall       0\n",
       "reviewerID    0\n",
       "asin          0\n",
       "reviewText    0\n",
       "dtype: int64"
      ]
     },
     "execution_count": 15,
     "metadata": {},
     "output_type": "execute_result"
    }
   ],
   "source": [
    "music_review2.isna().sum()"
   ]
  },
  {
   "cell_type": "code",
   "execution_count": 16,
   "metadata": {
    "scrolled": false
   },
   "outputs": [],
   "source": [
    "# Convert 'overall' column to integers\n",
    "music_review2['overall'] = music_review2['overall'].astype(int)\n",
    "\n",
    "# Calculate average rating for each reviewer\n",
    "reviewer_avg_ratings = music_review2.groupby('reviewerID')['overall'].mean().reset_index()\n",
    "\n",
    "# Merge the average ratings back into the DataFrame\n",
    "music_review2 = music_review2.merge(reviewer_avg_ratings, on='reviewerID', suffixes=('', '_avg'))\n",
    "\n",
    "# Subtract average rating from each rating\n",
    "music_review2['normalized_rating'] = music_review2['overall'] - music_review2['overall_avg']"
   ]
  },
  {
   "cell_type": "code",
   "execution_count": 17,
   "metadata": {
    "scrolled": true
   },
   "outputs": [
    {
     "data": {
      "text/plain": [
       "(-3.973140495867769, 3.891891891891892)"
      ]
     },
     "execution_count": 17,
     "metadata": {},
     "output_type": "execute_result"
    }
   ],
   "source": [
    "music_review2.normalized_rating.min(),music_review2.normalized_rating.max()"
   ]
  },
  {
   "cell_type": "markdown",
   "metadata": {},
   "source": [
    "First_simple_Modeling"
   ]
  },
  {
   "cell_type": "code",
   "execution_count": 58,
   "metadata": {},
   "outputs": [],
   "source": [
    "def calculate_average_rmse(model, music_review):\n",
    "    # Perform cross-validation\n",
    "    results = cross_validate(model, music_review, measures=['RMSE'], cv=3, n_jobs=-1, verbose=True)\n",
    "    \n",
    "    # Average RMSE\n",
    "    average_rmse = round(sum(results[\"test_rmse\"]) / len(results[\"test_rmse\"]), 3)\n",
    "    return average_rmse"
   ]
  },
  {
   "cell_type": "markdown",
   "metadata": {},
   "source": [
    "NoramlPredictor"
   ]
  },
  {
   "cell_type": "code",
   "execution_count": 18,
   "metadata": {},
   "outputs": [],
   "source": [
    "reader = Reader(rating_scale=(-3.973140495867769, 3.891891891891892))\n",
    "music_review = Dataset.load_from_df(music_review2[['reviewerID', 'asin', 'normalized_rating']], reader)\n",
    "\n",
    "trainset, testset = train_test_split(music_review, test_size=0.2, random_state=42)\n"
   ]
  },
  {
   "cell_type": "code",
   "execution_count": 59,
   "metadata": {},
   "outputs": [
    {
     "name": "stdout",
     "output_type": "stream",
     "text": [
      "Evaluating RMSE of algorithm NormalPredictor on 3 split(s).\n",
      "\n",
      "                  Fold 1  Fold 2  Fold 3  Mean    Std     \n",
      "RMSE (testset)    0.7864  0.7872  0.7868  0.7868  0.0003  \n",
      "Fit time          0.94    0.97    0.85    0.92    0.05    \n",
      "Test time         2.91    2.72    2.47    2.70    0.18    \n"
     ]
    }
   ],
   "source": [
    "NP= NormalPredictor()\n",
    "NP.fit(trainset)\n",
    "\n",
    "# Return test predictions for model fit on trainset\n",
    "predictions = NP.test(testset)\n",
    "\n",
    "# Average RMSE\n",
    "average_rmse_NP = calculate_average_rmse(NP, music_review)\n",
    "\n",
    "print(f'Average RMSE from cross-validation is : {average_rmse_NP}')\n"
   ]
  },
  {
   "cell_type": "markdown",
   "metadata": {},
   "source": [
    "baseline only"
   ]
  },
  {
   "cell_type": "code",
   "execution_count": 60,
   "metadata": {},
   "outputs": [
    {
     "name": "stdout",
     "output_type": "stream",
     "text": [
      "Estimating biases using als...\n",
      "Evaluating RMSE of algorithm BaselineOnly on 3 split(s).\n",
      "\n",
      "                  Fold 1  Fold 2  Fold 3  Mean    Std     \n",
      "RMSE (testset)    0.5704  0.5692  0.5729  0.5708  0.0016  \n",
      "Fit time          2.04    2.10    1.99    2.04    0.04    \n",
      "Test time         2.78    2.63    2.29    2.56    0.21    \n",
      "Average RMSE from cross-validation is : 0.571\n"
     ]
    }
   ],
   "source": [
    "# Instantiate and fit model\n",
    "baseline = BaselineOnly()\n",
    "baseline.fit(trainset)\n",
    "\n",
    "# Return test predictions for model fit on trainset\n",
    "predictions = baseline.test(testset)\n",
    "\n",
    "# Average RMSE\n",
    "average_rmse_BL = calculate_average_rmse(baseline, music_review)\n",
    "print(f'Average RMSE from cross-validation is : {average_rmse_BL}')"
   ]
  },
  {
   "cell_type": "markdown",
   "metadata": {},
   "source": [
    "SVD"
   ]
  },
  {
   "cell_type": "code",
   "execution_count": 61,
   "metadata": {},
   "outputs": [
    {
     "name": "stdout",
     "output_type": "stream",
     "text": [
      "RMSE: 0.5897\n",
      "Evaluating RMSE of algorithm SVD on 3 split(s).\n",
      "\n",
      "                  Fold 1  Fold 2  Fold 3  Mean    Std     \n",
      "RMSE (testset)    0.5846  0.5827  0.5857  0.5843  0.0012  \n",
      "Fit time          45.07   45.49   46.62   45.73   0.65    \n",
      "Test time         3.45    3.50    2.98    3.31    0.24    \n",
      "Average RMSE from cross-validation is : 0.584\n"
     ]
    }
   ],
   "source": [
    "# Create a basic SVD model with a specified random state\n",
    "svd_basic = SVD(random_state=42)\n",
    "\n",
    "# Fit the basic SVD model to the training set\n",
    "svd_basic.fit(trainset)\n",
    "predictions = svd_basic.test(testset)\n",
    "\n",
    "# Calculate the RMSE for the predictions and store it in svd_simple\n",
    "svd_simple = accuracy.rmse(predictions)\n",
    "\n",
    "# Calculate the average RMSE across all folds using the calculate_average_rmse function\n",
    "average_rmse_SVD1 = calculate_average_rmse(svd_basic, music_review)\n",
    "print(f'Average RMSE from cross-validation is : {average_rmse_SVD1}')"
   ]
  },
  {
   "cell_type": "markdown",
   "metadata": {},
   "source": [
    "SVD grid search"
   ]
  },
  {
   "cell_type": "markdown",
   "metadata": {},
   "source": [
    "dont run this"
   ]
  },
  {
   "cell_type": "code",
   "execution_count": 23,
   "metadata": {},
   "outputs": [],
   "source": [
    "# # Define a range of hyperparameters for GridSearchCV with SVD++\n",
    "# param_grid = {\n",
    "#     'n_factors': [50, 100, 150],  # Number of factors\n",
    "#     'n_epochs': [20, 30],  # Number of epochs\n",
    "#     'lr_all': [0.005, 0.01],  # Learning rate\n",
    "#     'reg_all': [0.02, 0.1]  # Regularization term\n",
    "# }\n",
    "\n",
    "# # Setup GridSearchCV with SVD++\n",
    "# gs_svd = GridSearchCV(SVD, param_grid, measures=['rmse', 'mae'], cv=3, n_jobs=-1)\n",
    "\n",
    "# # Fit the model\n",
    "# gs_svd.fit(music_review)\n",
    "\n",
    "# # Best score and parameters\n",
    "# best_rmse = gs_svd.best_score['rmse']\n",
    "# best_params = gs_svd.best_params['rmse']\n",
    "\n",
    "# print(f\"Best RMSE: {best_rmse}\")\n",
    "# print(f\"Best parameters: {best_params}\")\n"
   ]
  },
  {
   "cell_type": "markdown",
   "metadata": {},
   "source": [
    "Best RMSE: 1.0993641323939394\n",
    "\n",
    "Best parameters: {'n_factors': 50, 'n_epochs': 30, 'lr_all': 0.01, 'reg_all': 0.1}"
   ]
  },
  {
   "cell_type": "code",
   "execution_count": 62,
   "metadata": {},
   "outputs": [
    {
     "name": "stdout",
     "output_type": "stream",
     "text": [
      "RMSE: 0.6198\n",
      "Evaluating RMSE of algorithm SVD on 3 split(s).\n",
      "\n",
      "                  Fold 1  Fold 2  Fold 3  Mean    Std     \n",
      "RMSE (testset)    0.6119  0.6135  0.6124  0.6126  0.0007  \n",
      "Fit time          46.59   46.85   47.44   46.96   0.36    \n",
      "Test time         3.34    3.28    2.67    3.10    0.31    \n",
      "Average RMSE from cross-validation is : 0.613\n"
     ]
    }
   ],
   "source": [
    "# Define a more complex SVD model with specified parameters\n",
    "SVD_2 = SVD(n_factors=50, n_epochs=30, lr_all=0.01, reg_all=0.1, random_state=42)\n",
    "\n",
    "# Fit the more complex SVD model to the training set\n",
    "SVD_2.fit(trainset)\n",
    "predictions = SVD_2.test(testset)\n",
    "\n",
    "# Calculate the RMSE for the predictions and store it in svd_simple\n",
    "svd_simple = accuracy.rmse(predictions)\n",
    "\n",
    "# Calculate the average RMSE across all folds using the calculate_average_rmse function\n",
    "average_rmse_SVD2 = calculate_average_rmse(SVD_2, music_review)\n",
    "print(f'Average RMSE from cross-validation is : {average_rmse_SVD2}')"
   ]
  },
  {
   "cell_type": "markdown",
   "metadata": {},
   "source": [
    "second gride search"
   ]
  },
  {
   "cell_type": "code",
   "execution_count": 26,
   "metadata": {
    "scrolled": true
   },
   "outputs": [],
   "source": [
    "# # Setup new hyperparameter dictionary\n",
    "# svd_param_grid2 = {'n_factors':[5, 20],\n",
    "#                   'n_epochs': [20, 40], \n",
    "#                   'lr_all': [0.05, .005],\n",
    "#                   'reg_all': [0.01, 0.02]}\n",
    "# svd_gr_3 = GridSearchCV(SVD,param_grid=svd_param_grid2,joblib_verbose=10, n_jobs=-1, cv=3)\n",
    "\n",
    "# # Return best_params based on RMSE\n",
    "# svd_gr_3 .fit(music_review)\n",
    "# svd_gr_3 .best_params['rmse']"
   ]
  },
  {
   "cell_type": "markdown",
   "metadata": {},
   "source": [
    "{'n_factors': 5, 'n_epochs': 20, 'lr_all': 0.005, 'reg_all': 0.02}"
   ]
  },
  {
   "cell_type": "code",
   "execution_count": 64,
   "metadata": {},
   "outputs": [
    {
     "name": "stdout",
     "output_type": "stream",
     "text": [
      "RMSE: 0.5871\n",
      "Evaluating RMSE of algorithm SVD on 3 split(s).\n",
      "\n",
      "                  Fold 1  Fold 2  Fold 3  Mean    Std     \n",
      "RMSE (testset)    0.5814  0.5812  0.5833  0.5820  0.0009  \n",
      "Fit time          13.12   12.65   12.72   12.83   0.21    \n",
      "Test time         2.98    3.02    2.67    2.89    0.16    \n",
      "Average RMSE from cross-validation is : 0.582\n"
     ]
    }
   ],
   "source": [
    "# Define SVD model with specified parameters\n",
    "SVD_3 = SVD(n_factors=5, n_epochs=20, lr_all=0.005, reg_all=0.02, random_state=42)\n",
    "\n",
    "# Fit the SVD model to the training set\n",
    "SVD_3.fit(trainset)\n",
    "predictions = SVD_3.test(testset)\n",
    "\n",
    "# Calculate the RMSE for the predictions and store it in svd_simple_3\n",
    "svd_simple_3 = accuracy.rmse(predictions)\n",
    "\n",
    "# Calculate the average RMSE across all folds using the calculate_average_rmse function\n",
    "average_rmse_SVD3 = calculate_average_rmse(SVD_3, music_review)\n",
    "print(f'Average RMSE from cross-validation is : {average_rmse_SVD3}')\n"
   ]
  },
  {
   "cell_type": "markdown",
   "metadata": {},
   "source": [
    "SVD++"
   ]
  },
  {
   "cell_type": "code",
   "execution_count": 29,
   "metadata": {},
   "outputs": [
    {
     "name": "stdout",
     "output_type": "stream",
     "text": [
      "RMSE: 0.6042\n"
     ]
    }
   ],
   "source": [
    "# Instantiate - fit on trainset - score the model on testset\n",
    "SVDpp_basic= SVDpp(n_factors=1, n_epochs=25, random_state=42, reg_all=0.05)\n",
    "SVDpp_basic.fit(trainset)\n",
    "predictions = SVDpp_basic.test(testset)\n",
    "SVDpp_gs = accuracy.rmse(predictions)"
   ]
  },
  {
   "cell_type": "markdown",
   "metadata": {},
   "source": [
    "svd ++ gride search"
   ]
  },
  {
   "cell_type": "code",
   "execution_count": 35,
   "metadata": {
    "scrolled": true
   },
   "outputs": [
    {
     "name": "stderr",
     "output_type": "stream",
     "text": [
      "[Parallel(n_jobs=-1)]: Using backend LokyBackend with 8 concurrent workers.\n",
      "[Parallel(n_jobs=-1)]: Done   2 tasks      | elapsed:  9.1min\n",
      "[Parallel(n_jobs=-1)]: Done   9 tasks      | elapsed: 19.9min\n",
      "[Parallel(n_jobs=-1)]: Done  12 out of  24 | elapsed: 26.0min remaining: 26.0min\n",
      "[Parallel(n_jobs=-1)]: Done  15 out of  24 | elapsed: 27.2min remaining: 16.3min\n",
      "[Parallel(n_jobs=-1)]: Done  18 out of  24 | elapsed: 29.7min remaining:  9.9min\n",
      "[Parallel(n_jobs=-1)]: Done  21 out of  24 | elapsed: 41.3min remaining:  5.9min\n",
      "[Parallel(n_jobs=-1)]: Done  24 out of  24 | elapsed: 41.7min finished\n"
     ]
    },
    {
     "data": {
      "text/plain": [
       "{'n_factors': 5, 'n_epochs': 25, 'reg_all': 0.05}"
      ]
     },
     "execution_count": 35,
     "metadata": {},
     "output_type": "execute_result"
    }
   ],
   "source": [
    "# param_grid = {'n_factors':[1, 5],\n",
    "#                     'n_epochs':[25, 50],\n",
    "#                     'reg_all':[0.02, 0.05]}\n",
    "\n",
    "# # Setup GridSearchCV with SVD++\n",
    "# gs_svdpp = GridSearchCV(SVDpp, param_grid, cv=3, joblib_verbose=10, n_jobs=-1, return_train_measures=True)\n",
    "\n",
    "\n",
    "# # Return best_params based on RMSE\n",
    "# gs_svdpp .fit(music_review)\n",
    "# gs_svdpp .best_params['rmse']"
   ]
  },
  {
   "cell_type": "code",
   "execution_count": 36,
   "metadata": {},
   "outputs": [
    {
     "name": "stdout",
     "output_type": "stream",
     "text": [
      "RMSE: 0.6040\n"
     ]
    }
   ],
   "source": [
    "SVDpp_2= SVDpp(n_factors=5, n_epochs=25, random_state=42, reg_all=0.05)\n",
    "SVDpp_2.fit(trainset)\n",
    "predictions = SVDpp_2.test(testset)\n",
    "SVDpp_2_gs = accuracy.rmse(predictions)"
   ]
  },
  {
   "cell_type": "markdown",
   "metadata": {},
   "source": [
    "use - coclustering"
   ]
  },
  {
   "cell_type": "code",
   "execution_count": 69,
   "metadata": {},
   "outputs": [
    {
     "name": "stdout",
     "output_type": "stream",
     "text": [
      "RMSE: 0.6855\n",
      "Evaluating RMSE of algorithm CoClustering on 3 split(s).\n",
      "\n",
      "                  Fold 1  Fold 2  Fold 3  Mean    Std     \n",
      "RMSE (testset)    0.6793  0.6704  0.6825  0.6774  0.0051  \n",
      "Fit time          121.71  123.08  123.33  122.71  0.71    \n",
      "Test time         3.32    2.87    2.66    2.95    0.27    \n",
      "Average RMSE from cross-validation is : 0.677\n"
     ]
    }
   ],
   "source": [
    "from surprise import CoClustering  # Importing the CoClustering algorithm\n",
    "\n",
    "# Define a CoClustering model with specified parameters\n",
    "co_clustering = CoClustering(n_cltr_u=3, n_cltr_i=3, n_epochs=30, random_state=42)\n",
    "\n",
    "# Fit the CoClustering model to the training set\n",
    "co_clustering.fit(trainset)\n",
    "\n",
    "# Generate predictions on the test set using the CoClustering model\n",
    "predictions = co_clustering.test(testset)\n",
    "\n",
    "# Calculate the RMSE for the predictions and store it in co_clustering_simple\n",
    "co_clustering_simple = accuracy.rmse(predictions)\n",
    "\n",
    "# Calculate the average RMSE across all folds using the calculate_average_rmse function\n",
    "average_rmse_co_clustering = calculate_average_rmse(co_clustering, music_review)\n",
    "print(f'Average RMSE from cross-validation is : {average_rmse_co_clustering}')\n"
   ]
  },
  {
   "cell_type": "markdown",
   "metadata": {},
   "source": [
    "Model Evaluation"
   ]
  },
  {
   "cell_type": "code",
   "execution_count": 70,
   "metadata": {},
   "outputs": [],
   "source": [
    "results = {\n",
    "    'NormalPredictor': average_rmse_NP,\n",
    "    'BaselineOnly': average_rmse_BL,\n",
    "    'svd_basic': average_rmse_SVD1,\n",
    "    'SVD_2 ': average_rmse_SVD2,\n",
    "    'SVD_3':average_rmse_SVD3,\n",
    "    'SVDpp_basic':SVDpp_gs,\n",
    "    'SVDpp_2':SVDpp_2_gs, \n",
    "    'co_clustering' : average_rmse_co_clustering,\n",
    "}"
   ]
  },
  {
   "cell_type": "code",
   "execution_count": 71,
   "metadata": {},
   "outputs": [
    {
     "data": {
      "image/png": "[encoded data removed]",
      "text/plain": [
       "<Figure size 720x432 with 1 Axes>"
      ]
     },
     "metadata": {
      "needs_background": "light"
     },
     "output_type": "display_data"
    }
   ],
   "source": [
    "import matplotlib.pyplot as plt\n",
    "\n",
    "# Sort results based on values\n",
    "sorted_results = dict(sorted(results.items(), key=lambda item: item[1]))\n",
    "\n",
    "# Create a bar plot\n",
    "fig, ax = plt.subplots(figsize=(10, 6))\n",
    "\n",
    "colors = ['#c7dfeb', '#494373', '#9ebbd7', '#7d92bf', '#a6cee3', '#1f78b4', '#33a02c']\n",
    "\n",
    "plt.bar(sorted_results.keys(), sorted_results.values(), color=colors)\n",
    "\n",
    "plt.xlabel('Models')\n",
    "plt.ylabel('Cross-validation Score')\n",
    "plt.title('Cross-validation Score Comparison for Different Models')\n",
    "plt.xticks(rotation=45, ha=\"right\")\n",
    "\n",
    "plt.show()\n"
   ]
  },
  {
   "cell_type": "markdown",
   "metadata": {},
   "source": [
    "Recommendation function "
   ]
  },
  {
   "cell_type": "markdown",
   "metadata": {},
   "source": [
    "pickle"
   ]
  },
  {
   "cell_type": "code",
   "execution_count": 76,
   "metadata": {},
   "outputs": [
    {
     "data": {
      "text/plain": [
       "<surprise.prediction_algorithms.matrix_factorization.SVD at 0x18347a97790>"
      ]
     },
     "execution_count": 76,
     "metadata": {},
     "output_type": "execute_result"
    }
   ],
   "source": [
    "# Using Surprise, a full trainset incorporating all data can be built\n",
    "trainset_full = music_review.build_full_trainset()\n",
    "\n",
    "# Fit the SVD3 model to the full trainset to make full predictions\n",
    "SVD_3.fit(trainset_full)\n"
   ]
  },
  {
   "cell_type": "code",
   "execution_count": 77,
   "metadata": {},
   "outputs": [],
   "source": [
    "model_filename = 'SVD3.pkl'\n",
    "with open(model_filename, 'wb') as file:\n",
    "    pickle.dump(SVD_3, file)"
   ]
  },
  {
   "cell_type": "code",
   "execution_count": 111,
   "metadata": {},
   "outputs": [],
   "source": [
    "music_meta = pd.read_csv('./Data/music_meta.csv')\n",
    "music_meta.drop(columns =['Unnamed: 0'], inplace=True)"
   ]
  },
  {
   "cell_type": "code",
   "execution_count": 112,
   "metadata": {},
   "outputs": [
    {
     "data": {
      "text/html": [
       "<div>\n",
       "<style scoped>\n",
       "    .dataframe tbody tr th:only-of-type {\n",
       "        vertical-align: middle;\n",
       "    }\n",
       "\n",
       "    .dataframe tbody tr th {\n",
       "        vertical-align: top;\n",
       "    }\n",
       "\n",
       "    .dataframe thead th {\n",
       "        text-align: right;\n",
       "    }\n",
       "</style>\n",
       "<table border=\"1\" class=\"dataframe\">\n",
       "  <thead>\n",
       "    <tr style=\"text-align: right;\">\n",
       "      <th></th>\n",
       "      <th>description</th>\n",
       "      <th>title</th>\n",
       "      <th>brand</th>\n",
       "      <th>asin</th>\n",
       "      <th>style</th>\n",
       "    </tr>\n",
       "  </thead>\n",
       "  <tbody>\n",
       "    <tr>\n",
       "      <th>0</th>\n",
       "      <td>[]</td>\n",
       "      <td>Master Collection Volume One</td>\n",
       "      <td>John Michael Talbot</td>\n",
       "      <td>0001377647</td>\n",
       "      <td>Audio CD</td>\n",
       "    </tr>\n",
       "    <tr>\n",
       "      <th>1</th>\n",
       "      <td>[]</td>\n",
       "      <td>Hymns Collection: Hymns 1 &amp;amp; 2</td>\n",
       "      <td>Second Chapter of Acts</td>\n",
       "      <td>0001529145</td>\n",
       "      <td>Audio CD</td>\n",
       "    </tr>\n",
       "    <tr>\n",
       "      <th>2</th>\n",
       "      <td>[]</td>\n",
       "      <td>Early Works - Don Francisco</td>\n",
       "      <td>Don Francisco</td>\n",
       "      <td>0001527134</td>\n",
       "      <td>Audio CD</td>\n",
       "    </tr>\n",
       "    <tr>\n",
       "      <th>3</th>\n",
       "      <td>[]</td>\n",
       "      <td>So You Wanna Go Back to Egypt</td>\n",
       "      <td>Keith Green</td>\n",
       "      <td>0001388703</td>\n",
       "      <td>Audio CD</td>\n",
       "    </tr>\n",
       "    <tr>\n",
       "      <th>4</th>\n",
       "      <td>[\"1. Losing Game 2. I Can't Wait 3. Didn't He ...</td>\n",
       "      <td>Early Works - Dallas Holm</td>\n",
       "      <td>Dallas Holm</td>\n",
       "      <td>0001526146</td>\n",
       "      <td>Audio CD</td>\n",
       "    </tr>\n",
       "    <tr>\n",
       "      <th>...</th>\n",
       "      <td>...</td>\n",
       "      <td>...</td>\n",
       "      <td>...</td>\n",
       "      <td>...</td>\n",
       "      <td>...</td>\n",
       "    </tr>\n",
       "    <tr>\n",
       "      <th>74342</th>\n",
       "      <td>['1. \"Free At Last\" Southside 1:21 2. \"Never G...</td>\n",
       "      <td>FUTURE PRESENTS: 56 NIGHTS</td>\n",
       "      <td>FUTURE</td>\n",
       "      <td>B01HH7D5KU</td>\n",
       "      <td>MP3 Music</td>\n",
       "    </tr>\n",
       "    <tr>\n",
       "      <th>74343</th>\n",
       "      <td>[]</td>\n",
       "      <td>Tori Amos - Little Earthquakes? - Lp Vinyl Record</td>\n",
       "      <td>Tori Amos</td>\n",
       "      <td>B01HHGQXI2</td>\n",
       "      <td>MP3 Music</td>\n",
       "    </tr>\n",
       "    <tr>\n",
       "      <th>74344</th>\n",
       "      <td>[]</td>\n",
       "      <td>EXO - EX'ACT 3rd Album [Korean Lucky One Versi...</td>\n",
       "      <td>EXO</td>\n",
       "      <td>B01HHRIKKK</td>\n",
       "      <td>MP3 Music</td>\n",
       "    </tr>\n",
       "    <tr>\n",
       "      <th>74345</th>\n",
       "      <td>[]</td>\n",
       "      <td>Vanilla Fudge (Korea Edition)</td>\n",
       "      <td>NaN</td>\n",
       "      <td>B01HI2B3G2</td>\n",
       "      <td>MP3 Music</td>\n",
       "    </tr>\n",
       "    <tr>\n",
       "      <th>74346</th>\n",
       "      <td>['album 2016: 01.Autogram 02.Dobrotvorne svrhe...</td>\n",
       "      <td>CD Svetlana Ceca Raznatovic New Album 2016 Aut...</td>\n",
       "      <td>Svetlana Ceca Raznatovic</td>\n",
       "      <td>B01HIT3KZC</td>\n",
       "      <td>MP3 Music</td>\n",
       "    </tr>\n",
       "  </tbody>\n",
       "</table>\n",
       "<p>74347 rows × 5 columns</p>\n",
       "</div>"
      ],
      "text/plain": [
       "                                             description  \\\n",
       "0                                                     []   \n",
       "1                                                     []   \n",
       "2                                                     []   \n",
       "3                                                     []   \n",
       "4      [\"1. Losing Game 2. I Can't Wait 3. Didn't He ...   \n",
       "...                                                  ...   \n",
       "74342  ['1. \"Free At Last\" Southside 1:21 2. \"Never G...   \n",
       "74343                                                 []   \n",
       "74344                                                 []   \n",
       "74345                                                 []   \n",
       "74346  ['album 2016: 01.Autogram 02.Dobrotvorne svrhe...   \n",
       "\n",
       "                                                   title  \\\n",
       "0                           Master Collection Volume One   \n",
       "1                      Hymns Collection: Hymns 1 &amp; 2   \n",
       "2                            Early Works - Don Francisco   \n",
       "3                          So You Wanna Go Back to Egypt   \n",
       "4                              Early Works - Dallas Holm   \n",
       "...                                                  ...   \n",
       "74342                         FUTURE PRESENTS: 56 NIGHTS   \n",
       "74343  Tori Amos - Little Earthquakes? - Lp Vinyl Record   \n",
       "74344  EXO - EX'ACT 3rd Album [Korean Lucky One Versi...   \n",
       "74345                      Vanilla Fudge (Korea Edition)   \n",
       "74346  CD Svetlana Ceca Raznatovic New Album 2016 Aut...   \n",
       "\n",
       "                          brand        asin       style  \n",
       "0           John Michael Talbot  0001377647    Audio CD  \n",
       "1        Second Chapter of Acts  0001529145    Audio CD  \n",
       "2                 Don Francisco  0001527134    Audio CD  \n",
       "3                   Keith Green  0001388703    Audio CD  \n",
       "4                   Dallas Holm  0001526146    Audio CD  \n",
       "...                         ...         ...         ...  \n",
       "74342                    FUTURE  B01HH7D5KU   MP3 Music  \n",
       "74343                 Tori Amos  B01HHGQXI2   MP3 Music  \n",
       "74344                       EXO  B01HHRIKKK   MP3 Music  \n",
       "74345                       NaN  B01HI2B3G2   MP3 Music  \n",
       "74346  Svetlana Ceca Raznatovic  B01HIT3KZC   MP3 Music  \n",
       "\n",
       "[74347 rows x 5 columns]"
      ]
     },
     "execution_count": 112,
     "metadata": {},
     "output_type": "execute_result"
    }
   ],
   "source": [
    "music_meta"
   ]
  },
  {
   "cell_type": "code",
   "execution_count": 94,
   "metadata": {
    "scrolled": false
   },
   "outputs": [
    {
     "data": {
      "text/html": [
       "<div>\n",
       "<style scoped>\n",
       "    .dataframe tbody tr th:only-of-type {\n",
       "        vertical-align: middle;\n",
       "    }\n",
       "\n",
       "    .dataframe tbody tr th {\n",
       "        vertical-align: top;\n",
       "    }\n",
       "\n",
       "    .dataframe thead th {\n",
       "        text-align: right;\n",
       "    }\n",
       "</style>\n",
       "<table border=\"1\" class=\"dataframe\">\n",
       "  <thead>\n",
       "    <tr style=\"text-align: right;\">\n",
       "      <th></th>\n",
       "      <th>asin</th>\n",
       "    </tr>\n",
       "    <tr>\n",
       "      <th>reviewerID</th>\n",
       "      <th></th>\n",
       "    </tr>\n",
       "  </thead>\n",
       "  <tbody>\n",
       "    <tr>\n",
       "      <th>A12R54MKO17TW0</th>\n",
       "      <td>0001388703</td>\n",
       "    </tr>\n",
       "    <tr>\n",
       "      <th>A12R54MKO17TW0</th>\n",
       "      <td>B000VZJS84</td>\n",
       "    </tr>\n",
       "    <tr>\n",
       "      <th>A12R54MKO17TW0</th>\n",
       "      <td>B000WLNUN6</td>\n",
       "    </tr>\n",
       "    <tr>\n",
       "      <th>A12R54MKO17TW0</th>\n",
       "      <td>B001232RGE</td>\n",
       "    </tr>\n",
       "    <tr>\n",
       "      <th>A12R54MKO17TW0</th>\n",
       "      <td>B00123KDR4</td>\n",
       "    </tr>\n",
       "  </tbody>\n",
       "</table>\n",
       "</div>"
      ],
      "text/plain": [
       "                      asin\n",
       "reviewerID                \n",
       "A12R54MKO17TW0  0001388703\n",
       "A12R54MKO17TW0  B000VZJS84\n",
       "A12R54MKO17TW0  B000WLNUN6\n",
       "A12R54MKO17TW0  B001232RGE\n",
       "A12R54MKO17TW0  B00123KDR4"
      ]
     },
     "execution_count": 94,
     "metadata": {},
     "output_type": "execute_result"
    }
   ],
   "source": [
    "music_review_fun=music_review2.set_index('reviewerID')\n",
    "music_review_fun.drop(columns=['overall', 'reviewText', 'overall_avg', 'normalized_rating'], inplace=True)\n",
    "music_review_fun.head()"
   ]
  },
  {
   "cell_type": "code",
   "execution_count": null,
   "metadata": {},
   "outputs": [],
   "source": []
  },
  {
   "cell_type": "code",
   "execution_count": 139,
   "metadata": {},
   "outputs": [
    {
     "name": "stdout",
     "output_type": "stream",
     "text": [
      "UserId: A12R54MKO17TW0\n",
      "How many recommendations? 5\n"
     ]
    },
    {
     "data": {
      "text/html": [
       "<div>\n",
       "<style scoped>\n",
       "    .dataframe tbody tr th:only-of-type {\n",
       "        vertical-align: middle;\n",
       "    }\n",
       "\n",
       "    .dataframe tbody tr th {\n",
       "        vertical-align: top;\n",
       "    }\n",
       "\n",
       "    .dataframe thead th {\n",
       "        text-align: right;\n",
       "    }\n",
       "</style>\n",
       "<table border=\"1\" class=\"dataframe\">\n",
       "  <thead>\n",
       "    <tr style=\"text-align: right;\">\n",
       "      <th></th>\n",
       "      <th>index</th>\n",
       "      <th>description</th>\n",
       "      <th>title</th>\n",
       "      <th>brand</th>\n",
       "      <th>asin</th>\n",
       "      <th>style</th>\n",
       "      <th>est_rating</th>\n",
       "    </tr>\n",
       "  </thead>\n",
       "  <tbody>\n",
       "    <tr>\n",
       "      <th>73134</th>\n",
       "      <td>73168</td>\n",
       "      <td>[\"This is a bundling of two remastered albums ...</td>\n",
       "      <td>Nirvana Nevermind and in Utero</td>\n",
       "      <td>Nirvana</td>\n",
       "      <td>B01BWT8CCU</td>\n",
       "      <td>MP3 Music</td>\n",
       "      <td>0.493886</td>\n",
       "    </tr>\n",
       "    <tr>\n",
       "      <th>64375</th>\n",
       "      <td>64409</td>\n",
       "      <td>[\"Who's Afraid of Virginia Woolf? (Original Br...</td>\n",
       "      <td>Who's Afraid of Virginia Woolf? Original Broad...</td>\n",
       "      <td>Original Broadway Cast of Who's Afraid of Virg...</td>\n",
       "      <td>B00J3CTVXI</td>\n",
       "      <td>MP3 Music</td>\n",
       "      <td>0.453622</td>\n",
       "    </tr>\n",
       "    <tr>\n",
       "      <th>60132</th>\n",
       "      <td>60166</td>\n",
       "      <td>['RECOPILACION DE SUS GRANDES EXITOS']</td>\n",
       "      <td>ANTOLOGIA MUSICAL (3 CD'S + DVD)</td>\n",
       "      <td>Los Bukis</td>\n",
       "      <td>B00CFXXTK8</td>\n",
       "      <td>MP3 Music</td>\n",
       "      <td>0.439563</td>\n",
       "    </tr>\n",
       "    <tr>\n",
       "      <th>22710</th>\n",
       "      <td>22717</td>\n",
       "      <td>[]</td>\n",
       "      <td>Beginning of Something Big</td>\n",
       "      <td>Chad Frey</td>\n",
       "      <td>B000CAJF0E</td>\n",
       "      <td>Unknown</td>\n",
       "      <td>0.429563</td>\n",
       "    </tr>\n",
       "    <tr>\n",
       "      <th>38371</th>\n",
       "      <td>38394</td>\n",
       "      <td>[]</td>\n",
       "      <td>Marching on Your Parade</td>\n",
       "      <td>Chad Frey</td>\n",
       "      <td>B001CISAHY</td>\n",
       "      <td>MP3 Music</td>\n",
       "      <td>0.396934</td>\n",
       "    </tr>\n",
       "  </tbody>\n",
       "</table>\n",
       "</div>"
      ],
      "text/plain": [
       "       index                                        description  \\\n",
       "73134  73168  [\"This is a bundling of two remastered albums ...   \n",
       "64375  64409  [\"Who's Afraid of Virginia Woolf? (Original Br...   \n",
       "60132  60166             ['RECOPILACION DE SUS GRANDES EXITOS']   \n",
       "22710  22717                                                 []   \n",
       "38371  38394                                                 []   \n",
       "\n",
       "                                                   title  \\\n",
       "73134                     Nirvana Nevermind and in Utero   \n",
       "64375  Who's Afraid of Virginia Woolf? Original Broad...   \n",
       "60132                   ANTOLOGIA MUSICAL (3 CD'S + DVD)   \n",
       "22710                         Beginning of Something Big   \n",
       "38371                            Marching on Your Parade   \n",
       "\n",
       "                                                   brand        asin  \\\n",
       "73134                                            Nirvana  B01BWT8CCU   \n",
       "64375  Original Broadway Cast of Who's Afraid of Virg...  B00J3CTVXI   \n",
       "60132                                          Los Bukis  B00CFXXTK8   \n",
       "22710                                          Chad Frey  B000CAJF0E   \n",
       "38371                                          Chad Frey  B001CISAHY   \n",
       "\n",
       "            style  est_rating  \n",
       "73134   MP3 Music    0.493886  \n",
       "64375   MP3 Music    0.453622  \n",
       "60132   MP3 Music    0.439563  \n",
       "22710     Unknown    0.429563  \n",
       "38371   MP3 Music    0.396934  "
      ]
     },
     "execution_count": 139,
     "metadata": {},
     "output_type": "execute_result"
    }
   ],
   "source": [
    "def get_recommendations2(user_id, num_recommendations):\n",
    "    try:\n",
    "        have_reviewed = list(music_review_fun.loc[user_id, 'asin'])\n",
    "    except KeyError:\n",
    "        return \"User ID not found or user hasn't reviewed any items.\"\n",
    "\n",
    "    not_reviewed = music_meta[~music_meta['asin'].isin(have_reviewed)].copy()\n",
    "    not_reviewed.reset_index(inplace=True)\n",
    "\n",
    "    if not_reviewed.empty:\n",
    "        return \"All items have been reviewed by the user.\"\n",
    "\n",
    "    # Use loc to avoid SettingWithCopyWarning\n",
    "    not_reviewed.loc[:, 'est_rating'] = not_reviewed['asin'].apply(lambda x: SVD_3.predict(user_id, x).est)\n",
    "    not_reviewed.sort_values(by='est_rating', ascending=False, inplace=True)\n",
    "\n",
    "    # Get top n recommendations\n",
    "    recommendations = not_reviewed.head(num_recommendations)\n",
    "\n",
    "    return recommendations\n",
    "\n",
    "# Example usage:\n",
    "user = input('UserId: ')\n",
    "n_recs = int(input('How many recommendations? '))\n",
    "recommendations = get_recommendations2(user, n_recs)\n",
    "recommendations\n"
   ]
  },
  {
   "cell_type": "code",
   "execution_count": null,
   "metadata": {},
   "outputs": [],
   "source": []
  }
 ],
 "metadata": {
  "kernelspec": {
   "display_name": "Python 3",
   "language": "python",
   "name": "python3"
  },
  "language_info": {
   "codemirror_mode": {
    "name": "ipython",
    "version": 3
   },
   "file_extension": ".py",
   "mimetype": "text/x-python",
   "name": "python",
   "nbconvert_exporter": "python",
   "pygments_lexer": "ipython3",
   "version": "3.8.5"
  }
 },
 "nbformat": 4,
 "nbformat_minor": 4
}
