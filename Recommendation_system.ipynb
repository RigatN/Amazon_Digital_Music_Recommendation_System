{
 "cells": [
  {
   "cell_type": "code",
   "execution_count": 1,
   "metadata": {},
   "outputs": [],
   "source": [
    "import pandas as pd\n",
    "import pickle\n",
    "import matplotlib.pyplot as plt\n",
    "\n",
    "from surprise import Dataset, Reader, accuracy , KNNWithMeans\n",
    "from surprise.model_selection import cross_validate, train_test_split, GridSearchCV\n",
    "from surprise.prediction_algorithms import SVD, SVDpp, NormalPredictor\n",
    "\n",
    "plt.style.use('fast')\n",
    "%matplotlib inline"
   ]
  },
  {
   "cell_type": "code",
   "execution_count": 2,
   "metadata": {},
   "outputs": [],
   "source": [
    "music_review=pd.read_csv('./Data/music_review.csv')"
   ]
  },
  {
   "cell_type": "code",
   "execution_count": 3,
   "metadata": {
    "scrolled": true
   },
   "outputs": [
    {
     "data": {
      "text/plain": [
       "Unnamed: 0    0\n",
       "overall       0\n",
       "reviewerID    0\n",
       "asin          0\n",
       "reviewText    5\n",
       "dtype: int64"
      ]
     },
     "execution_count": 3,
     "metadata": {},
     "output_type": "execute_result"
    }
   ],
   "source": [
    "music_review.isna().sum()"
   ]
  },
  {
   "cell_type": "code",
   "execution_count": 4,
   "metadata": {},
   "outputs": [],
   "source": [
    "music_review=music_review.drop('Unnamed: 0' , axis=1 )"
   ]
  },
  {
   "cell_type": "code",
   "execution_count": 5,
   "metadata": {},
   "outputs": [],
   "source": [
    "music_review.dropna(inplace=True)"
   ]
  },
  {
   "cell_type": "code",
   "execution_count": 6,
   "metadata": {},
   "outputs": [
    {
     "data": {
      "text/html": [
       "<div>\n",
       "<style scoped>\n",
       "    .dataframe tbody tr th:only-of-type {\n",
       "        vertical-align: middle;\n",
       "    }\n",
       "\n",
       "    .dataframe tbody tr th {\n",
       "        vertical-align: top;\n",
       "    }\n",
       "\n",
       "    .dataframe thead th {\n",
       "        text-align: right;\n",
       "    }\n",
       "</style>\n",
       "<table border=\"1\" class=\"dataframe\">\n",
       "  <thead>\n",
       "    <tr style=\"text-align: right;\">\n",
       "      <th></th>\n",
       "      <th>overall</th>\n",
       "      <th>reviewerID</th>\n",
       "      <th>asin</th>\n",
       "      <th>reviewText</th>\n",
       "    </tr>\n",
       "  </thead>\n",
       "  <tbody>\n",
       "    <tr>\n",
       "      <th>0</th>\n",
       "      <td>5</td>\n",
       "      <td>A1ZCPG3D3HGRSS</td>\n",
       "      <td>0001388703</td>\n",
       "      <td>This is a great cd full of worship favorites!!...</td>\n",
       "    </tr>\n",
       "    <tr>\n",
       "      <th>1</th>\n",
       "      <td>5</td>\n",
       "      <td>AC2PL52NKPL29</td>\n",
       "      <td>0001388703</td>\n",
       "      <td>So creative!  Love his music - the words, the ...</td>\n",
       "    </tr>\n",
       "    <tr>\n",
       "      <th>2</th>\n",
       "      <td>5</td>\n",
       "      <td>A1SUZXBDZSDQ3A</td>\n",
       "      <td>0001388703</td>\n",
       "      <td>Keith Green, gone far to early in his carreer,...</td>\n",
       "    </tr>\n",
       "    <tr>\n",
       "      <th>3</th>\n",
       "      <td>5</td>\n",
       "      <td>A3A0W7FZXM0IZW</td>\n",
       "      <td>0001388703</td>\n",
       "      <td>Keith Green had his special comedy style of Ch...</td>\n",
       "    </tr>\n",
       "    <tr>\n",
       "      <th>4</th>\n",
       "      <td>5</td>\n",
       "      <td>A12R54MKO17TW0</td>\n",
       "      <td>0001388703</td>\n",
       "      <td>Keith Green / So you wanna go back to Egypt......</td>\n",
       "    </tr>\n",
       "  </tbody>\n",
       "</table>\n",
       "</div>"
      ],
      "text/plain": [
       "   overall      reviewerID        asin  \\\n",
       "0        5  A1ZCPG3D3HGRSS  0001388703   \n",
       "1        5   AC2PL52NKPL29  0001388703   \n",
       "2        5  A1SUZXBDZSDQ3A  0001388703   \n",
       "3        5  A3A0W7FZXM0IZW  0001388703   \n",
       "4        5  A12R54MKO17TW0  0001388703   \n",
       "\n",
       "                                          reviewText  \n",
       "0  This is a great cd full of worship favorites!!...  \n",
       "1  So creative!  Love his music - the words, the ...  \n",
       "2  Keith Green, gone far to early in his carreer,...  \n",
       "3  Keith Green had his special comedy style of Ch...  \n",
       "4  Keith Green / So you wanna go back to Egypt......  "
      ]
     },
     "execution_count": 6,
     "metadata": {},
     "output_type": "execute_result"
    }
   ],
   "source": [
    "music_review.head()"
   ]
  },
  {
   "cell_type": "markdown",
   "metadata": {},
   "source": [
    "First_simple_Modeling"
   ]
  },
  {
   "cell_type": "markdown",
   "metadata": {},
   "source": [
    "NoramlPredictor"
   ]
  },
  {
   "cell_type": "code",
   "execution_count": 7,
   "metadata": {},
   "outputs": [],
   "source": [
    "reader = Reader(rating_scale=(1, 5))\n",
    "music_review = Dataset.load_from_df(music_review[['reviewerID', 'asin', 'overall']], reader)\n",
    "\n",
    "trainset, testset = train_test_split(music_review, test_size=0.2, random_state=42)\n"
   ]
  },
  {
   "cell_type": "code",
   "execution_count": 8,
   "metadata": {},
   "outputs": [
    {
     "name": "stdout",
     "output_type": "stream",
     "text": [
      "Evaluating RMSE of algorithm NormalPredictor on 5 split(s).\n",
      "\n",
      "                  Fold 1  Fold 2  Fold 3  Fold 4  Fold 5  Mean    Std     \n",
      "RMSE (testset)    1.0603  1.0599  1.0596  1.0592  1.0577  1.0593  0.0009  \n",
      "Fit time          2.78    2.92    3.20    3.02    2.99    2.98    0.14    \n",
      "Test time         4.17    3.98    2.64    2.56    2.67    3.20    0.71    \n",
      "Average RMSE using NormalPredictor: 1.0593271695817152\n"
     ]
    }
   ],
   "source": [
    "baseline = NormalPredictor()\n",
    "baseline.fit(trainset)\n",
    "\n",
    "# Return test predictions for model fit on trainset\n",
    "predictions = baseline.test(testset)\n",
    "\n",
    "# Save RMSE score to variable\n",
    "results = cross_validate(baseline, music_review, measures=['RMSE'], cv=5, verbose=True)\n",
    "\n",
    "# Average RMSE\n",
    "average_rmse = sum(results['test_rmse']) / len(results['test_rmse'])\n",
    "print(f'Average RMSE using NormalPredictor: {average_rmse}')"
   ]
  },
  {
   "cell_type": "markdown",
   "metadata": {},
   "source": [
    "baseline only"
   ]
  },
  {
   "cell_type": "code",
   "execution_count": 9,
   "metadata": {},
   "outputs": [
    {
     "name": "stdout",
     "output_type": "stream",
     "text": [
      "Estimating biases using als...\n",
      "RMSE: 0.7939\n",
      "Evaluating RMSE of algorithm NormalPredictor on 5 split(s).\n",
      "\n",
      "                  Fold 1  Fold 2  Fold 3  Fold 4  Fold 5  Mean    Std     \n",
      "RMSE (testset)    1.0568  1.0585  1.0611  1.0559  1.0613  1.0587  0.0022  \n",
      "Fit time          3.12    3.10    3.17    2.92    2.88    3.04    0.12    \n",
      "Test time         2.63    4.12    4.13    2.47    2.45    3.16    0.79    \n",
      "Average RMSE using NormalPredictor: 1.0587030735376393\n"
     ]
    }
   ],
   "source": [
    "# Instantiate and fit model\n",
    "baseline2 = BaselineOnly()\n",
    "baseline2.fit(trainset)\n",
    "\n",
    "# Return test predictions for model fit on trainset\n",
    "predictions = baseline2.test(testset)\n",
    "\n",
    "# Save RMSE score to variable\n",
    "baseline_only = accuracy.rmse(predictions)\n",
    "\n",
    "results = cross_validate(baseline, music_review, measures=['RMSE'], cv=5, verbose=True)\n",
    "\n",
    "# Average RMSE\n",
    "average_rmse = sum(results['test_rmse']) / len(results['test_rmse'])\n",
    "print(f'Average RMSE using NormalPredictor: {average_rmse}')"
   ]
  },
  {
   "cell_type": "markdown",
   "metadata": {},
   "source": [
    "SVD"
   ]
  },
  {
   "cell_type": "code",
   "execution_count": 10,
   "metadata": {},
   "outputs": [
    {
     "name": "stdout",
     "output_type": "stream",
     "text": [
      "Evaluating RMSE of algorithm SVD on 3 split(s).\n",
      "\n",
      "                  Fold 1  Fold 2  Fold 3  Mean    Std     \n",
      "RMSE (testset)    0.7934  0.7955  0.7980  0.7956  0.0019  \n",
      "Fit time          91.65   91.60   92.30   91.85   0.32    \n",
      "Test time         6.39    6.21    5.62    6.07    0.33    \n",
      "Average RMSE using NormalPredictor: 0.7956425837128531\n"
     ]
    }
   ],
   "source": [
    "# Cross validate a basic SVD with no hyperparameter tuning expecting sub-par results\n",
    "svd_basic = SVD(random_state=42)\n",
    "results = cross_validate(svd_basic, music_review, measures=['RMSE'], cv=3, n_jobs = -1, verbose=True)\n",
    "\n",
    "# Average RMSE\n",
    "average_rmse = sum(results['test_rmse']) / len(results['test_rmse'])\n",
    "print(f'Average RMSE using NormalPredictor: {average_rmse}')"
   ]
  },
  {
   "cell_type": "code",
   "execution_count": null,
   "metadata": {},
   "outputs": [],
   "source": []
  },
  {
   "cell_type": "markdown",
   "metadata": {},
   "source": [
    "SVD++"
   ]
  },
  {
   "cell_type": "code",
   "execution_count": null,
   "metadata": {},
   "outputs": [],
   "source": [
    "# Define a range of hyperparameters for GridSearchCV with SVD++\n",
    "param_grid = {\n",
    "    'n_factors': [50, 100, 150],  # Number of factors\n",
    "    'n_epochs': [20, 30],  # Number of epochs\n",
    "    'lr_all': [0.005, 0.01],  # Learning rate\n",
    "    'reg_all': [0.02, 0.1]  # Regularization term\n",
    "}\n",
    "\n",
    "# Setup GridSearchCV with SVD++\n",
    "svdpp = GridSearchCV(SVDpp, param_grid, measures=['rmse', 'mae'], cv=3, n_jobs=-1)\n",
    "\n",
    "# Fit the model\n",
    "gs_svdpp.fit(music_review)\n",
    "\n",
    "# Best score and parameters\n",
    "best_rmse = gs_svdpp.best_score['rmse']\n",
    "best_params = gs_svdpp.best_params['rmse']\n",
    "\n",
    "print(f\"Best RMSE: {best_rmse}\")\n",
    "print(f\"Best parameters: {best_params}\")"
   ]
  },
  {
   "cell_type": "code",
   "execution_count": null,
   "metadata": {},
   "outputs": [],
   "source": []
  }
 ],
 "metadata": {
  "kernelspec": {
   "display_name": "Python 3",
   "language": "python",
   "name": "python3"
  },
  "language_info": {
   "codemirror_mode": {
    "name": "ipython",
    "version": 3
   },
   "file_extension": ".py",
   "mimetype": "text/x-python",
   "name": "python",
   "nbconvert_exporter": "python",
   "pygments_lexer": "ipython3",
   "version": "3.8.5"
  }
 },
 "nbformat": 4,
 "nbformat_minor": 4
}
