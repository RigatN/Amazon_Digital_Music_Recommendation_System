{
 "cells": [
  {
   "cell_type": "markdown",
   "metadata": {},
   "source": [
    "# Amazon Digital Music Recommendation System "
   ]
  },
  {
   "cell_type": "markdown",
   "metadata": {},
   "source": [
    "## Overview"
   ]
  },
  {
   "cell_type": "markdown",
   "metadata": {},
   "source": [
    "> In this project, I aim to develop a collaborative filtering recommendation system tailored for Amazon digital music. By leveraging user interactions with music items, such as ratings or purchase histories, the system will analyze patterns and similarities among users and items to generate personalized music recommendations. The project will involve preprocessing the Amazon digital music dataset, training various collaborative filtering models, and evaluating their performance using metrics such as accuracy and coverage. Ultimately, the goal is to deploy a robust recommendation system that enhances the user experience by providing relevant and personalized music suggestions based on their preferences and behaviors.\n"
   ]
  },
  {
   "cell_type": "markdown",
   "metadata": {},
   "source": [
    "## Business Understanding"
   ]
  },
  {
   "cell_type": "markdown",
   "metadata": {},
   "source": [
    "> In the realm of digital music, enhancing user engagement and satisfaction is paramount for online platforms like Amazon. By implementing a collaborative filtering recommendation system, Amazon aims to provide users with personalized music recommendations that resonate with their tastes and preferences. This not only fosters a more enjoyable user experience but also increases user retention and loyalty. Additionally, by surfacing relevant music content, Amazon can potentially boost sales and revenue through increased music streaming or purchases. Understanding user preferences and behavior through collaborative filtering enables Amazon to tailor its offerings and marketing strategies, ultimately leading to a more successful and customer-centric digital music platform."
   ]
  },
  {
   "cell_type": "markdown",
   "metadata": {},
   "source": [
    "# Data Understanding"
   ]
  },
  {
   "cell_type": "markdown",
   "metadata": {},
   "source": [
    "> The dataset, was pulled from a compiled dataset of Amazon.The data set can be found in [here](https://nijianmo.github.io/amazon/index.html).The data contains two zipped JSON files: the review and metadata. Due to the large size of the data, GitHub couldn't allow me to upload it here, but it can be found on the link I provided above.\n",
    "\n",
    "> Given that the rating distribution is not normal, it could influence our recommendation system model. Hence, we'll generate a new normalized rating column by subtracting the average rating of each reviewID from the original rating."
   ]
  },
  {
   "cell_type": "code",
   "execution_count": 3,
   "metadata": {},
   "outputs": [],
   "source": [
    "#imports\n",
    "import pandas as pd\n",
    "import pickle\n",
    "import matplotlib.pyplot as plt\n",
    "import seaborn as sns\n",
    "import numpy as np\n",
    "\n",
    "from surprise import Dataset, Reader, accuracy , KNNWithMeans\n",
    "from surprise.model_selection import cross_validate, train_test_split, GridSearchCV\n",
    "from surprise.prediction_algorithms import SVD, SVDpp, NormalPredictor , BaselineOnly\n",
    "\n",
    "plt.style.use('fast')\n",
    "%matplotlib inline"
   ]
  },
  {
   "cell_type": "code",
   "execution_count": 4,
   "metadata": {},
   "outputs": [],
   "source": [
    "# Read the CSV file 'music_review.csv' from the './Data/' directory into a DataFrame named 'music_review2'\n",
    "music_review2 = pd.read_csv('./Data/music_review.csv')"
   ]
  },
  {
   "cell_type": "code",
   "execution_count": 5,
   "metadata": {},
   "outputs": [
    {
     "data": {
      "text/plain": [
       "456811"
      ]
     },
     "execution_count": 5,
     "metadata": {},
     "output_type": "execute_result"
    }
   ],
   "source": [
    "music_review2.asin.nunique()"
   ]
  },
  {
   "cell_type": "code",
   "execution_count": 6,
   "metadata": {},
   "outputs": [
    {
     "data": {
      "text/plain": [
       "839565"
      ]
     },
     "execution_count": 6,
     "metadata": {},
     "output_type": "execute_result"
    }
   ],
   "source": [
    "music_review2.reviewerID.nunique()"
   ]
  },
  {
   "cell_type": "code",
   "execution_count": 7,
   "metadata": {
    "scrolled": true
   },
   "outputs": [
    {
     "data": {
      "text/plain": [
       "Unnamed: 0    0\n",
       "overall       0\n",
       "reviewerID    0\n",
       "asin          0\n",
       "reviewText    5\n",
       "dtype: int64"
      ]
     },
     "execution_count": 7,
     "metadata": {},
     "output_type": "execute_result"
    }
   ],
   "source": [
    "music_review2.isna().sum()"
   ]
  },
  {
   "cell_type": "code",
   "execution_count": 8,
   "metadata": {},
   "outputs": [],
   "source": [
    "# Drop the 'Unnamed: 0' column from the DataFrame 'music_review2'\n",
    "music_review2 = music_review2.drop('Unnamed: 0', axis=1)"
   ]
  },
  {
   "cell_type": "code",
   "execution_count": 9,
   "metadata": {},
   "outputs": [],
   "source": [
    "music_review2.dropna(inplace=True)"
   ]
  },
  {
   "cell_type": "markdown",
   "metadata": {},
   "source": [
    "grouby by asin and join review text "
   ]
  },
  {
   "cell_type": "code",
   "execution_count": 10,
   "metadata": {
    "scrolled": true
   },
   "outputs": [
    {
     "data": {
      "text/plain": [
       "A3W4D8XOGLWUN5    1255\n",
       "AQ4B80F0JSBNI      660\n",
       "A1Q0BU32CVOLRA     638\n",
       "A2WQY1B8ZS7QRZ     534\n",
       "A2H3JURQZOHVMB     484\n",
       "                  ... \n",
       "A37Z1G8Y009I3Y       1\n",
       "A24UEC8FX5SKET       1\n",
       "A1O5VY6M0JYJJV       1\n",
       "A27QQH3I1E5HWM       1\n",
       "A2WFBEY845W1CT       1\n",
       "Name: reviewerID, Length: 839565, dtype: int64"
      ]
     },
     "execution_count": 10,
     "metadata": {},
     "output_type": "execute_result"
    }
   ],
   "source": [
    "music_review2.reviewerID.value_counts()"
   ]
  },
  {
   "cell_type": "markdown",
   "metadata": {},
   "source": [
    "> Let's eliminate rows with a total review and asin(song) count of one, as they are unlikely to significantly impact our model."
   ]
  },
  {
   "cell_type": "code",
   "execution_count": 11,
   "metadata": {},
   "outputs": [],
   "source": [
    "# Count the occurrences of each reviewer ID\n",
    "reviewer_counts = music_review2['reviewerID'].value_counts()\n",
    "\n",
    "# Find reviewer IDs with count equals to 1\n",
    "reviewer_ids_to_drop = reviewer_counts[reviewer_counts == 1].index\n",
    "\n",
    "# Drop rows where reviewer ID is in the list of IDs to drop\n",
    "music_review2 = music_review2[~music_review2['reviewerID'].isin(reviewer_ids_to_drop)]\n"
   ]
  },
  {
   "cell_type": "code",
   "execution_count": 12,
   "metadata": {
    "scrolled": true
   },
   "outputs": [
    {
     "data": {
      "text/plain": [
       "B00CZF8B68    1661\n",
       "B00M8JCW3E     865\n",
       "B00NPZI1ZS     767\n",
       "B00BWGHIHY     762\n",
       "B0092MKTL2     746\n",
       "              ... \n",
       "B001MCKJTC       1\n",
       "B00DG9KI4A       1\n",
       "B00BJ9KFQK       1\n",
       "B001O0MNSW       1\n",
       "B00137KRXY       1\n",
       "Name: asin, Length: 333636, dtype: int64"
      ]
     },
     "execution_count": 12,
     "metadata": {},
     "output_type": "execute_result"
    }
   ],
   "source": [
    "music_review2.asin.value_counts()"
   ]
  },
  {
   "cell_type": "code",
   "execution_count": 13,
   "metadata": {},
   "outputs": [],
   "source": [
    "# Count the occurrences of each reviewer ID\n",
    "asin_counts = music_review2['asin'].value_counts()\n",
    "\n",
    "# Find reviewer IDs with count equals to 1\n",
    "asin_to_drop = asin_counts[asin_counts == 1].index\n",
    "\n",
    "# Drop rows where reviewer ID is in the list of IDs to drop\n",
    "music_review2 = music_review2[~music_review2['reviewerID'].isin(reviewer_ids_to_drop)]"
   ]
  },
  {
   "cell_type": "markdown",
   "metadata": {},
   "source": [
    "> Given that the rating distribution is not normal, it could influence our recommendation system model. Hence, we'll generate a new normalized rating column by subtracting the average rating of each reviewID from the original rating.\n"
   ]
  },
  {
   "cell_type": "code",
   "execution_count": 14,
   "metadata": {
    "scrolled": false
   },
   "outputs": [
    {
     "data": {
      "image/png": "[encoded data removed]",
      "text/plain": [
       "<Figure size 432x288 with 1 Axes>"
      ]
     },
     "metadata": {
      "needs_background": "light"
     },
     "output_type": "display_data"
    }
   ],
   "source": [
    "sns.histplot(music_review2.overall)\n",
    "plt.savefig('./Images/distribution_of_rating.png')\n",
    "\n",
    "# Show the plot\n",
    "plt.show()"
   ]
  },
  {
   "cell_type": "code",
   "execution_count": 15,
   "metadata": {
    "scrolled": false
   },
   "outputs": [],
   "source": [
    "# Convert 'overall' column to integers\n",
    "music_review2['overall'] = music_review2['overall'].astype(int)\n",
    "\n",
    "# Calculate average rating for each reviewer\n",
    "reviewer_avg_ratings = music_review2.groupby('reviewerID')['overall'].mean().reset_index()\n",
    "\n",
    "# Merge the average ratings back into the DataFrame\n",
    "music_review2 = music_review2.merge(reviewer_avg_ratings, on='reviewerID', suffixes=('', '_avg'))\n",
    "\n",
    "# Subtract average rating from each rating\n",
    "music_review2['normalized_rating'] = music_review2['overall'] - music_review2['overall_avg']"
   ]
  },
  {
   "cell_type": "code",
   "execution_count": 16,
   "metadata": {
    "scrolled": true
   },
   "outputs": [
    {
     "data": {
      "text/plain": [
       "(-3.973140495867769, 3.891891891891892)"
      ]
     },
     "execution_count": 16,
     "metadata": {},
     "output_type": "execute_result"
    }
   ],
   "source": [
    "# Display the minimum and maximum values of the 'normalized_rating' column in the DataFrame 'music_review2'\n",
    "music_review2.normalized_rating.min(), music_review2.normalized_rating.max()"
   ]
  },
  {
   "cell_type": "markdown",
   "metadata": {},
   "source": [
    "### Function for cross-validation"
   ]
  },
  {
   "cell_type": "markdown",
   "metadata": {},
   "source": [
    ">The function calculate_average_rmse serves to assess the performance of a recommendation system model by computing the average Root Mean Squared Error (RMSE) through cross-validation. It takes two main inputs: the model itself and the dataset containing music review data. Utilizing the provided model and dataset, the function conducts cross-validation, which involves splitting the data into multiple subsets, training the model on some of these subsets, and evaluating its performance on the remaining ones. "
   ]
  },
  {
   "cell_type": "code",
   "execution_count": 17,
   "metadata": {},
   "outputs": [],
   "source": [
    "def calculate_average_rmse(model, music_review):\n",
    "    # Perform cross-validation\n",
    "    results = cross_validate(model, music_review, measures=['RMSE'], cv=3, n_jobs=-1, verbose=True)\n",
    "    \n",
    "    # Average RMSE\n",
    "    average_rmse = round(sum(results[\"test_rmse\"]) / len(results[\"test_rmse\"]), 3)\n",
    "    return average_rmse"
   ]
  },
  {
   "cell_type": "markdown",
   "metadata": {},
   "source": [
    "### train test split using Surprise\n",
    "> As the ratings have been normalized, the rating scale is now defined as (-3.973140495867769, 3.891891891891892).Load the music review dataset into the Surprise Dataset object, selecting columns 'reviewerID', 'asin', 'normalized_rating'. "
   ]
  },
  {
   "cell_type": "code",
   "execution_count": 18,
   "metadata": {},
   "outputs": [],
   "source": [
    "# Define the rating scale for the Reader object, specifying the minimum and maximum values\n",
    "reader = Reader(rating_scale=(-3.973140495867769, 3.891891891891892))\n",
    "\n",
    "# Load the music review dataset into the Surprise Dataset object, selecting specific columns\n",
    "music_review = Dataset.load_from_df(music_review2[['reviewerID', 'asin', 'normalized_rating']], reader)\n",
    "\n",
    "# Split the dataset into training and testing sets, with a test size of 20% and a fixed random state for reproducibility\n",
    "trainset, testset = train_test_split(music_review, test_size=0.2, random_state=42)\n"
   ]
  },
  {
   "cell_type": "markdown",
   "metadata": {},
   "source": [
    "### Simple Model"
   ]
  },
  {
   "cell_type": "markdown",
   "metadata": {},
   "source": [
    "#### NormalPredictor"
   ]
  },
  {
   "cell_type": "code",
   "execution_count": 19,
   "metadata": {},
   "outputs": [
    {
     "name": "stdout",
     "output_type": "stream",
     "text": [
      "Evaluating RMSE of algorithm NormalPredictor on 3 split(s).\n",
      "\n",
      "                  Fold 1  Fold 2  Fold 3  Mean    Std     \n",
      "RMSE (testset)    0.7875  0.7873  0.7867  0.7872  0.0004  \n",
      "Fit time          0.77    0.76    0.68    0.73    0.04    \n",
      "Test time         2.05    1.83    1.65    1.84    0.17    \n",
      "Average RMSE from cross-validation is : 0.787\n"
     ]
    }
   ],
   "source": [
    "# Instantiate a NormalPredictor model\n",
    "NP = NormalPredictor()\n",
    "\n",
    "# Fit the NormalPredictor model on the training set\n",
    "NP.fit(trainset)\n",
    "\n",
    "# Generate predictions for the test set based on the model fit on the training set\n",
    "predictions = NP.test(testset)\n",
    "\n",
    "# Calculate the average RMSE using cross-validation for the NormalPredictor model\n",
    "average_rmse_NP = calculate_average_rmse(NP, music_review)\n",
    "\n",
    "# Print the average RMSE obtained from cross-validation\n",
    "print(f'Average RMSE from cross-validation is : {average_rmse_NP}')"
   ]
  },
  {
   "cell_type": "markdown",
   "metadata": {},
   "source": [
    "### SVD"
   ]
  },
  {
   "cell_type": "code",
   "execution_count": 20,
   "metadata": {},
   "outputs": [
    {
     "name": "stdout",
     "output_type": "stream",
     "text": [
      "RMSE: 0.5897\n",
      "Evaluating RMSE of algorithm SVD on 3 split(s).\n",
      "\n",
      "                  Fold 1  Fold 2  Fold 3  Mean    Std     \n",
      "RMSE (testset)    0.5852  0.5829  0.5852  0.5844  0.0011  \n",
      "Fit time          47.66   47.37   47.52   47.51   0.12    \n",
      "Test time         3.22    3.08    2.57    2.96    0.28    \n",
      "Average RMSE from cross-validation is : 0.584\n"
     ]
    }
   ],
   "source": [
    "# Create a basic SVD model with a specified random state\n",
    "svd_basic = SVD(random_state=42)\n",
    "\n",
    "# Fit the basic SVD model to the training set\n",
    "svd_basic.fit(trainset)\n",
    "predictions = svd_basic.test(testset)\n",
    "\n",
    "# Calculate the RMSE for the predictions and store it in svd_simple\n",
    "svd_simple = accuracy.rmse(predictions)\n",
    "\n",
    "# Calculate the average RMSE across all folds using the calculate_average_rmse function\n",
    "average_rmse_SVD1 = calculate_average_rmse(svd_basic, music_review)\n",
    "print(f'Average RMSE from cross-validation is : {average_rmse_SVD1}')"
   ]
  },
  {
   "cell_type": "markdown",
   "metadata": {},
   "source": [
    "##### svd_basic grid search"
   ]
  },
  {
   "cell_type": "code",
   "execution_count": 21,
   "metadata": {},
   "outputs": [],
   "source": [
    "# # Define a range of hyperparameters for GridSearchCV with SVD++\n",
    "# param_grid = {\n",
    "#     'n_factors': [50, 100, 150],  # Number of factors\n",
    "#     'n_epochs': [20, 30],  # Number of epochs\n",
    "#     'lr_all': [0.005, 0.01],  # Learning rate\n",
    "#     'reg_all': [0.02, 0.1]  # Regularization term\n",
    "# }\n",
    "\n",
    "# # Setup GridSearchCV with SVD++\n",
    "# gs_svd = GridSearchCV(SVD, param_grid, measures=['rmse', 'mae'], cv=3, n_jobs=-1)\n",
    "\n",
    "# # Fit the model\n",
    "# gs_svd.fit(music_review)\n",
    "\n",
    "# # Best score and parameters\n",
    "# best_rmse = gs_svd.best_score['rmse']\n",
    "# best_params = gs_svd.best_params['rmse']\n",
    "\n",
    "# print(f\"Best RMSE: {best_rmse}\")\n",
    "# print(f\"Best parameters: {best_params}\")\n"
   ]
  },
  {
   "cell_type": "markdown",
   "metadata": {},
   "source": [
    "Best RMSE: 1.0993641323939394\n",
    "\n",
    "Best parameters: {'n_factors': 50, 'n_epochs': 30, 'lr_all': 0.01, 'reg_all': 0.1}"
   ]
  },
  {
   "cell_type": "code",
   "execution_count": 22,
   "metadata": {},
   "outputs": [
    {
     "name": "stdout",
     "output_type": "stream",
     "text": [
      "RMSE: 0.6198\n",
      "Evaluating RMSE of algorithm SVD on 3 split(s).\n",
      "\n",
      "                  Fold 1  Fold 2  Fold 3  Mean    Std     \n",
      "RMSE (testset)    0.6122  0.6146  0.6119  0.6129  0.0012  \n",
      "Fit time          43.98   44.13   44.65   44.25   0.29    \n",
      "Test time         3.16    2.99    2.52    2.89    0.27    \n",
      "Average RMSE from cross-validation is : 0.613\n"
     ]
    }
   ],
   "source": [
    "# Define a more complex SVD model with specified parameters\n",
    "SVD_2 = SVD(n_factors=50, n_epochs=30, lr_all=0.01, reg_all=0.1, random_state=42)\n",
    "\n",
    "# Fit the more complex SVD model to the training set\n",
    "SVD_2.fit(trainset)\n",
    "predictions = SVD_2.test(testset)\n",
    "\n",
    "# Calculate the RMSE for the predictions and store it in svd_simple\n",
    "svd_simple = accuracy.rmse(predictions)\n",
    "\n",
    "# Calculate the average RMSE across all folds using the calculate_average_rmse function\n",
    "average_rmse_SVD2 = calculate_average_rmse(SVD_2, music_review)\n",
    "print(f'Average RMSE from cross-validation is : {average_rmse_SVD2}')"
   ]
  },
  {
   "cell_type": "markdown",
   "metadata": {},
   "source": [
    "##### second SVD_3 gride search"
   ]
  },
  {
   "cell_type": "code",
   "execution_count": 23,
   "metadata": {
    "scrolled": true
   },
   "outputs": [],
   "source": [
    "# # Setup new hyperparameter dictionary\n",
    "# svd_param_grid2 = {'n_factors':[5, 20],\n",
    "#                   'n_epochs': [20, 40], \n",
    "#                   'lr_all': [0.05, .005],\n",
    "#                   'reg_all': [0.01, 0.02]}\n",
    "# svd_gr_3 = GridSearchCV(SVD,param_grid=svd_param_grid2,joblib_verbose=10, n_jobs=-1, cv=3)\n",
    "\n",
    "# # Return best_params based on RMSE\n",
    "# svd_gr_3 .fit(music_review)\n",
    "# svd_gr_3 .best_params['rmse']"
   ]
  },
  {
   "cell_type": "markdown",
   "metadata": {},
   "source": [
    "{'n_factors': 5, 'n_epochs': 20, 'lr_all': 0.005, 'reg_all': 0.02}"
   ]
  },
  {
   "cell_type": "code",
   "execution_count": 24,
   "metadata": {},
   "outputs": [
    {
     "name": "stdout",
     "output_type": "stream",
     "text": [
      "RMSE: 0.5871\n",
      "Evaluating RMSE of algorithm SVD on 3 split(s).\n",
      "\n",
      "                  Fold 1  Fold 2  Fold 3  Mean    Std     \n",
      "RMSE (testset)    0.5832  0.5812  0.5816  0.5820  0.0008  \n",
      "Fit time          14.70   15.26   16.02   15.33   0.54    \n",
      "Test time         3.68    3.45    2.73    3.29    0.41    \n",
      "Average RMSE from cross-validation is : 0.582\n"
     ]
    }
   ],
   "source": [
    "# Define SVD model with specified parameters\n",
    "SVD_3 = SVD(n_factors=5, n_epochs=20, lr_all=0.005, reg_all=0.02, random_state=42)\n",
    "\n",
    "# Fit the SVD model to the training set\n",
    "SVD_3.fit(trainset)\n",
    "predictions = SVD_3.test(testset)\n",
    "\n",
    "# Calculate the RMSE for the predictions and store it in svd_simple_3\n",
    "svd_simple_3 = accuracy.rmse(predictions)\n",
    "\n",
    "# Calculate the average RMSE across all folds using the calculate_average_rmse function\n",
    "average_rmse_SVD3 = calculate_average_rmse(SVD_3, music_review)\n",
    "print(f'Average RMSE from cross-validation is : {average_rmse_SVD3}')\n"
   ]
  },
  {
   "cell_type": "markdown",
   "metadata": {},
   "source": [
    "## SVD++"
   ]
  },
  {
   "cell_type": "code",
   "execution_count": 25,
   "metadata": {},
   "outputs": [
    {
     "name": "stdout",
     "output_type": "stream",
     "text": [
      "RMSE: 0.6042\n"
     ]
    }
   ],
   "source": [
    "# Instantiate - fit on trainset - score the model on testset\n",
    "SVDpp_basic= SVDpp(n_factors=1, n_epochs=25, random_state=42, reg_all=0.05)\n",
    "SVDpp_basic.fit(trainset)\n",
    "predictions = SVDpp_basic.test(testset)\n",
    "SVDpp_gs = accuracy.rmse(predictions)"
   ]
  },
  {
   "cell_type": "markdown",
   "metadata": {},
   "source": [
    "#### SVDpp ++ gride search"
   ]
  },
  {
   "cell_type": "code",
   "execution_count": 26,
   "metadata": {
    "scrolled": true
   },
   "outputs": [],
   "source": [
    "# param_grid = {'n_factors':[1, 5],\n",
    "#                     'n_epochs':[25, 50],\n",
    "#                     'reg_all':[0.02, 0.05]}\n",
    "\n",
    "# # Setup GridSearchCV with SVD++\n",
    "# gs_svdpp = GridSearchCV(SVDpp, param_grid, cv=3, joblib_verbose=10, n_jobs=-1, return_train_measures=True)\n",
    "\n",
    "\n",
    "# # Return best_params based on RMSE\n",
    "# gs_svdpp .fit(music_review)\n",
    "# gs_svdpp .best_params['rmse']"
   ]
  },
  {
   "cell_type": "code",
   "execution_count": 31,
   "metadata": {},
   "outputs": [
    {
     "name": "stdout",
     "output_type": "stream",
     "text": [
      "RMSE: 0.6040\n"
     ]
    }
   ],
   "source": [
    "SVDpp_2= SVDpp(n_factors=5, n_epochs=25, random_state=42, reg_all=0.05)\n",
    "SVDpp_2.fit(trainset)\n",
    "predictions = SVDpp_2.test(testset)\n",
    "SVDpp_2_gs = accuracy.rmse(predictions)"
   ]
  },
  {
   "cell_type": "markdown",
   "metadata": {},
   "source": [
    "## coClustering"
   ]
  },
  {
   "cell_type": "code",
   "execution_count": 32,
   "metadata": {},
   "outputs": [],
   "source": [
    "# from surprise import CoClustering  # Importing the CoClustering algorithm\n",
    "\n",
    "# # Define a CoClustering model with specified parameters\n",
    "# co_clustering = CoClustering(n_cltr_u=3, n_cltr_i=3, n_epochs=30, random_state=42)\n",
    "\n",
    "# # Fit the CoClustering model to the training set\n",
    "# co_clustering.fit(trainset)\n",
    "\n",
    "# # Generate predictions on the test set using the CoClustering model\n",
    "# predictions = co_clustering.test(testset)\n",
    "\n",
    "# # Calculate the RMSE for the predictions and store it in co_clustering_simple\n",
    "# co_clustering_simple = accuracy.rmse(predictions)\n",
    "\n",
    "# # Calculate the average RMSE across all folds using the calculate_average_rmse function\n",
    "# average_rmse_co_clustering = calculate_average_rmse(co_clustering, music_review)\n",
    "# print(f'Average RMSE from cross-validation is : {average_rmse_co_clustering}')\n"
   ]
  },
  {
   "cell_type": "code",
   "execution_count": 33,
   "metadata": {},
   "outputs": [],
   "source": [
    "results = {\n",
    "    'NormalPredictor': average_rmse_NP,\n",
    "    'svd_basic': average_rmse_SVD1,\n",
    "    'SVD_2 ': average_rmse_SVD2,\n",
    "    'SVD_3':average_rmse_SVD3,\n",
    "    'SVDpp_basic':SVDpp_gs,\n",
    "    'SVDpp_2':SVDpp_2_gs, \n",
    "#     'co_clustering' : average_rmse_co_clustering,\n",
    "}"
   ]
  },
  {
   "cell_type": "code",
   "execution_count": 35,
   "metadata": {},
   "outputs": [
    {
     "data": {
      "image/png": "[encoded data removed]",
      "text/plain": [
       "<Figure size 720x432 with 1 Axes>"
      ]
     },
     "metadata": {
      "needs_background": "light"
     },
     "output_type": "display_data"
    }
   ],
   "source": [
    "import matplotlib.pyplot as plt\n",
    "\n",
    "# Sort results based on values\n",
    "sorted_results = dict(sorted(results.items(), key=lambda item: item[1]))\n",
    "\n",
    "# Create a bar plot\n",
    "fig, ax = plt.subplots(figsize=(10, 6))\n",
    "\n",
    "colors = ['#c7dfeb', '#494373', '#9ebbd7', '#7d92bf', '#a6cee3', '#1f78b4', '#33a02c']\n",
    "\n",
    "plt.bar(sorted_results.keys(), sorted_results.values(), color=colors)\n",
    "\n",
    "plt.xlabel('Models')\n",
    "plt.ylabel('Cross-validation Score')\n",
    "plt.title('Cross-validation Score Comparison for Different Models')\n",
    "plt.xticks(rotation=45, ha=\"right\")\n",
    "\n",
    "plt.savefig('./Images/Model_evaluation.png')\n",
    "\n",
    "# Show the plot\n",
    "plt.show()\n",
    "\n"
   ]
  },
  {
   "cell_type": "markdown",
   "metadata": {},
   "source": [
    "## Recommendation function "
   ]
  },
  {
   "cell_type": "markdown",
   "metadata": {},
   "source": [
    "#### pickle\n",
    "> pickel the best model"
   ]
  },
  {
   "cell_type": "code",
   "execution_count": 36,
   "metadata": {},
   "outputs": [
    {
     "data": {
      "text/plain": [
       "<surprise.prediction_algorithms.matrix_factorization.SVD at 0x210ba58c580>"
      ]
     },
     "execution_count": 36,
     "metadata": {},
     "output_type": "execute_result"
    }
   ],
   "source": [
    "# Using Surprise, a full trainset incorporating all data can be built\n",
    "trainset_full = music_review.build_full_trainset()\n",
    "\n",
    "# Fit the SVD3 model to the full trainset to make full predictions\n",
    "SVD_3.fit(trainset_full)\n"
   ]
  },
  {
   "cell_type": "code",
   "execution_count": 37,
   "metadata": {},
   "outputs": [],
   "source": [
    "model_filename = 'SVD3.pkl'\n",
    "with open(model_filename, 'wb') as file:\n",
    "    pickle.dump(SVD_3, file)"
   ]
  },
  {
   "cell_type": "code",
   "execution_count": 38,
   "metadata": {},
   "outputs": [],
   "source": [
    "music_meta = pd.read_csv('./Data/music_meta.csv')\n",
    "music_meta.drop(columns =['Unnamed: 0'], inplace=True)"
   ]
  },
  {
   "cell_type": "code",
   "execution_count": 39,
   "metadata": {},
   "outputs": [
    {
     "data": {
      "text/html": [
       "<div>\n",
       "<style scoped>\n",
       "    .dataframe tbody tr th:only-of-type {\n",
       "        vertical-align: middle;\n",
       "    }\n",
       "\n",
       "    .dataframe tbody tr th {\n",
       "        vertical-align: top;\n",
       "    }\n",
       "\n",
       "    .dataframe thead th {\n",
       "        text-align: right;\n",
       "    }\n",
       "</style>\n",
       "<table border=\"1\" class=\"dataframe\">\n",
       "  <thead>\n",
       "    <tr style=\"text-align: right;\">\n",
       "      <th></th>\n",
       "      <th>description</th>\n",
       "      <th>title</th>\n",
       "      <th>brand</th>\n",
       "      <th>asin</th>\n",
       "      <th>style</th>\n",
       "    </tr>\n",
       "  </thead>\n",
       "  <tbody>\n",
       "    <tr>\n",
       "      <th>0</th>\n",
       "      <td>[]</td>\n",
       "      <td>Master Collection Volume One</td>\n",
       "      <td>John Michael Talbot</td>\n",
       "      <td>0001377647</td>\n",
       "      <td>Audio CD</td>\n",
       "    </tr>\n",
       "    <tr>\n",
       "      <th>1</th>\n",
       "      <td>[]</td>\n",
       "      <td>Hymns Collection: Hymns 1 &amp;amp; 2</td>\n",
       "      <td>Second Chapter of Acts</td>\n",
       "      <td>0001529145</td>\n",
       "      <td>Audio CD</td>\n",
       "    </tr>\n",
       "    <tr>\n",
       "      <th>2</th>\n",
       "      <td>[]</td>\n",
       "      <td>Early Works - Don Francisco</td>\n",
       "      <td>Don Francisco</td>\n",
       "      <td>0001527134</td>\n",
       "      <td>Audio CD</td>\n",
       "    </tr>\n",
       "    <tr>\n",
       "      <th>3</th>\n",
       "      <td>[]</td>\n",
       "      <td>So You Wanna Go Back to Egypt</td>\n",
       "      <td>Keith Green</td>\n",
       "      <td>0001388703</td>\n",
       "      <td>Audio CD</td>\n",
       "    </tr>\n",
       "    <tr>\n",
       "      <th>4</th>\n",
       "      <td>[\"1. Losing Game 2. I Can't Wait 3. Didn't He ...</td>\n",
       "      <td>Early Works - Dallas Holm</td>\n",
       "      <td>Dallas Holm</td>\n",
       "      <td>0001526146</td>\n",
       "      <td>Audio CD</td>\n",
       "    </tr>\n",
       "  </tbody>\n",
       "</table>\n",
       "</div>"
      ],
      "text/plain": [
       "                                         description  \\\n",
       "0                                                 []   \n",
       "1                                                 []   \n",
       "2                                                 []   \n",
       "3                                                 []   \n",
       "4  [\"1. Losing Game 2. I Can't Wait 3. Didn't He ...   \n",
       "\n",
       "                               title                   brand        asin  \\\n",
       "0       Master Collection Volume One     John Michael Talbot  0001377647   \n",
       "1  Hymns Collection: Hymns 1 &amp; 2  Second Chapter of Acts  0001529145   \n",
       "2        Early Works - Don Francisco           Don Francisco  0001527134   \n",
       "3      So You Wanna Go Back to Egypt             Keith Green  0001388703   \n",
       "4          Early Works - Dallas Holm             Dallas Holm  0001526146   \n",
       "\n",
       "       style  \n",
       "0   Audio CD  \n",
       "1   Audio CD  \n",
       "2   Audio CD  \n",
       "3   Audio CD  \n",
       "4   Audio CD  "
      ]
     },
     "execution_count": 39,
     "metadata": {},
     "output_type": "execute_result"
    }
   ],
   "source": [
    "music_meta.head()"
   ]
  },
  {
   "cell_type": "code",
   "execution_count": 40,
   "metadata": {
    "scrolled": false
   },
   "outputs": [
    {
     "data": {
      "text/html": [
       "<div>\n",
       "<style scoped>\n",
       "    .dataframe tbody tr th:only-of-type {\n",
       "        vertical-align: middle;\n",
       "    }\n",
       "\n",
       "    .dataframe tbody tr th {\n",
       "        vertical-align: top;\n",
       "    }\n",
       "\n",
       "    .dataframe thead th {\n",
       "        text-align: right;\n",
       "    }\n",
       "</style>\n",
       "<table border=\"1\" class=\"dataframe\">\n",
       "  <thead>\n",
       "    <tr style=\"text-align: right;\">\n",
       "      <th></th>\n",
       "      <th>asin</th>\n",
       "    </tr>\n",
       "    <tr>\n",
       "      <th>reviewerID</th>\n",
       "      <th></th>\n",
       "    </tr>\n",
       "  </thead>\n",
       "  <tbody>\n",
       "    <tr>\n",
       "      <th>A12R54MKO17TW0</th>\n",
       "      <td>0001388703</td>\n",
       "    </tr>\n",
       "    <tr>\n",
       "      <th>A12R54MKO17TW0</th>\n",
       "      <td>B000VZJS84</td>\n",
       "    </tr>\n",
       "    <tr>\n",
       "      <th>A12R54MKO17TW0</th>\n",
       "      <td>B000WLNUN6</td>\n",
       "    </tr>\n",
       "    <tr>\n",
       "      <th>A12R54MKO17TW0</th>\n",
       "      <td>B001232RGE</td>\n",
       "    </tr>\n",
       "    <tr>\n",
       "      <th>A12R54MKO17TW0</th>\n",
       "      <td>B00123KDR4</td>\n",
       "    </tr>\n",
       "  </tbody>\n",
       "</table>\n",
       "</div>"
      ],
      "text/plain": [
       "                      asin\n",
       "reviewerID                \n",
       "A12R54MKO17TW0  0001388703\n",
       "A12R54MKO17TW0  B000VZJS84\n",
       "A12R54MKO17TW0  B000WLNUN6\n",
       "A12R54MKO17TW0  B001232RGE\n",
       "A12R54MKO17TW0  B00123KDR4"
      ]
     },
     "execution_count": 40,
     "metadata": {},
     "output_type": "execute_result"
    }
   ],
   "source": [
    "music_review_fun=music_review2.set_index('reviewerID')\n",
    "music_review_fun.drop(columns=['overall', 'reviewText', 'overall_avg', 'normalized_rating'], inplace=True)\n",
    "music_review_fun.head()"
   ]
  },
  {
   "cell_type": "markdown",
   "metadata": {},
   "source": [
    ">The get_recommendations2 function aims to provide personalized recommendations for a given user based on their past reviews and predicted ratings. which  allows users to receive tailored recommendations based on their historical reviews and predicted preferences, thereby enhancing their overall experience with the music recommendation system."
   ]
  },
  {
   "cell_type": "code",
   "execution_count": 43,
   "metadata": {},
   "outputs": [
    {
     "name": "stdout",
     "output_type": "stream",
     "text": [
      "UserId: A12R54MKO17TW0\n",
      "How many recommendations? 5\n"
     ]
    },
    {
     "data": {
      "text/html": [
       "<div>\n",
       "<style scoped>\n",
       "    .dataframe tbody tr th:only-of-type {\n",
       "        vertical-align: middle;\n",
       "    }\n",
       "\n",
       "    .dataframe tbody tr th {\n",
       "        vertical-align: top;\n",
       "    }\n",
       "\n",
       "    .dataframe thead th {\n",
       "        text-align: right;\n",
       "    }\n",
       "</style>\n",
       "<table border=\"1\" class=\"dataframe\">\n",
       "  <thead>\n",
       "    <tr style=\"text-align: right;\">\n",
       "      <th></th>\n",
       "      <th>index</th>\n",
       "      <th>description</th>\n",
       "      <th>title</th>\n",
       "      <th>brand</th>\n",
       "      <th>asin</th>\n",
       "      <th>style</th>\n",
       "      <th>est_rating</th>\n",
       "    </tr>\n",
       "  </thead>\n",
       "  <tbody>\n",
       "    <tr>\n",
       "      <th>73134</th>\n",
       "      <td>73168</td>\n",
       "      <td>[\"This is a bundling of two remastered albums ...</td>\n",
       "      <td>Nirvana Nevermind and in Utero</td>\n",
       "      <td>Nirvana</td>\n",
       "      <td>B01BWT8CCU</td>\n",
       "      <td>MP3 Music</td>\n",
       "      <td>0.493886</td>\n",
       "    </tr>\n",
       "    <tr>\n",
       "      <th>64375</th>\n",
       "      <td>64409</td>\n",
       "      <td>[\"Who's Afraid of Virginia Woolf? (Original Br...</td>\n",
       "      <td>Who's Afraid of Virginia Woolf? Original Broad...</td>\n",
       "      <td>Original Broadway Cast of Who's Afraid of Virg...</td>\n",
       "      <td>B00J3CTVXI</td>\n",
       "      <td>MP3 Music</td>\n",
       "      <td>0.453622</td>\n",
       "    </tr>\n",
       "    <tr>\n",
       "      <th>60132</th>\n",
       "      <td>60166</td>\n",
       "      <td>['RECOPILACION DE SUS GRANDES EXITOS']</td>\n",
       "      <td>ANTOLOGIA MUSICAL (3 CD'S + DVD)</td>\n",
       "      <td>Los Bukis</td>\n",
       "      <td>B00CFXXTK8</td>\n",
       "      <td>MP3 Music</td>\n",
       "      <td>0.439563</td>\n",
       "    </tr>\n",
       "    <tr>\n",
       "      <th>22710</th>\n",
       "      <td>22717</td>\n",
       "      <td>[]</td>\n",
       "      <td>Beginning of Something Big</td>\n",
       "      <td>Chad Frey</td>\n",
       "      <td>B000CAJF0E</td>\n",
       "      <td>Unknown</td>\n",
       "      <td>0.429563</td>\n",
       "    </tr>\n",
       "    <tr>\n",
       "      <th>38371</th>\n",
       "      <td>38394</td>\n",
       "      <td>[]</td>\n",
       "      <td>Marching on Your Parade</td>\n",
       "      <td>Chad Frey</td>\n",
       "      <td>B001CISAHY</td>\n",
       "      <td>MP3 Music</td>\n",
       "      <td>0.396934</td>\n",
       "    </tr>\n",
       "  </tbody>\n",
       "</table>\n",
       "</div>"
      ],
      "text/plain": [
       "       index                                        description  \\\n",
       "73134  73168  [\"This is a bundling of two remastered albums ...   \n",
       "64375  64409  [\"Who's Afraid of Virginia Woolf? (Original Br...   \n",
       "60132  60166             ['RECOPILACION DE SUS GRANDES EXITOS']   \n",
       "22710  22717                                                 []   \n",
       "38371  38394                                                 []   \n",
       "\n",
       "                                                   title  \\\n",
       "73134                     Nirvana Nevermind and in Utero   \n",
       "64375  Who's Afraid of Virginia Woolf? Original Broad...   \n",
       "60132                   ANTOLOGIA MUSICAL (3 CD'S + DVD)   \n",
       "22710                         Beginning of Something Big   \n",
       "38371                            Marching on Your Parade   \n",
       "\n",
       "                                                   brand        asin  \\\n",
       "73134                                            Nirvana  B01BWT8CCU   \n",
       "64375  Original Broadway Cast of Who's Afraid of Virg...  B00J3CTVXI   \n",
       "60132                                          Los Bukis  B00CFXXTK8   \n",
       "22710                                          Chad Frey  B000CAJF0E   \n",
       "38371                                          Chad Frey  B001CISAHY   \n",
       "\n",
       "            style  est_rating  \n",
       "73134   MP3 Music    0.493886  \n",
       "64375   MP3 Music    0.453622  \n",
       "60132   MP3 Music    0.439563  \n",
       "22710     Unknown    0.429563  \n",
       "38371   MP3 Music    0.396934  "
      ]
     },
     "execution_count": 43,
     "metadata": {},
     "output_type": "execute_result"
    }
   ],
   "source": [
    "def get_recommendations(user_id, num_recommendations):\n",
    "    try:\n",
    "        have_reviewed = list(music_review_fun.loc[user_id, 'asin'])\n",
    "    except KeyError:\n",
    "        return \"User ID not found or user hasn't reviewed any items.\"\n",
    "\n",
    "    not_reviewed = music_meta[~music_meta['asin'].isin(have_reviewed)].copy()\n",
    "    not_reviewed.reset_index(inplace=True)\n",
    "\n",
    "    if not_reviewed.empty:\n",
    "        return \"All items have been reviewed by the user.\"\n",
    "\n",
    "    # Use loc to avoid SettingWithCopyWarning\n",
    "    not_reviewed.loc[:, 'est_rating'] = not_reviewed['asin'].apply(lambda x: SVD_3.predict(user_id, x).est)\n",
    "    not_reviewed.sort_values(by='est_rating', ascending=False, inplace=True)\n",
    "\n",
    "    # Get top n recommendations\n",
    "    recommendations = not_reviewed.head(num_recommendations)\n",
    "\n",
    "    return recommendations\n",
    "\n",
    "# Example usage:\n",
    "user = input('UserId: ')\n",
    "n_recs = int(input('How many recommendations? '))\n",
    "recommendations = get_recommendations(user, n_recs)\n",
    "recommendations\n"
   ]
  },
  {
   "cell_type": "code",
   "execution_count": null,
   "metadata": {},
   "outputs": [],
   "source": []
  }
 ],
 "metadata": {
  "kernelspec": {
   "display_name": "Python 3",
   "language": "python",
   "name": "python3"
  },
  "language_info": {
   "codemirror_mode": {
    "name": "ipython",
    "version": 3
   },
   "file_extension": ".py",
   "mimetype": "text/x-python",
   "name": "python",
   "nbconvert_exporter": "python",
   "pygments_lexer": "ipython3",
   "version": "3.8.5"
  }
 },
 "nbformat": 4,
 "nbformat_minor": 4
}
