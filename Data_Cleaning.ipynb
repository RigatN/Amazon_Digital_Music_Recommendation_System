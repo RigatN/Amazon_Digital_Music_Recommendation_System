{
 "cells": [
  {
   "cell_type": "code",
   "execution_count": 1,
   "metadata": {},
   "outputs": [],
   "source": [
    "import numpy as np\n",
    "import pandas as pd\n",
    "import json\n",
    "import gzip"
   ]
  },
  {
   "cell_type": "code",
   "execution_count": 2,
   "metadata": {},
   "outputs": [],
   "source": [
    "path_music='./Data/Digital_Music.json.gz'\n",
    "\n",
    "# Open the compressed file using gzip and read JSON content\n",
    "with gzip.open(path_music, 'rt', encoding='utf-8') as file:\n",
    "    # Use pd.read_json to parse the JSON content into a DataFrame\n",
    "    music = pd.read_json(file, lines=True)"
   ]
  },
  {
   "cell_type": "code",
   "execution_count": 3,
   "metadata": {},
   "outputs": [],
   "source": [
    "# Specify the path to your compressed JSON file\n",
    "path_meta = './Data/meta_Digital_Music.json.gz'\n",
    "\n",
    "# Open the compressed file using gzip and read JSON content\n",
    "with gzip.open(path_meta, 'rt', encoding='utf-8') as file:\n",
    "    # Use pd.read_json to parse the JSON content into a DataFrame\n",
    "    meta = pd.read_json(file, lines=True)\n"
   ]
  },
  {
   "cell_type": "code",
   "execution_count": 4,
   "metadata": {},
   "outputs": [],
   "source": [
    "df_meta=pd.DataFrame(meta)"
   ]
  },
  {
   "cell_type": "code",
   "execution_count": 5,
   "metadata": {},
   "outputs": [
    {
     "data": {
      "text/plain": [
       "(74347, 19)"
      ]
     },
     "execution_count": 5,
     "metadata": {},
     "output_type": "execute_result"
    }
   ],
   "source": [
    "df_meta.shape"
   ]
  },
  {
   "cell_type": "code",
   "execution_count": 6,
   "metadata": {},
   "outputs": [],
   "source": [
    "df_music=pd.DataFrame(music)"
   ]
  },
  {
   "cell_type": "code",
   "execution_count": 7,
   "metadata": {},
   "outputs": [
    {
     "data": {
      "text/plain": [
       "(1584082, 12)"
      ]
     },
     "execution_count": 7,
     "metadata": {},
     "output_type": "execute_result"
    }
   ],
   "source": [
    "df_music.shape"
   ]
  },
  {
   "cell_type": "markdown",
   "metadata": {},
   "source": [
    "Merge the style from music to meta data"
   ]
  },
  {
   "cell_type": "code",
   "execution_count": 47,
   "metadata": {},
   "outputs": [],
   "source": [
    "\n",
    "# Define a function to extract the 'Format:' value from a dictionary\n",
    "def extract_format(style_dict):\n",
    "    if isinstance(style_dict, dict):\n",
    "        return style_dict.get('Format:', 'Unknown')\n",
    "    else:\n",
    "        return 'Unknown'\n",
    "\n",
    "# Extract the value corresponding to 'Format:' from the 'style' column of df_music\n",
    "df_meta['style'] = df_music['style'].apply(extract_format)\n"
   ]
  },
  {
   "cell_type": "code",
   "execution_count": 57,
   "metadata": {},
   "outputs": [],
   "source": [
    "columns=['imageURL', 'main_cat','category' , 'imageURLHighRes' , 'rank' , 'also_buy' , 'feature' , 'tech2', 'tech1' , 'also_view', 'similar_item', 'date' , 'details' ,'fit' , 'price']"
   ]
  },
  {
   "cell_type": "code",
   "execution_count": 58,
   "metadata": {},
   "outputs": [],
   "source": [
    "df_meta_2=df_meta.drop(columns , axis=1)"
   ]
  },
  {
   "cell_type": "markdown",
   "metadata": {},
   "source": [
    "Reviews of music"
   ]
  },
  {
   "cell_type": "code",
   "execution_count": 13,
   "metadata": {},
   "outputs": [
    {
     "data": {
      "text/plain": [
       "Index(['overall', 'verified', 'reviewTime', 'reviewerID', 'asin', 'style',\n",
       "       'reviewerName', 'reviewText', 'summary', 'unixReviewTime', 'vote',\n",
       "       'image'],\n",
       "      dtype='object')"
      ]
     },
     "execution_count": 13,
     "metadata": {},
     "output_type": "execute_result"
    }
   ],
   "source": [
    "music.columns"
   ]
  },
  {
   "cell_type": "code",
   "execution_count": 14,
   "metadata": {},
   "outputs": [],
   "source": [
    "columns_music=['verified' , 'reviewTime' , 'verified' , 'reviewTime' , 'unixReviewTime' ,'vote','image' ,'style','summary','reviewerName']"
   ]
  },
  {
   "cell_type": "code",
   "execution_count": 15,
   "metadata": {},
   "outputs": [],
   "source": [
    "music_2=music.drop(columns_music , axis=1)"
   ]
  },
  {
   "cell_type": "code",
   "execution_count": 16,
   "metadata": {},
   "outputs": [
    {
     "data": {
      "text/html": [
       "<div>\n",
       "<style scoped>\n",
       "    .dataframe tbody tr th:only-of-type {\n",
       "        vertical-align: middle;\n",
       "    }\n",
       "\n",
       "    .dataframe tbody tr th {\n",
       "        vertical-align: top;\n",
       "    }\n",
       "\n",
       "    .dataframe thead th {\n",
       "        text-align: right;\n",
       "    }\n",
       "</style>\n",
       "<table border=\"1\" class=\"dataframe\">\n",
       "  <thead>\n",
       "    <tr style=\"text-align: right;\">\n",
       "      <th></th>\n",
       "      <th>overall</th>\n",
       "      <th>reviewerID</th>\n",
       "      <th>asin</th>\n",
       "      <th>reviewText</th>\n",
       "    </tr>\n",
       "  </thead>\n",
       "  <tbody>\n",
       "    <tr>\n",
       "      <th>0</th>\n",
       "      <td>5</td>\n",
       "      <td>A1ZCPG3D3HGRSS</td>\n",
       "      <td>0001388703</td>\n",
       "      <td>This is a great cd full of worship favorites!!...</td>\n",
       "    </tr>\n",
       "    <tr>\n",
       "      <th>1</th>\n",
       "      <td>5</td>\n",
       "      <td>AC2PL52NKPL29</td>\n",
       "      <td>0001388703</td>\n",
       "      <td>So creative!  Love his music - the words, the ...</td>\n",
       "    </tr>\n",
       "    <tr>\n",
       "      <th>2</th>\n",
       "      <td>5</td>\n",
       "      <td>A1SUZXBDZSDQ3A</td>\n",
       "      <td>0001388703</td>\n",
       "      <td>Keith Green, gone far to early in his carreer,...</td>\n",
       "    </tr>\n",
       "    <tr>\n",
       "      <th>3</th>\n",
       "      <td>5</td>\n",
       "      <td>A3A0W7FZXM0IZW</td>\n",
       "      <td>0001388703</td>\n",
       "      <td>Keith Green had his special comedy style of Ch...</td>\n",
       "    </tr>\n",
       "    <tr>\n",
       "      <th>4</th>\n",
       "      <td>5</td>\n",
       "      <td>A12R54MKO17TW0</td>\n",
       "      <td>0001388703</td>\n",
       "      <td>Keith Green / So you wanna go back to Egypt......</td>\n",
       "    </tr>\n",
       "    <tr>\n",
       "      <th>...</th>\n",
       "      <td>...</td>\n",
       "      <td>...</td>\n",
       "      <td>...</td>\n",
       "      <td>...</td>\n",
       "    </tr>\n",
       "    <tr>\n",
       "      <th>1584077</th>\n",
       "      <td>5</td>\n",
       "      <td>AR3KABMPL5L0O</td>\n",
       "      <td>B01HJ91P94</td>\n",
       "      <td>Casting Crowns....you do it so well! Awesome s...</td>\n",
       "    </tr>\n",
       "    <tr>\n",
       "      <th>1584078</th>\n",
       "      <td>4</td>\n",
       "      <td>A2N53GHW73INDH</td>\n",
       "      <td>B01HJ91P94</td>\n",
       "      <td>This band has produced many inspiring Christia...</td>\n",
       "    </tr>\n",
       "    <tr>\n",
       "      <th>1584079</th>\n",
       "      <td>5</td>\n",
       "      <td>ABNKLDCCVJKW1</td>\n",
       "      <td>B01HJ91P94</td>\n",
       "      <td>Awesome band and awesome song. This is my next...</td>\n",
       "    </tr>\n",
       "    <tr>\n",
       "      <th>1584080</th>\n",
       "      <td>5</td>\n",
       "      <td>AMWSDABZWFRAT</td>\n",
       "      <td>B01HJ91IVY</td>\n",
       "      <td>Excellent</td>\n",
       "    </tr>\n",
       "    <tr>\n",
       "      <th>1584081</th>\n",
       "      <td>5</td>\n",
       "      <td>A7K5263R5OUIP</td>\n",
       "      <td>B01HJ91IVY</td>\n",
       "      <td>This is a moving song. I used it on Easter mor...</td>\n",
       "    </tr>\n",
       "  </tbody>\n",
       "</table>\n",
       "<p>1584082 rows × 4 columns</p>\n",
       "</div>"
      ],
      "text/plain": [
       "         overall      reviewerID        asin  \\\n",
       "0              5  A1ZCPG3D3HGRSS  0001388703   \n",
       "1              5   AC2PL52NKPL29  0001388703   \n",
       "2              5  A1SUZXBDZSDQ3A  0001388703   \n",
       "3              5  A3A0W7FZXM0IZW  0001388703   \n",
       "4              5  A12R54MKO17TW0  0001388703   \n",
       "...          ...             ...         ...   \n",
       "1584077        5   AR3KABMPL5L0O  B01HJ91P94   \n",
       "1584078        4  A2N53GHW73INDH  B01HJ91P94   \n",
       "1584079        5   ABNKLDCCVJKW1  B01HJ91P94   \n",
       "1584080        5   AMWSDABZWFRAT  B01HJ91IVY   \n",
       "1584081        5   A7K5263R5OUIP  B01HJ91IVY   \n",
       "\n",
       "                                                reviewText  \n",
       "0        This is a great cd full of worship favorites!!...  \n",
       "1        So creative!  Love his music - the words, the ...  \n",
       "2        Keith Green, gone far to early in his carreer,...  \n",
       "3        Keith Green had his special comedy style of Ch...  \n",
       "4        Keith Green / So you wanna go back to Egypt......  \n",
       "...                                                    ...  \n",
       "1584077  Casting Crowns....you do it so well! Awesome s...  \n",
       "1584078  This band has produced many inspiring Christia...  \n",
       "1584079  Awesome band and awesome song. This is my next...  \n",
       "1584080                                          Excellent  \n",
       "1584081  This is a moving song. I used it on Easter mor...  \n",
       "\n",
       "[1584082 rows x 4 columns]"
      ]
     },
     "execution_count": 16,
     "metadata": {},
     "output_type": "execute_result"
    }
   ],
   "source": [
    "music_2"
   ]
  },
  {
   "cell_type": "code",
   "execution_count": 17,
   "metadata": {},
   "outputs": [],
   "source": [
    "music_2.dropna(inplace=True)"
   ]
  },
  {
   "cell_type": "code",
   "execution_count": 18,
   "metadata": {},
   "outputs": [
    {
     "name": "stdout",
     "output_type": "stream",
     "text": [
      "<class 'pandas.core.frame.DataFrame'>\n",
      "Int64Index: 1582629 entries, 0 to 1584081\n",
      "Data columns (total 4 columns):\n",
      " #   Column      Non-Null Count    Dtype \n",
      "---  ------      --------------    ----- \n",
      " 0   overall     1582629 non-null  int64 \n",
      " 1   reviewerID  1582629 non-null  object\n",
      " 2   asin        1582629 non-null  object\n",
      " 3   reviewText  1582629 non-null  object\n",
      "dtypes: int64(1), object(3)\n",
      "memory usage: 60.4+ MB\n"
     ]
    }
   ],
   "source": [
    "music_2.info()"
   ]
  },
  {
   "cell_type": "code",
   "execution_count": 19,
   "metadata": {},
   "outputs": [],
   "source": [
    "asin_list=df_meta_2['asin'].tolist()"
   ]
  },
  {
   "cell_type": "code",
   "execution_count": 20,
   "metadata": {},
   "outputs": [],
   "source": [
    "music_2.drop_duplicates(inplace=True)"
   ]
  },
  {
   "cell_type": "code",
   "execution_count": 21,
   "metadata": {},
   "outputs": [
    {
     "data": {
      "text/plain": [
       "overall       0\n",
       "reviewerID    0\n",
       "asin          0\n",
       "reviewText    0\n",
       "dtype: int64"
      ]
     },
     "execution_count": 21,
     "metadata": {},
     "output_type": "execute_result"
    }
   ],
   "source": [
    "music_2.isna().sum()"
   ]
  },
  {
   "cell_type": "code",
   "execution_count": 22,
   "metadata": {},
   "outputs": [],
   "source": [
    "music_2.to_csv('./Data/music_review.csv')"
   ]
  },
  {
   "cell_type": "code",
   "execution_count": 23,
   "metadata": {},
   "outputs": [
    {
     "data": {
      "text/html": [
       "<div>\n",
       "<style scoped>\n",
       "    .dataframe tbody tr th:only-of-type {\n",
       "        vertical-align: middle;\n",
       "    }\n",
       "\n",
       "    .dataframe tbody tr th {\n",
       "        vertical-align: top;\n",
       "    }\n",
       "\n",
       "    .dataframe thead th {\n",
       "        text-align: right;\n",
       "    }\n",
       "</style>\n",
       "<table border=\"1\" class=\"dataframe\">\n",
       "  <thead>\n",
       "    <tr style=\"text-align: right;\">\n",
       "      <th></th>\n",
       "      <th>overall</th>\n",
       "      <th>reviewerID</th>\n",
       "      <th>asin</th>\n",
       "      <th>reviewText</th>\n",
       "    </tr>\n",
       "  </thead>\n",
       "  <tbody>\n",
       "    <tr>\n",
       "      <th>0</th>\n",
       "      <td>5</td>\n",
       "      <td>A1ZCPG3D3HGRSS</td>\n",
       "      <td>0001388703</td>\n",
       "      <td>This is a great cd full of worship favorites!!...</td>\n",
       "    </tr>\n",
       "    <tr>\n",
       "      <th>1</th>\n",
       "      <td>5</td>\n",
       "      <td>AC2PL52NKPL29</td>\n",
       "      <td>0001388703</td>\n",
       "      <td>So creative!  Love his music - the words, the ...</td>\n",
       "    </tr>\n",
       "    <tr>\n",
       "      <th>2</th>\n",
       "      <td>5</td>\n",
       "      <td>A1SUZXBDZSDQ3A</td>\n",
       "      <td>0001388703</td>\n",
       "      <td>Keith Green, gone far to early in his carreer,...</td>\n",
       "    </tr>\n",
       "    <tr>\n",
       "      <th>3</th>\n",
       "      <td>5</td>\n",
       "      <td>A3A0W7FZXM0IZW</td>\n",
       "      <td>0001388703</td>\n",
       "      <td>Keith Green had his special comedy style of Ch...</td>\n",
       "    </tr>\n",
       "    <tr>\n",
       "      <th>4</th>\n",
       "      <td>5</td>\n",
       "      <td>A12R54MKO17TW0</td>\n",
       "      <td>0001388703</td>\n",
       "      <td>Keith Green / So you wanna go back to Egypt......</td>\n",
       "    </tr>\n",
       "    <tr>\n",
       "      <th>...</th>\n",
       "      <td>...</td>\n",
       "      <td>...</td>\n",
       "      <td>...</td>\n",
       "      <td>...</td>\n",
       "    </tr>\n",
       "    <tr>\n",
       "      <th>1584077</th>\n",
       "      <td>5</td>\n",
       "      <td>AR3KABMPL5L0O</td>\n",
       "      <td>B01HJ91P94</td>\n",
       "      <td>Casting Crowns....you do it so well! Awesome s...</td>\n",
       "    </tr>\n",
       "    <tr>\n",
       "      <th>1584078</th>\n",
       "      <td>4</td>\n",
       "      <td>A2N53GHW73INDH</td>\n",
       "      <td>B01HJ91P94</td>\n",
       "      <td>This band has produced many inspiring Christia...</td>\n",
       "    </tr>\n",
       "    <tr>\n",
       "      <th>1584079</th>\n",
       "      <td>5</td>\n",
       "      <td>ABNKLDCCVJKW1</td>\n",
       "      <td>B01HJ91P94</td>\n",
       "      <td>Awesome band and awesome song. This is my next...</td>\n",
       "    </tr>\n",
       "    <tr>\n",
       "      <th>1584080</th>\n",
       "      <td>5</td>\n",
       "      <td>AMWSDABZWFRAT</td>\n",
       "      <td>B01HJ91IVY</td>\n",
       "      <td>Excellent</td>\n",
       "    </tr>\n",
       "    <tr>\n",
       "      <th>1584081</th>\n",
       "      <td>5</td>\n",
       "      <td>A7K5263R5OUIP</td>\n",
       "      <td>B01HJ91IVY</td>\n",
       "      <td>This is a moving song. I used it on Easter mor...</td>\n",
       "    </tr>\n",
       "  </tbody>\n",
       "</table>\n",
       "<p>1517686 rows × 4 columns</p>\n",
       "</div>"
      ],
      "text/plain": [
       "         overall      reviewerID        asin  \\\n",
       "0              5  A1ZCPG3D3HGRSS  0001388703   \n",
       "1              5   AC2PL52NKPL29  0001388703   \n",
       "2              5  A1SUZXBDZSDQ3A  0001388703   \n",
       "3              5  A3A0W7FZXM0IZW  0001388703   \n",
       "4              5  A12R54MKO17TW0  0001388703   \n",
       "...          ...             ...         ...   \n",
       "1584077        5   AR3KABMPL5L0O  B01HJ91P94   \n",
       "1584078        4  A2N53GHW73INDH  B01HJ91P94   \n",
       "1584079        5   ABNKLDCCVJKW1  B01HJ91P94   \n",
       "1584080        5   AMWSDABZWFRAT  B01HJ91IVY   \n",
       "1584081        5   A7K5263R5OUIP  B01HJ91IVY   \n",
       "\n",
       "                                                reviewText  \n",
       "0        This is a great cd full of worship favorites!!...  \n",
       "1        So creative!  Love his music - the words, the ...  \n",
       "2        Keith Green, gone far to early in his carreer,...  \n",
       "3        Keith Green had his special comedy style of Ch...  \n",
       "4        Keith Green / So you wanna go back to Egypt......  \n",
       "...                                                    ...  \n",
       "1584077  Casting Crowns....you do it so well! Awesome s...  \n",
       "1584078  This band has produced many inspiring Christia...  \n",
       "1584079  Awesome band and awesome song. This is my next...  \n",
       "1584080                                          Excellent  \n",
       "1584081  This is a moving song. I used it on Easter mor...  \n",
       "\n",
       "[1517686 rows x 4 columns]"
      ]
     },
     "execution_count": 23,
     "metadata": {},
     "output_type": "execute_result"
    }
   ],
   "source": [
    "music_2"
   ]
  },
  {
   "cell_type": "markdown",
   "metadata": {},
   "source": [
    "meta_data"
   ]
  },
  {
   "cell_type": "code",
   "execution_count": 61,
   "metadata": {},
   "outputs": [
    {
     "name": "stdout",
     "output_type": "stream",
     "text": [
      "<class 'pandas.core.frame.DataFrame'>\n",
      "RangeIndex: 74347 entries, 0 to 74346\n",
      "Data columns (total 5 columns):\n",
      " #   Column       Non-Null Count  Dtype \n",
      "---  ------       --------------  ----- \n",
      " 0   description  74347 non-null  object\n",
      " 1   title        74347 non-null  object\n",
      " 2   brand        74347 non-null  object\n",
      " 3   asin         74347 non-null  object\n",
      " 4   style        74347 non-null  object\n",
      "dtypes: object(5)\n",
      "memory usage: 2.8+ MB\n"
     ]
    }
   ],
   "source": [
    "df_meta_2.info()"
   ]
  },
  {
   "cell_type": "code",
   "execution_count": 62,
   "metadata": {},
   "outputs": [],
   "source": [
    "df_meta_2.to_csv('./Data/music_meta.csv')"
   ]
  },
  {
   "cell_type": "code",
   "execution_count": null,
   "metadata": {},
   "outputs": [],
   "source": []
  }
 ],
 "metadata": {
  "kernelspec": {
   "display_name": "Python 3",
   "language": "python",
   "name": "python3"
  },
  "language_info": {
   "codemirror_mode": {
    "name": "ipython",
    "version": 3
   },
   "file_extension": ".py",
   "mimetype": "text/x-python",
   "name": "python",
   "nbconvert_exporter": "python",
   "pygments_lexer": "ipython3",
   "version": "3.8.5"
  }
 },
 "nbformat": 4,
 "nbformat_minor": 4
}
