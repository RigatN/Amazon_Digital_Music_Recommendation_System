{
 "cells": [
  {
   "cell_type": "code",
   "execution_count": 1,
   "metadata": {},
   "outputs": [],
   "source": [
    "import numpy as np\n",
    "import pandas as pd\n",
    "import json\n",
    "import gzip"
   ]
  },
  {
   "cell_type": "code",
   "execution_count": 2,
   "metadata": {},
   "outputs": [],
   "source": [
    "path_music='./Data/Digital_Music.json.gz'\n",
    "\n",
    "# Open the compressed file using gzip and read JSON content\n",
    "with gzip.open(path_music, 'rt', encoding='utf-8') as file:\n",
    "    # Use pd.read_json to parse the JSON content into a DataFrame\n",
    "    music = pd.read_json(file, lines=True)"
   ]
  },
  {
   "cell_type": "code",
   "execution_count": 3,
   "metadata": {},
   "outputs": [],
   "source": [
    "# Specify the path to your compressed JSON file\n",
    "path_meta = './Data/meta_Digital_Music.json.gz'\n",
    "\n",
    "# Open the compressed file using gzip and read JSON content\n",
    "with gzip.open(path_meta, 'rt', encoding='utf-8') as file:\n",
    "    # Use pd.read_json to parse the JSON content into a DataFrame\n",
    "    meta = pd.read_json(file, lines=True)\n"
   ]
  },
  {
   "cell_type": "code",
   "execution_count": 4,
   "metadata": {},
   "outputs": [],
   "source": [
    "df_meta=pd.DataFrame(meta)"
   ]
  },
  {
   "cell_type": "code",
   "execution_count": 5,
   "metadata": {},
   "outputs": [
    {
     "data": {
      "text/plain": [
       "(74347, 19)"
      ]
     },
     "execution_count": 5,
     "metadata": {},
     "output_type": "execute_result"
    }
   ],
   "source": [
    "df_meta.shape"
   ]
  },
  {
   "cell_type": "code",
   "execution_count": 6,
   "metadata": {},
   "outputs": [],
   "source": [
    "df_music=pd.DataFrame(music)"
   ]
  },
  {
   "cell_type": "code",
   "execution_count": 7,
   "metadata": {},
   "outputs": [
    {
     "data": {
      "text/plain": [
       "(1584082, 12)"
      ]
     },
     "execution_count": 7,
     "metadata": {},
     "output_type": "execute_result"
    }
   ],
   "source": [
    "df_music.shape"
   ]
  },
  {
   "cell_type": "markdown",
   "metadata": {},
   "source": [
    "Meta data"
   ]
  },
  {
   "cell_type": "code",
   "execution_count": 8,
   "metadata": {
    "scrolled": true
   },
   "outputs": [
    {
     "data": {
      "text/html": [
       "<div>\n",
       "<style scoped>\n",
       "    .dataframe tbody tr th:only-of-type {\n",
       "        vertical-align: middle;\n",
       "    }\n",
       "\n",
       "    .dataframe tbody tr th {\n",
       "        vertical-align: top;\n",
       "    }\n",
       "\n",
       "    .dataframe thead th {\n",
       "        text-align: right;\n",
       "    }\n",
       "</style>\n",
       "<table border=\"1\" class=\"dataframe\">\n",
       "  <thead>\n",
       "    <tr style=\"text-align: right;\">\n",
       "      <th></th>\n",
       "      <th>overall</th>\n",
       "      <th>verified</th>\n",
       "      <th>reviewTime</th>\n",
       "      <th>reviewerID</th>\n",
       "      <th>asin</th>\n",
       "      <th>style</th>\n",
       "      <th>reviewerName</th>\n",
       "      <th>reviewText</th>\n",
       "      <th>summary</th>\n",
       "      <th>unixReviewTime</th>\n",
       "      <th>vote</th>\n",
       "      <th>image</th>\n",
       "    </tr>\n",
       "  </thead>\n",
       "  <tbody>\n",
       "    <tr>\n",
       "      <th>0</th>\n",
       "      <td>5</td>\n",
       "      <td>True</td>\n",
       "      <td>12 22, 2013</td>\n",
       "      <td>A1ZCPG3D3HGRSS</td>\n",
       "      <td>0001388703</td>\n",
       "      <td>{'Format:': ' Audio CD'}</td>\n",
       "      <td>mark l. massey</td>\n",
       "      <td>This is a great cd full of worship favorites!!...</td>\n",
       "      <td>Great worship cd</td>\n",
       "      <td>1387670400</td>\n",
       "      <td>NaN</td>\n",
       "      <td>NaN</td>\n",
       "    </tr>\n",
       "    <tr>\n",
       "      <th>1</th>\n",
       "      <td>5</td>\n",
       "      <td>True</td>\n",
       "      <td>09 11, 2013</td>\n",
       "      <td>AC2PL52NKPL29</td>\n",
       "      <td>0001388703</td>\n",
       "      <td>{'Format:': ' Audio CD'}</td>\n",
       "      <td>Norma Mushen</td>\n",
       "      <td>So creative!  Love his music - the words, the ...</td>\n",
       "      <td>Gotta listen to this!</td>\n",
       "      <td>1378857600</td>\n",
       "      <td>NaN</td>\n",
       "      <td>NaN</td>\n",
       "    </tr>\n",
       "  </tbody>\n",
       "</table>\n",
       "</div>"
      ],
      "text/plain": [
       "   overall  verified   reviewTime      reviewerID        asin  \\\n",
       "0        5      True  12 22, 2013  A1ZCPG3D3HGRSS  0001388703   \n",
       "1        5      True  09 11, 2013   AC2PL52NKPL29  0001388703   \n",
       "\n",
       "                      style    reviewerName  \\\n",
       "0  {'Format:': ' Audio CD'}  mark l. massey   \n",
       "1  {'Format:': ' Audio CD'}    Norma Mushen   \n",
       "\n",
       "                                          reviewText                summary  \\\n",
       "0  This is a great cd full of worship favorites!!...       Great worship cd   \n",
       "1  So creative!  Love his music - the words, the ...  Gotta listen to this!   \n",
       "\n",
       "   unixReviewTime vote image  \n",
       "0      1387670400  NaN   NaN  \n",
       "1      1378857600  NaN   NaN  "
      ]
     },
     "execution_count": 8,
     "metadata": {},
     "output_type": "execute_result"
    }
   ],
   "source": [
    "df_music.head(2)"
   ]
  },
  {
   "cell_type": "code",
   "execution_count": 9,
   "metadata": {},
   "outputs": [
    {
     "data": {
      "text/plain": [
       "Index(['category', 'tech1', 'description', 'fit', 'title', 'also_buy', 'tech2',\n",
       "       'brand', 'feature', 'rank', 'also_view', 'main_cat', 'similar_item',\n",
       "       'date', 'price', 'asin', 'imageURL', 'imageURLHighRes', 'details'],\n",
       "      dtype='object')"
      ]
     },
     "execution_count": 9,
     "metadata": {},
     "output_type": "execute_result"
    }
   ],
   "source": [
    "df_meta.columns"
   ]
  },
  {
   "cell_type": "code",
   "execution_count": 10,
   "metadata": {},
   "outputs": [],
   "source": [
    "columns=['imageURL', 'category' , 'imageURLHighRes' , 'rank' , 'also_buy' , 'feature' , 'tech2', 'tech1' , 'similar_item', 'date' , 'details' ,'fit' , 'price']"
   ]
  },
  {
   "cell_type": "code",
   "execution_count": 11,
   "metadata": {},
   "outputs": [],
   "source": [
    "df_meta_2=df_meta.drop(columns , axis=1)"
   ]
  },
  {
   "cell_type": "code",
   "execution_count": 12,
   "metadata": {},
   "outputs": [
    {
     "data": {
      "text/html": [
       "<div>\n",
       "<style scoped>\n",
       "    .dataframe tbody tr th:only-of-type {\n",
       "        vertical-align: middle;\n",
       "    }\n",
       "\n",
       "    .dataframe tbody tr th {\n",
       "        vertical-align: top;\n",
       "    }\n",
       "\n",
       "    .dataframe thead th {\n",
       "        text-align: right;\n",
       "    }\n",
       "</style>\n",
       "<table border=\"1\" class=\"dataframe\">\n",
       "  <thead>\n",
       "    <tr style=\"text-align: right;\">\n",
       "      <th></th>\n",
       "      <th>description</th>\n",
       "      <th>title</th>\n",
       "      <th>brand</th>\n",
       "      <th>also_view</th>\n",
       "      <th>main_cat</th>\n",
       "      <th>asin</th>\n",
       "    </tr>\n",
       "  </thead>\n",
       "  <tbody>\n",
       "    <tr>\n",
       "      <th>0</th>\n",
       "      <td>[]</td>\n",
       "      <td>Master Collection Volume One</td>\n",
       "      <td>John Michael Talbot</td>\n",
       "      <td>[B000002UEN, B000008LD5, 7474034352, B000008LD...</td>\n",
       "      <td>&lt;img src=\"https://images-na.ssl-images-amazon....</td>\n",
       "      <td>0001377647</td>\n",
       "    </tr>\n",
       "    <tr>\n",
       "      <th>1</th>\n",
       "      <td>[]</td>\n",
       "      <td>Hymns Collection: Hymns 1 &amp;amp; 2</td>\n",
       "      <td>Second Chapter of Acts</td>\n",
       "      <td>[B000008KJ3, B000008KJ0, 5558154950, B000UN8KZ...</td>\n",
       "      <td>&lt;img src=\"https://images-na.ssl-images-amazon....</td>\n",
       "      <td>0001529145</td>\n",
       "    </tr>\n",
       "    <tr>\n",
       "      <th>2</th>\n",
       "      <td>[]</td>\n",
       "      <td>Early Works - Don Francisco</td>\n",
       "      <td>Don Francisco</td>\n",
       "      <td>[B003H8F4NA, B003ZFVHPO, B003JMP1ZK, B00004RC0...</td>\n",
       "      <td>&lt;img src=\"https://images-na.ssl-images-amazon....</td>\n",
       "      <td>0001527134</td>\n",
       "    </tr>\n",
       "    <tr>\n",
       "      <th>3</th>\n",
       "      <td>[]</td>\n",
       "      <td>So You Wanna Go Back to Egypt</td>\n",
       "      <td>Keith Green</td>\n",
       "      <td>[B00000I7JO, B0016CP2GS, 0001393774, B0000275Q...</td>\n",
       "      <td>&lt;img src=\"https://images-na.ssl-images-amazon....</td>\n",
       "      <td>0001388703</td>\n",
       "    </tr>\n",
       "    <tr>\n",
       "      <th>4</th>\n",
       "      <td>[1. Losing Game 2. I Can't Wait 3. Didn't He S...</td>\n",
       "      <td>Early Works - Dallas Holm</td>\n",
       "      <td>Dallas Holm</td>\n",
       "      <td>[B0002N4JP2, 0760131694, B00150K8JC, B003MTXNV...</td>\n",
       "      <td>&lt;img src=\"https://images-na.ssl-images-amazon....</td>\n",
       "      <td>0001526146</td>\n",
       "    </tr>\n",
       "  </tbody>\n",
       "</table>\n",
       "</div>"
      ],
      "text/plain": [
       "                                         description  \\\n",
       "0                                                 []   \n",
       "1                                                 []   \n",
       "2                                                 []   \n",
       "3                                                 []   \n",
       "4  [1. Losing Game 2. I Can't Wait 3. Didn't He S...   \n",
       "\n",
       "                               title                   brand  \\\n",
       "0       Master Collection Volume One     John Michael Talbot   \n",
       "1  Hymns Collection: Hymns 1 &amp; 2  Second Chapter of Acts   \n",
       "2        Early Works - Don Francisco           Don Francisco   \n",
       "3      So You Wanna Go Back to Egypt             Keith Green   \n",
       "4          Early Works - Dallas Holm             Dallas Holm   \n",
       "\n",
       "                                           also_view  \\\n",
       "0  [B000002UEN, B000008LD5, 7474034352, B000008LD...   \n",
       "1  [B000008KJ3, B000008KJ0, 5558154950, B000UN8KZ...   \n",
       "2  [B003H8F4NA, B003ZFVHPO, B003JMP1ZK, B00004RC0...   \n",
       "3  [B00000I7JO, B0016CP2GS, 0001393774, B0000275Q...   \n",
       "4  [B0002N4JP2, 0760131694, B00150K8JC, B003MTXNV...   \n",
       "\n",
       "                                            main_cat        asin  \n",
       "0  <img src=\"https://images-na.ssl-images-amazon....  0001377647  \n",
       "1  <img src=\"https://images-na.ssl-images-amazon....  0001529145  \n",
       "2  <img src=\"https://images-na.ssl-images-amazon....  0001527134  \n",
       "3  <img src=\"https://images-na.ssl-images-amazon....  0001388703  \n",
       "4  <img src=\"https://images-na.ssl-images-amazon....  0001526146  "
      ]
     },
     "execution_count": 12,
     "metadata": {},
     "output_type": "execute_result"
    }
   ],
   "source": [
    "df_meta_2.head()"
   ]
  },
  {
   "cell_type": "markdown",
   "metadata": {},
   "source": [
    "Reviews of music"
   ]
  },
  {
   "cell_type": "code",
   "execution_count": 13,
   "metadata": {},
   "outputs": [
    {
     "data": {
      "text/plain": [
       "Index(['overall', 'verified', 'reviewTime', 'reviewerID', 'asin', 'style',\n",
       "       'reviewerName', 'reviewText', 'summary', 'unixReviewTime', 'vote',\n",
       "       'image'],\n",
       "      dtype='object')"
      ]
     },
     "execution_count": 13,
     "metadata": {},
     "output_type": "execute_result"
    }
   ],
   "source": [
    "music.columns"
   ]
  },
  {
   "cell_type": "code",
   "execution_count": 23,
   "metadata": {},
   "outputs": [],
   "source": [
    "columns_music=['verified' , 'reviewTime' , 'verified' , 'reviewTime' , 'unixReviewTime' ,'vote','image' ,'style','summary','reviewerName']"
   ]
  },
  {
   "cell_type": "code",
   "execution_count": 24,
   "metadata": {},
   "outputs": [],
   "source": [
    "music_2=music.drop(columns_music , axis=1)"
   ]
  },
  {
   "cell_type": "code",
   "execution_count": 25,
   "metadata": {},
   "outputs": [
    {
     "data": {
      "text/html": [
       "<div>\n",
       "<style scoped>\n",
       "    .dataframe tbody tr th:only-of-type {\n",
       "        vertical-align: middle;\n",
       "    }\n",
       "\n",
       "    .dataframe tbody tr th {\n",
       "        vertical-align: top;\n",
       "    }\n",
       "\n",
       "    .dataframe thead th {\n",
       "        text-align: right;\n",
       "    }\n",
       "</style>\n",
       "<table border=\"1\" class=\"dataframe\">\n",
       "  <thead>\n",
       "    <tr style=\"text-align: right;\">\n",
       "      <th></th>\n",
       "      <th>overall</th>\n",
       "      <th>reviewerID</th>\n",
       "      <th>asin</th>\n",
       "      <th>reviewText</th>\n",
       "    </tr>\n",
       "  </thead>\n",
       "  <tbody>\n",
       "    <tr>\n",
       "      <th>0</th>\n",
       "      <td>5</td>\n",
       "      <td>A1ZCPG3D3HGRSS</td>\n",
       "      <td>0001388703</td>\n",
       "      <td>This is a great cd full of worship favorites!!...</td>\n",
       "    </tr>\n",
       "    <tr>\n",
       "      <th>1</th>\n",
       "      <td>5</td>\n",
       "      <td>AC2PL52NKPL29</td>\n",
       "      <td>0001388703</td>\n",
       "      <td>So creative!  Love his music - the words, the ...</td>\n",
       "    </tr>\n",
       "    <tr>\n",
       "      <th>2</th>\n",
       "      <td>5</td>\n",
       "      <td>A1SUZXBDZSDQ3A</td>\n",
       "      <td>0001388703</td>\n",
       "      <td>Keith Green, gone far to early in his carreer,...</td>\n",
       "    </tr>\n",
       "    <tr>\n",
       "      <th>3</th>\n",
       "      <td>5</td>\n",
       "      <td>A3A0W7FZXM0IZW</td>\n",
       "      <td>0001388703</td>\n",
       "      <td>Keith Green had his special comedy style of Ch...</td>\n",
       "    </tr>\n",
       "    <tr>\n",
       "      <th>4</th>\n",
       "      <td>5</td>\n",
       "      <td>A12R54MKO17TW0</td>\n",
       "      <td>0001388703</td>\n",
       "      <td>Keith Green / So you wanna go back to Egypt......</td>\n",
       "    </tr>\n",
       "    <tr>\n",
       "      <th>...</th>\n",
       "      <td>...</td>\n",
       "      <td>...</td>\n",
       "      <td>...</td>\n",
       "      <td>...</td>\n",
       "    </tr>\n",
       "    <tr>\n",
       "      <th>1584077</th>\n",
       "      <td>5</td>\n",
       "      <td>AR3KABMPL5L0O</td>\n",
       "      <td>B01HJ91P94</td>\n",
       "      <td>Casting Crowns....you do it so well! Awesome s...</td>\n",
       "    </tr>\n",
       "    <tr>\n",
       "      <th>1584078</th>\n",
       "      <td>4</td>\n",
       "      <td>A2N53GHW73INDH</td>\n",
       "      <td>B01HJ91P94</td>\n",
       "      <td>This band has produced many inspiring Christia...</td>\n",
       "    </tr>\n",
       "    <tr>\n",
       "      <th>1584079</th>\n",
       "      <td>5</td>\n",
       "      <td>ABNKLDCCVJKW1</td>\n",
       "      <td>B01HJ91P94</td>\n",
       "      <td>Awesome band and awesome song. This is my next...</td>\n",
       "    </tr>\n",
       "    <tr>\n",
       "      <th>1584080</th>\n",
       "      <td>5</td>\n",
       "      <td>AMWSDABZWFRAT</td>\n",
       "      <td>B01HJ91IVY</td>\n",
       "      <td>Excellent</td>\n",
       "    </tr>\n",
       "    <tr>\n",
       "      <th>1584081</th>\n",
       "      <td>5</td>\n",
       "      <td>A7K5263R5OUIP</td>\n",
       "      <td>B01HJ91IVY</td>\n",
       "      <td>This is a moving song. I used it on Easter mor...</td>\n",
       "    </tr>\n",
       "  </tbody>\n",
       "</table>\n",
       "<p>1584082 rows × 4 columns</p>\n",
       "</div>"
      ],
      "text/plain": [
       "         overall      reviewerID        asin  \\\n",
       "0              5  A1ZCPG3D3HGRSS  0001388703   \n",
       "1              5   AC2PL52NKPL29  0001388703   \n",
       "2              5  A1SUZXBDZSDQ3A  0001388703   \n",
       "3              5  A3A0W7FZXM0IZW  0001388703   \n",
       "4              5  A12R54MKO17TW0  0001388703   \n",
       "...          ...             ...         ...   \n",
       "1584077        5   AR3KABMPL5L0O  B01HJ91P94   \n",
       "1584078        4  A2N53GHW73INDH  B01HJ91P94   \n",
       "1584079        5   ABNKLDCCVJKW1  B01HJ91P94   \n",
       "1584080        5   AMWSDABZWFRAT  B01HJ91IVY   \n",
       "1584081        5   A7K5263R5OUIP  B01HJ91IVY   \n",
       "\n",
       "                                                reviewText  \n",
       "0        This is a great cd full of worship favorites!!...  \n",
       "1        So creative!  Love his music - the words, the ...  \n",
       "2        Keith Green, gone far to early in his carreer,...  \n",
       "3        Keith Green had his special comedy style of Ch...  \n",
       "4        Keith Green / So you wanna go back to Egypt......  \n",
       "...                                                    ...  \n",
       "1584077  Casting Crowns....you do it so well! Awesome s...  \n",
       "1584078  This band has produced many inspiring Christia...  \n",
       "1584079  Awesome band and awesome song. This is my next...  \n",
       "1584080                                          Excellent  \n",
       "1584081  This is a moving song. I used it on Easter mor...  \n",
       "\n",
       "[1584082 rows x 4 columns]"
      ]
     },
     "execution_count": 25,
     "metadata": {},
     "output_type": "execute_result"
    }
   ],
   "source": [
    "music_2"
   ]
  },
  {
   "cell_type": "code",
   "execution_count": 27,
   "metadata": {},
   "outputs": [],
   "source": [
    "music_2.dropna(inplace=True)"
   ]
  },
  {
   "cell_type": "code",
   "execution_count": 28,
   "metadata": {},
   "outputs": [
    {
     "name": "stdout",
     "output_type": "stream",
     "text": [
      "<class 'pandas.core.frame.DataFrame'>\n",
      "Int64Index: 1582629 entries, 0 to 1584081\n",
      "Data columns (total 4 columns):\n",
      " #   Column      Non-Null Count    Dtype \n",
      "---  ------      --------------    ----- \n",
      " 0   overall     1582629 non-null  int64 \n",
      " 1   reviewerID  1582629 non-null  object\n",
      " 2   asin        1582629 non-null  object\n",
      " 3   reviewText  1582629 non-null  object\n",
      "dtypes: int64(1), object(3)\n",
      "memory usage: 60.4+ MB\n"
     ]
    }
   ],
   "source": [
    "music_2.info()"
   ]
  },
  {
   "cell_type": "code",
   "execution_count": 32,
   "metadata": {},
   "outputs": [],
   "source": [
    "asin_list=df_meta_2['asin'].tolist()"
   ]
  },
  {
   "cell_type": "code",
   "execution_count": 30,
   "metadata": {},
   "outputs": [],
   "source": [
    "music_2.drop_duplicates(inplace=True)"
   ]
  },
  {
   "cell_type": "code",
   "execution_count": 41,
   "metadata": {},
   "outputs": [
    {
     "data": {
      "text/plain": [
       "overall       0\n",
       "reviewerID    0\n",
       "asin          0\n",
       "reviewText    0\n",
       "dtype: int64"
      ]
     },
     "execution_count": 41,
     "metadata": {},
     "output_type": "execute_result"
    }
   ],
   "source": [
    "music_2.isna().sum()"
   ]
  },
  {
   "cell_type": "code",
   "execution_count": 40,
   "metadata": {},
   "outputs": [],
   "source": [
    "music_2.to_csv('./Data/music_review.csv')"
   ]
  },
  {
   "cell_type": "code",
   "execution_count": 42,
   "metadata": {},
   "outputs": [
    {
     "data": {
      "text/html": [
       "<div>\n",
       "<style scoped>\n",
       "    .dataframe tbody tr th:only-of-type {\n",
       "        vertical-align: middle;\n",
       "    }\n",
       "\n",
       "    .dataframe tbody tr th {\n",
       "        vertical-align: top;\n",
       "    }\n",
       "\n",
       "    .dataframe thead th {\n",
       "        text-align: right;\n",
       "    }\n",
       "</style>\n",
       "<table border=\"1\" class=\"dataframe\">\n",
       "  <thead>\n",
       "    <tr style=\"text-align: right;\">\n",
       "      <th></th>\n",
       "      <th>overall</th>\n",
       "      <th>reviewerID</th>\n",
       "      <th>asin</th>\n",
       "      <th>reviewText</th>\n",
       "    </tr>\n",
       "  </thead>\n",
       "  <tbody>\n",
       "    <tr>\n",
       "      <th>0</th>\n",
       "      <td>5</td>\n",
       "      <td>A1ZCPG3D3HGRSS</td>\n",
       "      <td>0001388703</td>\n",
       "      <td>This is a great cd full of worship favorites!!...</td>\n",
       "    </tr>\n",
       "    <tr>\n",
       "      <th>1</th>\n",
       "      <td>5</td>\n",
       "      <td>AC2PL52NKPL29</td>\n",
       "      <td>0001388703</td>\n",
       "      <td>So creative!  Love his music - the words, the ...</td>\n",
       "    </tr>\n",
       "    <tr>\n",
       "      <th>2</th>\n",
       "      <td>5</td>\n",
       "      <td>A1SUZXBDZSDQ3A</td>\n",
       "      <td>0001388703</td>\n",
       "      <td>Keith Green, gone far to early in his carreer,...</td>\n",
       "    </tr>\n",
       "    <tr>\n",
       "      <th>3</th>\n",
       "      <td>5</td>\n",
       "      <td>A3A0W7FZXM0IZW</td>\n",
       "      <td>0001388703</td>\n",
       "      <td>Keith Green had his special comedy style of Ch...</td>\n",
       "    </tr>\n",
       "    <tr>\n",
       "      <th>4</th>\n",
       "      <td>5</td>\n",
       "      <td>A12R54MKO17TW0</td>\n",
       "      <td>0001388703</td>\n",
       "      <td>Keith Green / So you wanna go back to Egypt......</td>\n",
       "    </tr>\n",
       "    <tr>\n",
       "      <th>...</th>\n",
       "      <td>...</td>\n",
       "      <td>...</td>\n",
       "      <td>...</td>\n",
       "      <td>...</td>\n",
       "    </tr>\n",
       "    <tr>\n",
       "      <th>1584077</th>\n",
       "      <td>5</td>\n",
       "      <td>AR3KABMPL5L0O</td>\n",
       "      <td>B01HJ91P94</td>\n",
       "      <td>Casting Crowns....you do it so well! Awesome s...</td>\n",
       "    </tr>\n",
       "    <tr>\n",
       "      <th>1584078</th>\n",
       "      <td>4</td>\n",
       "      <td>A2N53GHW73INDH</td>\n",
       "      <td>B01HJ91P94</td>\n",
       "      <td>This band has produced many inspiring Christia...</td>\n",
       "    </tr>\n",
       "    <tr>\n",
       "      <th>1584079</th>\n",
       "      <td>5</td>\n",
       "      <td>ABNKLDCCVJKW1</td>\n",
       "      <td>B01HJ91P94</td>\n",
       "      <td>Awesome band and awesome song. This is my next...</td>\n",
       "    </tr>\n",
       "    <tr>\n",
       "      <th>1584080</th>\n",
       "      <td>5</td>\n",
       "      <td>AMWSDABZWFRAT</td>\n",
       "      <td>B01HJ91IVY</td>\n",
       "      <td>Excellent</td>\n",
       "    </tr>\n",
       "    <tr>\n",
       "      <th>1584081</th>\n",
       "      <td>5</td>\n",
       "      <td>A7K5263R5OUIP</td>\n",
       "      <td>B01HJ91IVY</td>\n",
       "      <td>This is a moving song. I used it on Easter mor...</td>\n",
       "    </tr>\n",
       "  </tbody>\n",
       "</table>\n",
       "<p>1517686 rows × 4 columns</p>\n",
       "</div>"
      ],
      "text/plain": [
       "         overall      reviewerID        asin  \\\n",
       "0              5  A1ZCPG3D3HGRSS  0001388703   \n",
       "1              5   AC2PL52NKPL29  0001388703   \n",
       "2              5  A1SUZXBDZSDQ3A  0001388703   \n",
       "3              5  A3A0W7FZXM0IZW  0001388703   \n",
       "4              5  A12R54MKO17TW0  0001388703   \n",
       "...          ...             ...         ...   \n",
       "1584077        5   AR3KABMPL5L0O  B01HJ91P94   \n",
       "1584078        4  A2N53GHW73INDH  B01HJ91P94   \n",
       "1584079        5   ABNKLDCCVJKW1  B01HJ91P94   \n",
       "1584080        5   AMWSDABZWFRAT  B01HJ91IVY   \n",
       "1584081        5   A7K5263R5OUIP  B01HJ91IVY   \n",
       "\n",
       "                                                reviewText  \n",
       "0        This is a great cd full of worship favorites!!...  \n",
       "1        So creative!  Love his music - the words, the ...  \n",
       "2        Keith Green, gone far to early in his carreer,...  \n",
       "3        Keith Green had his special comedy style of Ch...  \n",
       "4        Keith Green / So you wanna go back to Egypt......  \n",
       "...                                                    ...  \n",
       "1584077  Casting Crowns....you do it so well! Awesome s...  \n",
       "1584078  This band has produced many inspiring Christia...  \n",
       "1584079  Awesome band and awesome song. This is my next...  \n",
       "1584080                                          Excellent  \n",
       "1584081  This is a moving song. I used it on Easter mor...  \n",
       "\n",
       "[1517686 rows x 4 columns]"
      ]
     },
     "execution_count": 42,
     "metadata": {},
     "output_type": "execute_result"
    }
   ],
   "source": [
    "music_2"
   ]
  },
  {
   "cell_type": "code",
   "execution_count": null,
   "metadata": {},
   "outputs": [],
   "source": []
  }
 ],
 "metadata": {
  "kernelspec": {
   "display_name": "Python 3",
   "language": "python",
   "name": "python3"
  },
  "language_info": {
   "codemirror_mode": {
    "name": "ipython",
    "version": 3
   },
   "file_extension": ".py",
   "mimetype": "text/x-python",
   "name": "python",
   "nbconvert_exporter": "python",
   "pygments_lexer": "ipython3",
   "version": "3.8.5"
  }
 },
 "nbformat": 4,
 "nbformat_minor": 4
}
